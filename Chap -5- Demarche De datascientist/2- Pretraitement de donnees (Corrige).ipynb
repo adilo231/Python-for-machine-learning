{
 "cells": [
  {
   "attachments": {},
   "cell_type": "markdown",
   "metadata": {
    "colab_type": "text",
    "id": "view-in-github"
   },
   "source": [
    "<a \n",
    "href=\"https://colab.research.google.com/github/adilo231/Python-for-machine-learning/blob/main/Chap -5- Demarche De datascientist/2- Pretraitement de donnees (Corrige).ipynb\" \n",
    "target=\"_parent\"><img src=\"https://colab.research.google.com/assets/colab-badge.svg\" alt=\"Open In Colab\"/></a>"
   ]
  },
  {
   "cell_type": "code",
   "execution_count": 1,
   "metadata": {
    "colab": {
     "base_uri": "https://localhost:8080/",
     "height": 17
    },
    "colab_type": "code",
    "id": "EOS91mievJyr",
    "outputId": "ea146814-de14-4270-d37c-b6fbe54471bc"
   },
   "outputs": [
    {
     "data": {
      "application/javascript": "IPython.OutputArea.auto_scroll_threshold = 9999\n",
      "text/plain": [
       "<IPython.core.display.Javascript object>"
      ]
     },
     "metadata": {},
     "output_type": "display_data"
    }
   ],
   "source": [
    "%%javascript\n",
    "IPython.OutputArea.auto_scroll_threshold = 9999"
   ]
  },
  {
   "cell_type": "code",
   "execution_count": 2,
   "metadata": {
    "colab": {
     "base_uri": "https://localhost:8080/",
     "height": 51
    },
    "colab_type": "code",
    "id": "Vfl6Jxw6vJyu",
    "outputId": "f0e00250-5cd1-41c6-f30e-bb47335454d7"
   },
   "outputs": [],
   "source": [
    "import numpy as np\n",
    "import pandas as pd\n",
    "import matplotlib.pyplot as plt\n",
    "import seaborn as sns"
   ]
  },
  {
   "cell_type": "code",
   "execution_count": 5,
   "metadata": {
    "colab": {
     "base_uri": "https://localhost:8080/",
     "height": 386
    },
    "colab_type": "code",
    "id": "7ReZHhe0vJyw",
    "outputId": "96e49d8e-cedb-43de-9bae-678f6fc6f24c"
   },
   "outputs": [],
   "source": [
    "\n",
    "data = pd.read_excel('Datasets/dataset.xlsx')\n",
    "df = data.copy()"
   ]
  },
  {
   "cell_type": "markdown",
   "metadata": {
    "colab_type": "text",
    "id": "_AHnVIi5vJyy"
   },
   "source": [
    "# PRE-PROCESSING\n",
    "\n",
    "- Création du Train set / Test set\n",
    "- Élimination des NaN : dropna(), imputation\n",
    "- Encodage\n",
    "- Suppression des valeurs aberrantes\n",
    "- Sélection de caractéristique (Feature Selection)\n",
    "- Ingénierie des caractéristique (Feature Engineering)\n",
    "- Mise à l'échelle des caractéristique (Feature Scaling)"
   ]
  },
  {
   "cell_type": "markdown",
   "metadata": {
    "colab_type": "text",
    "id": "Utxp9WEcvJy1"
   },
   "source": [
    "## Création des sous-ensembles "
   ]
  },
  {
   "cell_type": "code",
   "execution_count": 27,
   "metadata": {
    "colab": {},
    "colab_type": "code",
    "id": "ziegnMu3vJy1"
   },
   "outputs": [],
   "source": [
    "missing_rate = df.isna().sum()/df.shape[0]\n"
   ]
  },
  {
   "cell_type": "code",
   "execution_count": 28,
   "metadata": {
    "colab": {},
    "colab_type": "code",
    "id": "tJsNA3EIvJy3"
   },
   "outputs": [],
   "source": [
    "blood_columns = list(df.columns[(missing_rate < 0.9) & (missing_rate >0.88)])\n",
    "viral_columns = list(df.columns[(missing_rate < 0.80) & (missing_rate > 0.75)])"
   ]
  },
  {
   "cell_type": "code",
   "execution_count": 29,
   "metadata": {
    "colab": {},
    "colab_type": "code",
    "id": "kyF1e3FHvJy5"
   },
   "outputs": [],
   "source": [
    "key_columns = ['Patient age quantile', 'SARS-Cov-2 exam result']"
   ]
  },
  {
   "cell_type": "code",
   "execution_count": 30,
   "metadata": {
    "colab": {
     "base_uri": "https://localhost:8080/",
     "height": 306
    },
    "colab_type": "code",
    "id": "6weBpPP3vJy7",
    "outputId": "b2dca5f6-5644-4a08-bef2-09683e392a13"
   },
   "outputs": [],
   "source": [
    "df = df[key_columns + blood_columns + viral_columns]\n"
   ]
  },
  {
   "cell_type": "markdown",
   "metadata": {
    "colab_type": "text",
    "id": "kjDxmab7vJy9"
   },
   "source": [
    "## Data split - Nettoyage - Encodage"
   ]
  },
  {
   "cell_type": "code",
   "execution_count": 31,
   "metadata": {
    "colab": {},
    "colab_type": "code",
    "id": "FGoTxrGhvJy9"
   },
   "outputs": [],
   "source": [
    "from sklearn.model_selection import train_test_split"
   ]
  },
  {
   "cell_type": "code",
   "execution_count": 32,
   "metadata": {
    "colab": {},
    "colab_type": "code",
    "id": "dNOA3tuNvJy_"
   },
   "outputs": [],
   "source": [
    "trainset, testset = train_test_split(df, test_size=0.2, random_state=0)"
   ]
  },
  {
   "cell_type": "code",
   "execution_count": 33,
   "metadata": {
    "colab": {
     "base_uri": "https://localhost:8080/",
     "height": 68
    },
    "colab_type": "code",
    "id": "CRoPWXQovJzB",
    "outputId": "843f4ca3-37fb-4447-aca5-a988ad2c4a7b"
   },
   "outputs": [
    {
     "data": {
      "text/plain": [
       "negative    4068\n",
       "positive     447\n",
       "Name: SARS-Cov-2 exam result, dtype: int64"
      ]
     },
     "execution_count": 33,
     "metadata": {},
     "output_type": "execute_result"
    }
   ],
   "source": [
    "trainset['SARS-Cov-2 exam result'].value_counts()"
   ]
  },
  {
   "cell_type": "code",
   "execution_count": 34,
   "metadata": {
    "colab": {
     "base_uri": "https://localhost:8080/",
     "height": 68
    },
    "colab_type": "code",
    "id": "85m56b32vJzD",
    "outputId": "08751b73-6286-4175-f9c9-6e7f9351fe3f"
   },
   "outputs": [
    {
     "data": {
      "text/plain": [
       "negative    1018\n",
       "positive     111\n",
       "Name: SARS-Cov-2 exam result, dtype: int64"
      ]
     },
     "execution_count": 34,
     "metadata": {},
     "output_type": "execute_result"
    }
   ],
   "source": [
    "testset['SARS-Cov-2 exam result'].value_counts()"
   ]
  },
  {
   "cell_type": "code",
   "execution_count": 35,
   "metadata": {
    "colab": {},
    "colab_type": "code",
    "id": "3jgKiQcyvJzF"
   },
   "outputs": [],
   "source": [
    "def encodage(df):\n",
    "    code = {'negative':0,\n",
    "            'positive':1,\n",
    "            'not_detected':0,\n",
    "            'detected':1}\n",
    "    \n",
    "    for col in df.select_dtypes('object').columns:\n",
    "        df.loc[:,col] = df[col].map(code)\n",
    "        \n",
    "    return df"
   ]
  },
  {
   "cell_type": "code",
   "execution_count": 36,
   "metadata": {
    "colab": {},
    "colab_type": "code",
    "id": "RKdIkxtHvJzH"
   },
   "outputs": [],
   "source": [
    "def feature_engineering(df):\n",
    "    df['est malade'] = df[viral_columns].sum(axis=1) >= 1\n",
    "    df = df.drop(viral_columns, axis=1)\n",
    "    return df"
   ]
  },
  {
   "cell_type": "code",
   "execution_count": 37,
   "metadata": {
    "colab": {},
    "colab_type": "code",
    "id": "qcp9JvE5vJzJ"
   },
   "outputs": [],
   "source": [
    "def imputation(df):\n",
    "    df = df.dropna(axis=0)\n",
    "    return  df"
   ]
  },
  {
   "cell_type": "code",
   "execution_count": 38,
   "metadata": {
    "colab": {},
    "colab_type": "code",
    "id": "AKYCi3NnvJzK"
   },
   "outputs": [],
   "source": [
    "def preprocessing(df):\n",
    "    df = encodage(df)\n",
    "    df = imputation(df)\n",
    "    \n",
    "    X = df.drop('SARS-Cov-2 exam result', axis=1)\n",
    "    y = df['SARS-Cov-2 exam result']\n",
    "    print(y.value_counts())\n",
    "    \n",
    "    return X, y"
   ]
  },
  {
   "cell_type": "code",
   "execution_count": 39,
   "metadata": {
    "colab": {
     "base_uri": "https://localhost:8080/",
     "height": 272
    },
    "colab_type": "code",
    "id": "3KBs-ujBvJzM",
    "outputId": "2bcacce4-762f-437e-c4ed-51fc3b0f8462"
   },
   "outputs": [
    {
     "name": "stdout",
     "output_type": "stream",
     "text": [
      "0    258\n",
      "1     38\n",
      "Name: SARS-Cov-2 exam result, dtype: int64\n"
     ]
    },
    {
     "name": "stderr",
     "output_type": "stream",
     "text": [
      "/Users/mac/opt/anaconda3/lib/python3.8/site-packages/pandas/core/indexing.py:1745: SettingWithCopyWarning: \n",
      "A value is trying to be set on a copy of a slice from a DataFrame.\n",
      "Try using .loc[row_indexer,col_indexer] = value instead\n",
      "\n",
      "See the caveats in the documentation: https://pandas.pydata.org/pandas-docs/stable/user_guide/indexing.html#returning-a-view-versus-a-copy\n",
      "  isetter(ilocs[0], value)\n"
     ]
    }
   ],
   "source": [
    "X_train, y_train = preprocessing(trainset)"
   ]
  },
  {
   "cell_type": "code",
   "execution_count": 40,
   "metadata": {
    "colab": {
     "base_uri": "https://localhost:8080/",
     "height": 272
    },
    "colab_type": "code",
    "id": "DVf4oBdnvJzP",
    "outputId": "f96ad64d-7dfd-4c51-9f3e-bcc2fcdfd903"
   },
   "outputs": [
    {
     "name": "stdout",
     "output_type": "stream",
     "text": [
      "0    54\n",
      "1    12\n",
      "Name: SARS-Cov-2 exam result, dtype: int64\n"
     ]
    },
    {
     "name": "stderr",
     "output_type": "stream",
     "text": [
      "/Users/mac/opt/anaconda3/lib/python3.8/site-packages/pandas/core/indexing.py:1745: SettingWithCopyWarning: \n",
      "A value is trying to be set on a copy of a slice from a DataFrame.\n",
      "Try using .loc[row_indexer,col_indexer] = value instead\n",
      "\n",
      "See the caveats in the documentation: https://pandas.pydata.org/pandas-docs/stable/user_guide/indexing.html#returning-a-view-versus-a-copy\n",
      "  isetter(ilocs[0], value)\n"
     ]
    }
   ],
   "source": [
    "X_test, y_test = preprocessing(testset)"
   ]
  },
  {
   "cell_type": "markdown",
   "metadata": {
    "colab_type": "text",
    "id": "yLFEfMcmvJzQ"
   },
   "source": [
    "## Modellisation"
   ]
  },
  {
   "cell_type": "code",
   "execution_count": 41,
   "metadata": {
    "colab": {},
    "colab_type": "code",
    "id": "DaYCentPvJzR"
   },
   "outputs": [],
   "source": [
    "from sklearn.tree import DecisionTreeClassifier\n",
    "from sklearn.ensemble import RandomForestClassifier\n",
    "from sklearn.pipeline import make_pipeline\n",
    "from sklearn.feature_selection import SelectKBest, f_classif\n",
    "from sklearn.preprocessing import PolynomialFeatures\n",
    "from sklearn.decomposition import PCA"
   ]
  },
  {
   "cell_type": "code",
   "execution_count": 42,
   "metadata": {
    "colab": {},
    "colab_type": "code",
    "id": "A85d9oArvJzS"
   },
   "outputs": [],
   "source": [
    "model_1 = RandomForestClassifier(random_state=0)"
   ]
  },
  {
   "cell_type": "code",
   "execution_count": 53,
   "metadata": {
    "colab": {},
    "colab_type": "code",
    "id": "N-VDXhe2vJzU"
   },
   "outputs": [],
   "source": [
    "model_2 = make_pipeline(PolynomialFeatures(2), SelectKBest(f_classif, k=10),\n",
    "                      RandomForestClassifier(random_state=0))"
   ]
  },
  {
   "cell_type": "markdown",
   "metadata": {
    "colab_type": "text",
    "id": "_iwPzFFKvJzV"
   },
   "source": [
    "## Procédure d'évaluation"
   ]
  },
  {
   "cell_type": "code",
   "execution_count": 44,
   "metadata": {
    "colab": {},
    "colab_type": "code",
    "id": "thqK6zyxvJzW"
   },
   "outputs": [],
   "source": [
    "from sklearn.metrics import f1_score, confusion_matrix, classification_report\n",
    "from sklearn.model_selection import learning_curve"
   ]
  },
  {
   "cell_type": "code",
   "execution_count": 45,
   "metadata": {
    "colab": {},
    "colab_type": "code",
    "id": "Ig2M_p3FvJzX"
   },
   "outputs": [],
   "source": [
    "def evaluation(model):\n",
    "    \n",
    "    model.fit(X_train, y_train)\n",
    "    ypred = model.predict(X_test)\n",
    "    \n",
    "    print(confusion_matrix(y_test, ypred))\n",
    "    print(classification_report(y_test, ypred))\n",
    "    \n",
    "    N, train_score, val_score = learning_curve(model, X_train, y_train,\n",
    "                                              cv=4, scoring='f1',\n",
    "                                               train_sizes=np.linspace(0.1, 1, 10))\n",
    "    \n",
    "    \n",
    "    plt.figure(figsize=(12, 8))\n",
    "    plt.plot(N, train_score.mean(axis=1), label='train score')\n",
    "    plt.plot(N, val_score.mean(axis=1), label='validation score')\n",
    "    plt.legend()\n",
    "    \n",
    "    "
   ]
  },
  {
   "cell_type": "code",
   "execution_count": 46,
   "metadata": {
    "colab": {
     "base_uri": "https://localhost:8080/",
     "height": 670
    },
    "colab_type": "code",
    "id": "94u9GhSyvJzZ",
    "outputId": "1387dd13-97b5-463a-a11c-f298acd2364a"
   },
   "outputs": [
    {
     "name": "stdout",
     "output_type": "stream",
     "text": [
      "[[54  0]\n",
      " [11  1]]\n",
      "              precision    recall  f1-score   support\n",
      "\n",
      "           0       0.83      1.00      0.91        54\n",
      "           1       1.00      0.08      0.15        12\n",
      "\n",
      "    accuracy                           0.83        66\n",
      "   macro avg       0.92      0.54      0.53        66\n",
      "weighted avg       0.86      0.83      0.77        66\n",
      "\n"
     ]
    },
    {
     "data": {
      "image/png": "[encoded data removed]",
      "text/plain": [
       "<Figure size 864x576 with 1 Axes>"
      ]
     },
     "metadata": {
      "needs_background": "light"
     },
     "output_type": "display_data"
    }
   ],
   "source": [
    "evaluation(model_1)"
   ]
  },
  {
   "cell_type": "code",
   "execution_count": 47,
   "metadata": {
    "colab": {
     "base_uri": "https://localhost:8080/",
     "height": 754
    },
    "colab_type": "code",
    "id": "VdNHtoRSvJza",
    "outputId": "33960ced-edb0-4109-8e26-5fc9293f7b53"
   },
   "outputs": [
    {
     "data": {
      "text/plain": [
       "<AxesSubplot:>"
      ]
     },
     "execution_count": 47,
     "metadata": {},
     "output_type": "execute_result"
    },
    {
     "data": {
      "image/png": "[encoded data removed]",
      "text/plain": [
       "<Figure size 864x576 with 1 Axes>"
      ]
     },
     "metadata": {
      "needs_background": "light"
     },
     "output_type": "display_data"
    }
   ],
   "source": [
    "pd.DataFrame(model_1.feature_importances_, index=X_train.columns).plot.bar(figsize=(12, 8))"
   ]
  },
  {
   "cell_type": "code",
   "execution_count": 55,
   "metadata": {},
   "outputs": [
    {
     "name": "stderr",
     "output_type": "stream",
     "text": [
      "/Users/mac/opt/anaconda3/lib/python3.8/site-packages/sklearn/feature_selection/_univariate_selection.py:114: UserWarning: Features [  0  19  24  30  32  48  51  56  57  58  62  64  82  87  93  95 112 117\n",
      " 123 125 141 146 152 154 169 174 180 182 196 201 207 209 222 227 233 235\n",
      " 247 252 258 260 271 276 282 284 294 299 305 307 316 321 327 329 337 342\n",
      " 348 350 357 362 368 370 376 381 387 389 394 399 405 407 409 410 411 412\n",
      " 414 415 416 418 419 420 421 422 423 424 426 427 428 429 430 431 432 433\n",
      " 435 436 438 439 440 442 443 445 446 447 448 449 450 451 453 455 456 457\n",
      " 458 459 460 461 462 463 464 465 466 467 468 469 471 472 474 475 476 477\n",
      " 478 479 480 481 482 484 485 486 488 489 491 492 493 494 496 497 498 499\n",
      " 500 501 502 503 504 505 507 508 509 510 511 512 513 514 515 516 517 518\n",
      " 519 520 521 522 523 524 526 527 528 529 530 531 532 534 535 536 537 538\n",
      " 539 541 542 543 544 545 547 548 549 550 552 553 554 555 556 557 559 560] are constant.\n",
      "  warnings.warn(\"Features %s are constant.\" % constant_features_idx,\n",
      "/Users/mac/opt/anaconda3/lib/python3.8/site-packages/sklearn/feature_selection/_univariate_selection.py:116: RuntimeWarning: invalid value encountered in divide\n",
      "  f = msb / msw\n"
     ]
    },
    {
     "name": "stdout",
     "output_type": "stream",
     "text": [
      "[[51  3]\n",
      " [ 9  3]]\n",
      "              precision    recall  f1-score   support\n",
      "\n",
      "           0       0.85      0.94      0.89        54\n",
      "           1       0.50      0.25      0.33        12\n",
      "\n",
      "    accuracy                           0.82        66\n",
      "   macro avg       0.68      0.60      0.61        66\n",
      "weighted avg       0.79      0.82      0.79        66\n",
      "\n"
     ]
    },
    {
     "name": "stderr",
     "output_type": "stream",
     "text": [
      "/Users/mac/opt/anaconda3/lib/python3.8/site-packages/sklearn/feature_selection/_univariate_selection.py:114: UserWarning: Features [  0  16  17  19  22  23  24  25  26  27  28  29  30  31  32  48  49  51\n",
      "  54  55  56  57  58  59  60  61  62  63  64  79  80  82  85  86  87  88\n",
      "  89  90  91  92  93  94  95 109 110 112 115 116 117 118 119 120 121 122\n",
      " 123 124 125 138 139 141 144 145 146 147 148 149 150 151 152 153 154 166\n",
      " 167 169 172 173 174 175 176 177 178 179 180 181 182 193 194 196 199 200\n",
      " 201 202 203 204 205 206 207 208 209 219 220 222 225 226 227 228 229 230\n",
      " 231 232 233 234 235 244 245 247 250 251 252 253 254 255 256 257 258 259\n",
      " 260 268 269 271 274 275 276 277 278 279 280 281 282 283 284 291 292 294\n",
      " 297 298 299 300 301 302 303 304 305 306 307 313 314 316 319 320 321 322\n",
      " 323 324 325 326 327 328 329 334 335 337 340 341 342 343 344 345 346 347\n",
      " 348 349 350 354 355 357 360 361 362 363 364 365 366 367 368 369 370 373\n",
      " 374 376 379 380 381 382 383 384 385 386 387 388 389 391 392 394 397 398\n",
      " 399 400 401 402 403 404 405 406 407 408 409 410 411 412 413 414 415 416\n",
      " 417 418 419 420 421 422 423 424 425 426 427 428 429 430 431 432 433 434\n",
      " 435 436 437 438 439 440 442 443 444 445 446 447 448 449 450 451 452 453\n",
      " 454 455 456 457 458 459 460 461 462 463 464 465 466 467 468 469 471 472\n",
      " 473 474 475 476 477 478 479 480 481 482 484 485 486 487 488 489 490 491\n",
      " 492 493 494 495 496 497 498 499 500 501 502 503 504 505 506 507 508 509\n",
      " 510 511 512 513 514 515 516 517 518 519 520 521 522 523 524 525 526 527\n",
      " 528 529 530 531 532 533 534 535 536 537 538 539 540 541 542 543 544 545\n",
      " 546 547 548 549 550 551 552 553 554 555 556 557 558 559 560] are constant.\n",
      "  warnings.warn(\"Features %s are constant.\" % constant_features_idx,\n",
      "/Users/mac/opt/anaconda3/lib/python3.8/site-packages/sklearn/feature_selection/_univariate_selection.py:116: RuntimeWarning: invalid value encountered in divide\n",
      "  f = msb / msw\n",
      "/Users/mac/opt/anaconda3/lib/python3.8/site-packages/sklearn/feature_selection/_univariate_selection.py:114: UserWarning: Features [  0  17  19  22  24  25  26  27  30  31  32  48  49  51  54  56  57  58\n",
      "  59  62  63  64  80  82  85  87  88  89  90  93  94  95 110 112 115 117\n",
      " 118 119 120 123 124 125 139 141 144 146 147 148 149 152 153 154 167 169\n",
      " 172 174 175 176 177 180 181 182 194 196 199 201 202 203 204 207 208 209\n",
      " 220 222 225 227 228 229 230 233 234 235 245 247 250 252 253 254 255 258\n",
      " 259 260 269 271 274 276 277 278 279 282 283 284 292 294 297 299 300 301\n",
      " 302 305 306 307 314 316 319 321 322 323 324 327 328 329 335 337 340 342\n",
      " 343 344 345 348 349 350 355 357 360 362 363 364 365 368 369 370 374 376\n",
      " 379 381 382 383 384 387 388 389 392 394 397 399 400 401 402 405 406 407\n",
      " 409 410 411 412 413 414 415 416 417 418 419 420 421 422 423 424 425 426\n",
      " 427 428 429 430 431 432 433 434 435 436 437 438 439 440 442 443 444 445\n",
      " 446 447 448 449 450 451 452 453 454 455 456 457 458 459 460 461 462 463\n",
      " 464 465 466 467 468 469 471 472 473 474 475 476 477 478 479 480 481 482\n",
      " 484 485 486 487 488 489 491 492 493 494 495 496 497 498 499 500 501 502\n",
      " 503 504 505 507 508 509 510 511 512 513 514 515 516 517 518 519 520 521\n",
      " 522 523 524 525 526 527 528 529 530 531 532 533 534 535 536 537 538 539\n",
      " 540 541 542 543 544 545 547 548 549 550 552 553 554 555 556 557 558 559\n",
      " 560] are constant.\n",
      "  warnings.warn(\"Features %s are constant.\" % constant_features_idx,\n",
      "/Users/mac/opt/anaconda3/lib/python3.8/site-packages/sklearn/feature_selection/_univariate_selection.py:116: RuntimeWarning: invalid value encountered in divide\n",
      "  f = msb / msw\n",
      "/Users/mac/opt/anaconda3/lib/python3.8/site-packages/sklearn/feature_selection/_univariate_selection.py:114: UserWarning: Features [  0  17  19  24  26  30  31  32  48  49  51  56  57  58  62  63  64  80\n",
      "  82  87  89  93  94  95 110 112 117 119 123 124 125 139 141 146 148 152\n",
      " 153 154 167 169 174 176 180 181 182 194 196 201 203 207 208 209 220 222\n",
      " 227 229 233 234 235 245 247 252 254 258 259 260 269 271 276 278 282 283\n",
      " 284 292 294 299 301 305 306 307 314 316 321 323 327 328 329 335 337 342\n",
      " 344 348 349 350 355 357 362 364 368 369 370 374 376 381 383 387 388 389\n",
      " 392 394 399 401 405 406 407 409 410 411 412 414 415 416 418 419 420 421\n",
      " 422 423 424 425 426 427 428 429 430 431 432 433 434 435 436 437 438 439\n",
      " 440 442 443 444 445 446 447 448 449 450 451 452 453 454 455 456 457 458\n",
      " 459 460 461 462 463 464 465 466 467 468 469 471 472 473 474 475 476 477\n",
      " 478 479 480 481 482 484 485 486 488 489 491 492 493 494 496 497 498 499\n",
      " 500 501 502 503 504 505 507 508 509 510 511 512 513 514 515 516 517 518\n",
      " 519 520 521 522 523 524 526 527 528 529 530 531 532 533 534 535 536 537\n",
      " 538 539 541 542 543 544 545 547 548 549 550 552 553 554 555 556 557 558\n",
      " 559 560] are constant.\n",
      "  warnings.warn(\"Features %s are constant.\" % constant_features_idx,\n",
      "/Users/mac/opt/anaconda3/lib/python3.8/site-packages/sklearn/feature_selection/_univariate_selection.py:116: RuntimeWarning: invalid value encountered in divide\n",
      "  f = msb / msw\n",
      "/Users/mac/opt/anaconda3/lib/python3.8/site-packages/sklearn/feature_selection/_univariate_selection.py:114: UserWarning: Features [  0  17  19  24  26  30  32  48  49  51  56  57  58  62  64  80  82  87\n",
      "  89  93  95 110 112 117 119 123 125 139 141 146 148 152 154 167 169 174\n",
      " 176 180 182 194 196 201 203 207 209 220 222 227 229 233 235 245 247 252\n",
      " 254 258 260 269 271 276 278 282 284 292 294 299 301 305 307 314 316 321\n",
      " 323 327 329 335 337 342 344 348 350 355 357 362 364 368 370 374 376 381\n",
      " 383 387 389 392 394 399 401 405 407 409 410 411 412 414 415 416 418 419\n",
      " 420 421 422 423 424 425 426 427 428 429 430 431 432 433 434 435 436 437\n",
      " 438 439 440 442 443 444 445 446 447 448 449 450 451 452 453 454 455 456\n",
      " 457 458 459 460 461 462 463 464 465 466 467 468 469 471 472 473 474 475\n",
      " 476 477 478 479 480 481 482 484 485 486 488 489 491 492 493 494 496 497\n",
      " 498 499 500 501 502 503 504 505 507 508 509 510 511 512 513 514 515 516\n",
      " 517 518 519 520 521 522 523 524 526 527 528 529 530 531 532 533 534 535\n",
      " 536 537 538 539 541 542 543 544 545 547 548 549 550 552 553 554 555 556\n",
      " 557 559 560] are constant.\n",
      "  warnings.warn(\"Features %s are constant.\" % constant_features_idx,\n",
      "/Users/mac/opt/anaconda3/lib/python3.8/site-packages/sklearn/feature_selection/_univariate_selection.py:116: RuntimeWarning: invalid value encountered in divide\n",
      "  f = msb / msw\n",
      "/Users/mac/opt/anaconda3/lib/python3.8/site-packages/sklearn/feature_selection/_univariate_selection.py:114: UserWarning: Features [  0  17  19  24  26  30  32  48  49  51  56  57  58  62  64  80  82  87\n",
      "  89  93  95 110 112 117 119 123 125 139 141 146 148 152 154 167 169 174\n",
      " 176 180 182 194 196 201 203 207 209 220 222 227 229 233 235 245 247 252\n",
      " 254 258 260 269 271 276 278 282 284 292 294 299 301 305 307 314 316 321\n",
      " 323 327 329 335 337 342 344 348 350 355 357 362 364 368 370 374 376 381\n",
      " 383 387 389 392 394 399 401 405 407 409 410 411 412 414 415 416 418 419\n",
      " 420 421 422 423 424 425 426 427 428 429 430 431 432 433 434 435 436 437\n",
      " 438 439 440 442 443 444 445 446 447 448 449 450 451 452 453 454 455 456\n",
      " 457 458 459 460 461 462 463 464 465 466 467 468 469 471 472 473 474 475\n",
      " 476 477 478 479 480 481 482 484 485 486 488 489 491 492 493 494 496 497\n",
      " 498 499 500 501 502 503 504 505 507 508 509 510 511 512 513 514 515 516\n",
      " 517 518 519 520 521 522 523 524 526 527 528 529 530 531 532 533 534 535\n",
      " 536 537 538 539 541 542 543 544 545 547 548 549 550 552 553 554 555 556\n",
      " 557 559 560] are constant.\n",
      "  warnings.warn(\"Features %s are constant.\" % constant_features_idx,\n",
      "/Users/mac/opt/anaconda3/lib/python3.8/site-packages/sklearn/feature_selection/_univariate_selection.py:116: RuntimeWarning: invalid value encountered in divide\n",
      "  f = msb / msw\n",
      "/Users/mac/opt/anaconda3/lib/python3.8/site-packages/sklearn/feature_selection/_univariate_selection.py:114: UserWarning: Features [  0  19  24  30  32  48  49  51  56  57  58  62  64  82  87  93  95 112\n",
      " 117 123 125 141 146 152 154 169 174 180 182 196 201 207 209 222 227 233\n",
      " 235 247 252 258 260 271 276 282 284 294 299 305 307 316 321 327 329 337\n",
      " 342 348 350 357 362 368 370 376 381 387 389 394 399 405 407 409 410 411\n",
      " 412 414 415 416 418 419 420 421 422 423 424 426 427 428 429 430 431 432\n",
      " 433 435 436 437 438 439 440 442 443 444 445 446 447 448 449 450 451 452\n",
      " 453 454 455 456 457 458 459 460 461 462 463 464 465 466 467 468 469 471\n",
      " 472 473 474 475 476 477 478 479 480 481 482 484 485 486 488 489 491 492\n",
      " 493 494 496 497 498 499 500 501 502 503 504 505 507 508 509 510 511 512\n",
      " 513 514 515 516 517 518 519 520 521 522 523 524 526 527 528 529 530 531\n",
      " 532 534 535 536 537 538 539 541 542 543 544 545 547 548 549 550 552 553\n",
      " 554 555 556 557 559 560] are constant.\n",
      "  warnings.warn(\"Features %s are constant.\" % constant_features_idx,\n",
      "/Users/mac/opt/anaconda3/lib/python3.8/site-packages/sklearn/feature_selection/_univariate_selection.py:116: RuntimeWarning: invalid value encountered in divide\n",
      "  f = msb / msw\n",
      "/Users/mac/opt/anaconda3/lib/python3.8/site-packages/sklearn/feature_selection/_univariate_selection.py:114: UserWarning: Features [  0  19  24  30  32  48  49  51  56  57  58  62  64  82  87  93  95 112\n",
      " 117 123 125 141 146 152 154 169 174 180 182 196 201 207 209 222 227 233\n",
      " 235 247 252 258 260 271 276 282 284 294 299 305 307 316 321 327 329 337\n",
      " 342 348 350 357 362 368 370 376 381 387 389 394 399 405 407 409 410 411\n",
      " 412 414 415 416 418 419 420 421 422 423 424 426 427 428 429 430 431 432\n",
      " 433 435 436 437 438 439 440 442 443 445 446 447 448 449 450 451 452 453\n",
      " 454 455 456 457 458 459 460 461 462 463 464 465 466 467 468 469 471 472\n",
      " 474 475 476 477 478 479 480 481 482 484 485 486 488 489 491 492 493 494\n",
      " 496 497 498 499 500 501 502 503 504 505 507 508 509 510 511 512 513 514\n",
      " 515 516 517 518 519 520 521 522 523 524 526 527 528 529 530 531 532 534\n",
      " 535 536 537 538 539 541 542 543 544 545 547 548 549 550 552 553 554 555\n",
      " 556 557 559 560] are constant.\n",
      "  warnings.warn(\"Features %s are constant.\" % constant_features_idx,\n",
      "/Users/mac/opt/anaconda3/lib/python3.8/site-packages/sklearn/feature_selection/_univariate_selection.py:116: RuntimeWarning: invalid value encountered in divide\n",
      "  f = msb / msw\n",
      "/Users/mac/opt/anaconda3/lib/python3.8/site-packages/sklearn/feature_selection/_univariate_selection.py:114: UserWarning: Features [  0  19  24  30  32  48  49  51  56  57  58  62  64  82  87  93  95 112\n",
      " 117 123 125 141 146 152 154 169 174 180 182 196 201 207 209 222 227 233\n",
      " 235 247 252 258 260 271 276 282 284 294 299 305 307 316 321 327 329 337\n",
      " 342 348 350 357 362 368 370 376 381 387 389 394 399 405 407 409 410 411\n",
      " 412 414 415 416 418 419 420 421 422 423 424 426 427 428 429 430 431 432\n",
      " 433 435 436 437 438 439 440 442 443 445 446 447 448 449 450 451 453 454\n",
      " 455 456 457 458 459 460 461 462 463 464 465 466 467 468 469 471 472 474\n",
      " 475 476 477 478 479 480 481 482 484 485 486 488 489 491 492 493 494 496\n",
      " 497 498 499 500 501 502 503 504 505 507 508 509 510 511 512 513 514 515\n",
      " 516 517 518 519 520 521 522 523 524 526 527 528 529 530 531 532 534 535\n",
      " 536 537 538 539 541 542 543 544 545 547 548 549 550 552 553 554 555 556\n",
      " 557 559 560] are constant.\n",
      "  warnings.warn(\"Features %s are constant.\" % constant_features_idx,\n",
      "/Users/mac/opt/anaconda3/lib/python3.8/site-packages/sklearn/feature_selection/_univariate_selection.py:116: RuntimeWarning: invalid value encountered in divide\n",
      "  f = msb / msw\n",
      "/Users/mac/opt/anaconda3/lib/python3.8/site-packages/sklearn/feature_selection/_univariate_selection.py:114: UserWarning: Features [  0  19  24  30  32  48  51  56  57  58  62  64  82  87  93  95 112 117\n",
      " 123 125 141 146 152 154 169 174 180 182 196 201 207 209 222 227 233 235\n",
      " 247 252 258 260 271 276 282 284 294 299 305 307 316 321 327 329 337 342\n",
      " 348 350 357 362 368 370 376 381 387 389 394 399 405 407 409 410 411 412\n",
      " 414 415 416 418 419 420 421 422 423 424 426 427 428 429 430 431 432 433\n",
      " 435 436 437 438 439 440 442 443 445 446 447 448 449 450 451 453 455 456\n",
      " 457 458 459 460 461 462 463 464 465 466 467 468 469 471 472 474 475 476\n",
      " 477 478 479 480 481 482 484 485 486 488 489 491 492 493 494 496 497 498\n",
      " 499 500 501 502 503 504 505 507 508 509 510 511 512 513 514 515 516 517\n",
      " 518 519 520 521 522 523 524 526 527 528 529 530 531 532 534 535 536 537\n",
      " 538 539 541 542 543 544 545 547 548 549 550 552 553 554 555 556 557 559\n",
      " 560] are constant.\n",
      "  warnings.warn(\"Features %s are constant.\" % constant_features_idx,\n",
      "/Users/mac/opt/anaconda3/lib/python3.8/site-packages/sklearn/feature_selection/_univariate_selection.py:116: RuntimeWarning: invalid value encountered in divide\n",
      "  f = msb / msw\n",
      "/Users/mac/opt/anaconda3/lib/python3.8/site-packages/sklearn/feature_selection/_univariate_selection.py:114: UserWarning: Features [  0  19  24  30  32  48  51  56  57  58  62  64  82  87  93  95 112 117\n",
      " 123 125 141 146 152 154 169 174 180 182 196 201 207 209 222 227 233 235\n",
      " 247 252 258 260 271 276 282 284 294 299 305 307 316 321 327 329 337 342\n",
      " 348 350 357 362 368 370 376 381 387 389 394 399 405 407 409 410 411 412\n",
      " 414 415 416 418 419 420 421 422 423 424 426 427 428 429 430 431 432 433\n",
      " 435 436 437 438 439 440 442 443 445 446 447 448 449 450 451 453 455 456\n",
      " 457 458 459 460 461 462 463 464 465 466 467 468 469 471 472 474 475 476\n",
      " 477 478 479 480 481 482 484 485 486 488 489 491 492 493 494 496 497 498\n",
      " 499 500 501 502 503 504 505 507 508 509 510 511 512 513 514 515 516 517\n",
      " 518 519 520 521 522 523 524 526 527 528 529 530 531 532 534 535 536 537\n",
      " 538 539 541 542 543 544 545 547 548 549 550 552 553 554 555 556 557 559\n",
      " 560] are constant.\n",
      "  warnings.warn(\"Features %s are constant.\" % constant_features_idx,\n",
      "/Users/mac/opt/anaconda3/lib/python3.8/site-packages/sklearn/feature_selection/_univariate_selection.py:116: RuntimeWarning: invalid value encountered in divide\n",
      "  f = msb / msw\n",
      "/Users/mac/opt/anaconda3/lib/python3.8/site-packages/sklearn/feature_selection/_univariate_selection.py:114: UserWarning: Features [  0  19  20  22  23  24  25  26  27  28  30  31  32  48  51  52  54  55\n",
      "  56  57  58  59  60  62  63  64  82  83  85  86  87  88  89  90  91  93\n",
      "  94  95 112 113 115 116 117 118 119 120 121 123 124 125 141 142 144 145\n",
      " 146 147 148 149 150 152 153 154 169 170 172 173 174 175 176 177 178 180\n",
      " 181 182 196 197 199 200 201 202 203 204 205 207 208 209 222 223 225 226\n",
      " 227 228 229 230 231 233 234 235 247 248 250 251 252 253 254 255 256 258\n",
      " 259 260 271 272 274 275 276 277 278 279 280 282 283 284 294 295 297 298\n",
      " 299 300 301 302 303 305 306 307 316 317 319 320 321 322 323 324 325 327\n",
      " 328 329 337 338 340 341 342 343 344 345 346 348 349 350 357 358 360 361\n",
      " 362 363 364 365 366 368 369 370 376 377 379 380 381 382 383 384 385 387\n",
      " 388 389 394 395 397 398 399 400 401 402 403 405 406 407 409 410 411 412\n",
      " 413 414 415 416 417 418 419 420 421 422 423 424 426 427 428 429 430 431\n",
      " 432 433 434 435 436 438 439 440 442 443 444 445 446 447 448 449 450 451\n",
      " 452 453 454 455 456 457 458 459 460 461 462 463 464 465 466 467 468 469\n",
      " 470 471 472 473 474 475 476 477 478 479 480 481 482 484 485 486 487 488\n",
      " 489 490 491 492 493 494 495 496 497 498 499 500 501 502 503 504 505 506\n",
      " 507 508 509 510 511 512 513 514 515 516 517 518 519 520 521 522 523 524\n",
      " 525 526 527 528 529 530 531 532 533 534 535 536 537 538 539 540 541 542\n",
      " 543 544 545 546 547 548 549 550 552 553 554 555 556 557 558 559 560] are constant.\n",
      "  warnings.warn(\"Features %s are constant.\" % constant_features_idx,\n",
      "/Users/mac/opt/anaconda3/lib/python3.8/site-packages/sklearn/feature_selection/_univariate_selection.py:116: RuntimeWarning: invalid value encountered in divide\n",
      "  f = msb / msw\n",
      "/Users/mac/opt/anaconda3/lib/python3.8/site-packages/sklearn/feature_selection/_univariate_selection.py:114: UserWarning: Features [  0  19  20  22  23  24  25  26  27  28  30  31  32  48  51  52  54  55\n",
      "  56  57  58  59  60  62  63  64  82  83  85  86  87  88  89  90  91  93\n",
      "  94  95 112 113 115 116 117 118 119 120 121 123 124 125 141 142 144 145\n",
      " 146 147 148 149 150 152 153 154 169 170 172 173 174 175 176 177 178 180\n",
      " 181 182 196 197 199 200 201 202 203 204 205 207 208 209 222 223 225 226\n",
      " 227 228 229 230 231 233 234 235 247 248 250 251 252 253 254 255 256 258\n",
      " 259 260 271 272 274 275 276 277 278 279 280 282 283 284 294 295 297 298\n",
      " 299 300 301 302 303 305 306 307 316 317 319 320 321 322 323 324 325 327\n",
      " 328 329 337 338 340 341 342 343 344 345 346 348 349 350 357 358 360 361\n",
      " 362 363 364 365 366 368 369 370 376 377 379 380 381 382 383 384 385 387\n",
      " 388 389 394 395 397 398 399 400 401 402 403 405 406 407 409 410 411 412\n",
      " 413 414 415 416 417 418 419 420 421 422 423 424 426 427 428 429 430 431\n",
      " 432 433 434 435 436 438 439 440 442 443 444 445 446 447 448 449 450 451\n",
      " 452 453 454 455 456 457 458 459 460 461 462 463 464 465 466 467 468 469\n",
      " 470 471 472 473 474 475 476 477 478 479 480 481 482 484 485 486 487 488\n",
      " 489 490 491 492 493 494 495 496 497 498 499 500 501 502 503 504 505 506\n",
      " 507 508 509 510 511 512 513 514 515 516 517 518 519 520 521 522 523 524\n",
      " 525 526 527 528 529 530 531 532 533 534 535 536 537 538 539 540 541 542\n",
      " 543 544 545 546 547 548 549 550 552 553 554 555 556 557 558 559 560] are constant.\n",
      "  warnings.warn(\"Features %s are constant.\" % constant_features_idx,\n",
      "/Users/mac/opt/anaconda3/lib/python3.8/site-packages/sklearn/feature_selection/_univariate_selection.py:116: RuntimeWarning: invalid value encountered in divide\n",
      "  f = msb / msw\n",
      "/Users/mac/opt/anaconda3/lib/python3.8/site-packages/sklearn/feature_selection/_univariate_selection.py:114: UserWarning: Features [  0  19  22  23  24  25  26  27  28  30  32  48  51  54  55  56  57  58\n",
      "  59  60  62  64  82  85  86  87  88  89  90  91  93  95 112 115 116 117\n",
      " 118 119 120 121 123 125 141 144 145 146 147 148 149 150 152 154 169 172\n",
      " 173 174 175 176 177 178 180 182 196 199 200 201 202 203 204 205 207 209\n",
      " 222 225 226 227 228 229 230 231 233 235 247 250 251 252 253 254 255 256\n",
      " 258 260 271 274 275 276 277 278 279 280 282 284 294 297 298 299 300 301\n",
      " 302 303 305 307 316 319 320 321 322 323 324 325 327 329 337 340 341 342\n",
      " 343 344 345 346 348 350 357 360 361 362 363 364 365 366 368 370 376 379\n",
      " 380 381 382 383 384 385 387 389 394 397 398 399 400 401 402 403 405 407\n",
      " 409 410 411 412 413 414 415 416 417 418 419 420 421 422 423 424 426 427\n",
      " 428 429 430 431 432 433 434 435 436 438 439 440 442 443 444 445 446 447\n",
      " 448 449 450 451 452 453 454 455 456 457 458 459 460 461 462 463 464 465\n",
      " 466 467 468 469 471 472 473 474 475 476 477 478 479 480 481 482 484 485\n",
      " 486 487 488 489 490 491 492 493 494 495 496 497 498 499 500 501 502 503\n",
      " 504 505 506 507 508 509 510 511 512 513 514 515 516 517 518 519 520 521\n",
      " 522 523 524 525 526 527 528 529 530 531 532 533 534 535 536 537 538 539\n",
      " 540 541 542 543 544 545 546 547 548 549 550 552 553 554 555 556 557 559\n",
      " 560] are constant.\n",
      "  warnings.warn(\"Features %s are constant.\" % constant_features_idx,\n",
      "/Users/mac/opt/anaconda3/lib/python3.8/site-packages/sklearn/feature_selection/_univariate_selection.py:116: RuntimeWarning: invalid value encountered in divide\n",
      "  f = msb / msw\n",
      "/Users/mac/opt/anaconda3/lib/python3.8/site-packages/sklearn/feature_selection/_univariate_selection.py:114: UserWarning: Features [  0  19  22  23  24  25  26  27  28  30  32  48  51  54  55  56  57  58\n",
      "  59  60  62  64  82  85  86  87  88  89  90  91  93  95 112 115 116 117\n",
      " 118 119 120 121 123 125 141 144 145 146 147 148 149 150 152 154 169 172\n",
      " 173 174 175 176 177 178 180 182 196 199 200 201 202 203 204 205 207 209\n",
      " 222 225 226 227 228 229 230 231 233 235 247 250 251 252 253 254 255 256\n",
      " 258 260 271 274 275 276 277 278 279 280 282 284 294 297 298 299 300 301\n",
      " 302 303 305 307 316 319 320 321 322 323 324 325 327 329 337 340 341 342\n",
      " 343 344 345 346 348 350 357 360 361 362 363 364 365 366 368 370 376 379\n",
      " 380 381 382 383 384 385 387 389 394 397 398 399 400 401 402 403 405 407\n",
      " 409 410 411 412 413 414 415 416 417 418 419 420 421 422 423 424 426 427\n",
      " 428 429 430 431 432 433 434 435 436 438 439 440 442 443 444 445 446 447\n",
      " 448 449 450 451 452 453 454 455 456 457 458 459 460 461 462 463 464 465\n",
      " 466 467 468 469 471 472 473 474 475 476 477 478 479 480 481 482 484 485\n",
      " 486 487 488 489 490 491 492 493 494 495 496 497 498 499 500 501 502 503\n",
      " 504 505 506 507 508 509 510 511 512 513 514 515 516 517 518 519 520 521\n",
      " 522 523 524 525 526 527 528 529 530 531 532 533 534 535 536 537 538 539\n",
      " 540 541 542 543 544 545 546 547 548 549 550 552 553 554 555 556 557 559\n",
      " 560] are constant.\n",
      "  warnings.warn(\"Features %s are constant.\" % constant_features_idx,\n",
      "/Users/mac/opt/anaconda3/lib/python3.8/site-packages/sklearn/feature_selection/_univariate_selection.py:116: RuntimeWarning: invalid value encountered in divide\n",
      "  f = msb / msw\n",
      "/Users/mac/opt/anaconda3/lib/python3.8/site-packages/sklearn/feature_selection/_univariate_selection.py:114: UserWarning: Features [  0  19  24  25  26  27  28  30  32  48  51  56  57  58  59  60  62  64\n",
      "  82  87  88  89  90  91  93  95 112 117 118 119 120 121 123 125 141 146\n",
      " 147 148 149 150 152 154 169 174 175 176 177 178 180 182 196 201 202 203\n",
      " 204 205 207 209 222 227 228 229 230 231 233 235 247 252 253 254 255 256\n",
      " 258 260 271 276 277 278 279 280 282 284 294 299 300 301 302 303 305 307\n",
      " 316 321 322 323 324 325 327 329 337 342 343 344 345 346 348 350 357 362\n",
      " 363 364 365 366 368 370 376 381 382 383 384 385 387 389 394 399 400 401\n",
      " 402 403 405 407 409 410 411 412 413 414 415 416 417 418 419 420 421 422\n",
      " 423 424 426 427 428 429 430 431 432 433 434 435 436 438 439 440 442 443\n",
      " 444 445 446 447 448 449 450 451 452 453 454 455 456 457 458 459 460 461\n",
      " 462 463 464 465 466 467 468 469 471 472 473 474 475 476 477 478 479 480\n",
      " 481 482 484 485 486 487 488 489 490 491 492 493 494 496 497 498 499 500\n",
      " 501 502 503 504 505 507 508 509 510 511 512 513 514 515 516 517 518 519\n",
      " 520 521 522 523 524 525 526 527 528 529 530 531 532 533 534 535 536 537\n",
      " 538 539 540 541 542 543 544 545 546 547 548 549 550 552 553 554 555 556\n",
      " 557 559 560] are constant.\n",
      "  warnings.warn(\"Features %s are constant.\" % constant_features_idx,\n",
      "/Users/mac/opt/anaconda3/lib/python3.8/site-packages/sklearn/feature_selection/_univariate_selection.py:116: RuntimeWarning: invalid value encountered in divide\n",
      "  f = msb / msw\n",
      "/Users/mac/opt/anaconda3/lib/python3.8/site-packages/sklearn/feature_selection/_univariate_selection.py:114: UserWarning: Features [  0  19  24  25  27  28  30  32  48  51  56  57  58  59  60  62  64  82\n",
      "  87  88  90  91  93  95 112 117 118 120 121 123 125 141 146 147 149 150\n",
      " 152 154 169 174 175 177 178 180 182 196 201 202 204 205 207 209 222 227\n",
      " 228 230 231 233 235 247 252 253 255 256 258 260 271 276 277 279 280 282\n",
      " 284 294 299 300 302 303 305 307 316 321 322 324 325 327 329 337 342 343\n",
      " 345 346 348 350 357 362 363 365 366 368 370 376 381 382 384 385 387 389\n",
      " 394 399 400 402 403 405 407 409 410 411 412 413 414 415 416 417 418 419\n",
      " 420 421 422 423 424 426 427 428 429 430 431 432 433 435 436 438 439 440\n",
      " 442 443 444 445 446 447 448 449 450 451 452 453 454 455 456 457 458 459\n",
      " 460 461 462 463 464 465 466 467 468 469 471 472 473 474 475 476 477 478\n",
      " 479 480 481 482 484 485 486 487 488 489 490 491 492 493 494 496 497 498\n",
      " 499 500 501 502 503 504 505 507 508 509 510 511 512 513 514 515 516 517\n",
      " 518 519 520 521 522 523 524 525 526 527 528 529 530 531 532 534 535 536\n",
      " 537 538 539 540 541 542 543 544 545 546 547 548 549 550 552 553 554 555\n",
      " 556 557 559 560] are constant.\n",
      "  warnings.warn(\"Features %s are constant.\" % constant_features_idx,\n",
      "/Users/mac/opt/anaconda3/lib/python3.8/site-packages/sklearn/feature_selection/_univariate_selection.py:116: RuntimeWarning: invalid value encountered in divide\n",
      "  f = msb / msw\n",
      "/Users/mac/opt/anaconda3/lib/python3.8/site-packages/sklearn/feature_selection/_univariate_selection.py:114: UserWarning: Features [  0  19  24  25  28  30  32  48  51  56  57  58  60  62  64  82  87  88\n",
      "  91  93  95 112 117 118 121 123 125 141 146 147 150 152 154 169 174 175\n",
      " 178 180 182 196 201 202 205 207 209 222 227 228 231 233 235 247 252 253\n",
      " 256 258 260 271 276 277 280 282 284 294 299 300 303 305 307 316 321 322\n",
      " 325 327 329 337 342 343 346 348 350 357 362 363 366 368 370 376 381 382\n",
      " 385 387 389 394 399 400 403 405 407 409 410 411 412 413 414 415 416 417\n",
      " 418 419 420 421 422 423 424 426 427 428 429 430 431 432 433 435 436 438\n",
      " 439 440 442 443 445 446 447 448 449 450 451 452 453 454 455 456 457 458\n",
      " 459 460 461 462 463 464 465 466 467 468 469 471 472 474 475 476 477 478\n",
      " 479 480 481 482 484 485 486 487 488 489 490 491 492 493 494 496 497 498\n",
      " 499 500 501 502 503 504 505 507 508 509 510 511 512 513 514 515 516 517\n",
      " 518 519 520 521 522 523 524 525 526 527 528 529 530 531 532 534 535 536\n",
      " 537 538 539 541 542 543 544 545 546 547 548 549 550 552 553 554 555 556\n",
      " 557 559 560] are constant.\n",
      "  warnings.warn(\"Features %s are constant.\" % constant_features_idx,\n",
      "/Users/mac/opt/anaconda3/lib/python3.8/site-packages/sklearn/feature_selection/_univariate_selection.py:116: RuntimeWarning: invalid value encountered in divide\n",
      "  f = msb / msw\n",
      "/Users/mac/opt/anaconda3/lib/python3.8/site-packages/sklearn/feature_selection/_univariate_selection.py:114: UserWarning: Features [  0  19  24  25  28  30  32  48  51  56  57  58  60  62  64  82  87  88\n",
      "  91  93  95 112 117 118 121 123 125 141 146 147 150 152 154 169 174 175\n",
      " 178 180 182 196 201 202 205 207 209 222 227 228 231 233 235 247 252 253\n",
      " 256 258 260 271 276 277 280 282 284 294 299 300 303 305 307 316 321 322\n",
      " 325 327 329 337 342 343 346 348 350 357 362 363 366 368 370 376 381 382\n",
      " 385 387 389 394 399 400 403 405 407 409 410 411 412 413 414 415 416 417\n",
      " 418 419 420 421 422 423 424 426 427 428 429 430 431 432 433 435 436 438\n",
      " 439 440 442 443 445 446 447 448 449 450 451 453 454 455 456 457 458 459\n",
      " 460 461 462 463 464 465 466 467 468 469 471 472 474 475 476 477 478 479\n",
      " 480 481 482 484 485 486 487 488 489 490 491 492 493 494 496 497 498 499\n",
      " 500 501 502 503 504 505 507 508 509 510 511 512 513 514 515 516 517 518\n",
      " 519 520 521 522 523 524 525 526 527 528 529 530 531 532 534 535 536 537\n",
      " 538 539 541 542 543 544 545 546 547 548 549 550 552 553 554 555 556 557\n",
      " 559 560] are constant.\n",
      "  warnings.warn(\"Features %s are constant.\" % constant_features_idx,\n",
      "/Users/mac/opt/anaconda3/lib/python3.8/site-packages/sklearn/feature_selection/_univariate_selection.py:116: RuntimeWarning: invalid value encountered in divide\n",
      "  f = msb / msw\n",
      "/Users/mac/opt/anaconda3/lib/python3.8/site-packages/sklearn/feature_selection/_univariate_selection.py:114: UserWarning: Features [  0  19  24  25  28  30  32  48  51  56  57  58  60  62  64  82  87  88\n",
      "  91  93  95 112 117 118 121 123 125 141 146 147 150 152 154 169 174 175\n",
      " 178 180 182 196 201 202 205 207 209 222 227 228 231 233 235 247 252 253\n",
      " 256 258 260 271 276 277 280 282 284 294 299 300 303 305 307 316 321 322\n",
      " 325 327 329 337 342 343 346 348 350 357 362 363 366 368 370 376 381 382\n",
      " 385 387 389 394 399 400 403 405 407 409 410 411 412 413 414 415 416 417\n",
      " 418 419 420 421 422 423 424 426 427 428 429 430 431 432 433 435 436 438\n",
      " 439 440 442 443 445 446 447 448 449 450 451 453 455 456 457 458 459 460\n",
      " 461 462 463 464 465 466 467 468 469 471 472 474 475 476 477 478 479 480\n",
      " 481 482 484 485 486 487 488 489 490 491 492 493 494 496 497 498 499 500\n",
      " 501 502 503 504 505 507 508 509 510 511 512 513 514 515 516 517 518 519\n",
      " 520 521 522 523 524 525 526 527 528 529 530 531 532 534 535 536 537 538\n",
      " 539 541 542 543 544 545 546 547 548 549 550 552 553 554 555 556 557 559\n",
      " 560] are constant.\n",
      "  warnings.warn(\"Features %s are constant.\" % constant_features_idx,\n",
      "/Users/mac/opt/anaconda3/lib/python3.8/site-packages/sklearn/feature_selection/_univariate_selection.py:116: RuntimeWarning: invalid value encountered in divide\n",
      "  f = msb / msw\n",
      "/Users/mac/opt/anaconda3/lib/python3.8/site-packages/sklearn/feature_selection/_univariate_selection.py:114: UserWarning: Features [  0  19  24  25  30  32  48  51  56  57  58  62  64  82  87  88  93  95\n",
      " 112 117 118 123 125 141 146 147 152 154 169 174 175 180 182 196 201 202\n",
      " 207 209 222 227 228 233 235 247 252 253 258 260 271 276 277 282 284 294\n",
      " 299 300 305 307 316 321 322 327 329 337 342 343 348 350 357 362 363 368\n",
      " 370 376 381 382 387 389 394 399 400 405 407 409 410 411 412 413 414 415\n",
      " 416 417 418 419 420 421 422 423 424 426 427 428 429 430 431 432 433 435\n",
      " 436 438 439 440 442 443 445 446 447 448 449 450 451 453 455 456 457 458\n",
      " 459 460 461 462 463 464 465 466 467 468 469 471 472 474 475 476 477 478\n",
      " 479 480 481 482 484 485 486 487 488 489 490 491 492 493 494 496 497 498\n",
      " 499 500 501 502 503 504 505 507 508 509 510 511 512 513 514 515 516 517\n",
      " 518 519 520 521 522 523 524 525 526 527 528 529 530 531 532 534 535 536\n",
      " 537 538 539 541 542 543 544 545 547 548 549 550 552 553 554 555 556 557\n",
      " 559 560] are constant.\n",
      "  warnings.warn(\"Features %s are constant.\" % constant_features_idx,\n",
      "/Users/mac/opt/anaconda3/lib/python3.8/site-packages/sklearn/feature_selection/_univariate_selection.py:116: RuntimeWarning: invalid value encountered in divide\n",
      "  f = msb / msw\n",
      "/Users/mac/opt/anaconda3/lib/python3.8/site-packages/sklearn/feature_selection/_univariate_selection.py:114: UserWarning: Features [  0  19  20  22  23  24  25  26  27  28  30  31  32  48  51  52  54  55\n",
      "  56  57  58  59  60  62  63  64  82  83  85  86  87  88  89  90  91  93\n",
      "  94  95 112 113 115 116 117 118 119 120 121 123 124 125 141 142 144 145\n",
      " 146 147 148 149 150 152 153 154 169 170 172 173 174 175 176 177 178 180\n",
      " 181 182 196 197 199 200 201 202 203 204 205 207 208 209 222 223 225 226\n",
      " 227 228 229 230 231 233 234 235 247 248 250 251 252 253 254 255 256 258\n",
      " 259 260 271 272 274 275 276 277 278 279 280 282 283 284 294 295 297 298\n",
      " 299 300 301 302 303 305 306 307 316 317 319 320 321 322 323 324 325 327\n",
      " 328 329 337 338 340 341 342 343 344 345 346 348 349 350 357 358 360 361\n",
      " 362 363 364 365 366 368 369 370 376 377 379 380 381 382 383 384 385 387\n",
      " 388 389 394 395 397 398 399 400 401 402 403 405 406 407 409 410 411 412\n",
      " 413 414 415 416 417 418 419 420 421 422 423 424 426 427 428 429 430 431\n",
      " 432 433 434 435 436 438 439 440 442 443 444 445 446 447 448 449 450 451\n",
      " 452 453 454 455 456 457 458 459 460 461 462 463 464 465 466 467 468 469\n",
      " 470 471 472 473 474 475 476 477 478 479 480 481 482 484 485 486 487 488\n",
      " 489 490 491 492 493 494 495 496 497 498 499 500 501 502 503 504 505 506\n",
      " 507 508 509 510 511 512 513 514 515 516 517 518 519 520 521 522 523 524\n",
      " 525 526 527 528 529 530 531 532 533 534 535 536 537 538 539 540 541 542\n",
      " 543 544 545 546 547 548 549 550 552 553 554 555 556 557 558 559 560] are constant.\n",
      "  warnings.warn(\"Features %s are constant.\" % constant_features_idx,\n",
      "/Users/mac/opt/anaconda3/lib/python3.8/site-packages/sklearn/feature_selection/_univariate_selection.py:116: RuntimeWarning: invalid value encountered in divide\n",
      "  f = msb / msw\n",
      "/Users/mac/opt/anaconda3/lib/python3.8/site-packages/sklearn/feature_selection/_univariate_selection.py:114: UserWarning: Features [  0  19  20  22  23  24  25  26  27  28  30  31  32  48  51  52  54  55\n",
      "  56  57  58  59  60  62  63  64  82  83  85  86  87  88  89  90  91  93\n",
      "  94  95 112 113 115 116 117 118 119 120 121 123 124 125 141 142 144 145\n",
      " 146 147 148 149 150 152 153 154 169 170 172 173 174 175 176 177 178 180\n",
      " 181 182 196 197 199 200 201 202 203 204 205 207 208 209 222 223 225 226\n",
      " 227 228 229 230 231 233 234 235 247 248 250 251 252 253 254 255 256 258\n",
      " 259 260 271 272 274 275 276 277 278 279 280 282 283 284 294 295 297 298\n",
      " 299 300 301 302 303 305 306 307 316 317 319 320 321 322 323 324 325 327\n",
      " 328 329 337 338 340 341 342 343 344 345 346 348 349 350 357 358 360 361\n",
      " 362 363 364 365 366 368 369 370 376 377 379 380 381 382 383 384 385 387\n",
      " 388 389 394 395 397 398 399 400 401 402 403 405 406 407 409 410 411 412\n",
      " 413 414 415 416 417 418 419 420 421 422 423 424 426 427 428 429 430 431\n",
      " 432 433 434 435 436 438 439 440 442 443 444 445 446 447 448 449 450 451\n",
      " 452 453 454 455 456 457 458 459 460 461 462 463 464 465 466 467 468 469\n",
      " 470 471 472 473 474 475 476 477 478 479 480 481 482 484 485 486 487 488\n",
      " 489 490 491 492 493 494 495 496 497 498 499 500 501 502 503 504 505 506\n",
      " 507 508 509 510 511 512 513 514 515 516 517 518 519 520 521 522 523 524\n",
      " 525 526 527 528 529 530 531 532 533 534 535 536 537 538 539 540 541 542\n",
      " 543 544 545 546 547 548 549 550 552 553 554 555 556 557 558 559 560] are constant.\n",
      "  warnings.warn(\"Features %s are constant.\" % constant_features_idx,\n",
      "/Users/mac/opt/anaconda3/lib/python3.8/site-packages/sklearn/feature_selection/_univariate_selection.py:116: RuntimeWarning: invalid value encountered in divide\n",
      "  f = msb / msw\n",
      "/Users/mac/opt/anaconda3/lib/python3.8/site-packages/sklearn/feature_selection/_univariate_selection.py:114: UserWarning: Features [  0  19  22  23  24  25  26  27  28  30  32  48  51  54  55  56  57  58\n",
      "  59  60  62  64  82  85  86  87  88  89  90  91  93  95 112 115 116 117\n",
      " 118 119 120 121 123 125 141 144 145 146 147 148 149 150 152 154 169 172\n",
      " 173 174 175 176 177 178 180 182 196 199 200 201 202 203 204 205 207 209\n",
      " 222 225 226 227 228 229 230 231 233 235 247 250 251 252 253 254 255 256\n",
      " 258 260 271 274 275 276 277 278 279 280 282 284 294 297 298 299 300 301\n",
      " 302 303 305 307 316 319 320 321 322 323 324 325 327 329 337 340 341 342\n",
      " 343 344 345 346 348 350 357 360 361 362 363 364 365 366 368 370 376 379\n",
      " 380 381 382 383 384 385 387 389 394 397 398 399 400 401 402 403 405 407\n",
      " 409 410 411 412 413 414 415 416 417 418 419 420 421 422 423 424 426 427\n",
      " 428 429 430 431 432 433 434 435 436 438 439 440 442 443 444 445 446 447\n",
      " 448 449 450 451 452 453 454 455 456 457 458 459 460 461 462 463 464 465\n",
      " 466 467 468 469 471 472 473 474 475 476 477 478 479 480 481 482 484 485\n",
      " 486 487 488 489 490 491 492 493 494 495 496 497 498 499 500 501 502 503\n",
      " 504 505 506 507 508 509 510 511 512 513 514 515 516 517 518 519 520 521\n",
      " 522 523 524 525 526 527 528 529 530 531 532 533 534 535 536 537 538 539\n",
      " 540 541 542 543 544 545 546 547 548 549 550 552 553 554 555 556 557 559\n",
      " 560] are constant.\n",
      "  warnings.warn(\"Features %s are constant.\" % constant_features_idx,\n",
      "/Users/mac/opt/anaconda3/lib/python3.8/site-packages/sklearn/feature_selection/_univariate_selection.py:116: RuntimeWarning: invalid value encountered in divide\n",
      "  f = msb / msw\n",
      "/Users/mac/opt/anaconda3/lib/python3.8/site-packages/sklearn/feature_selection/_univariate_selection.py:114: UserWarning: Features [  0  19  22  23  24  25  26  27  28  30  32  48  51  54  55  56  57  58\n",
      "  59  60  62  64  82  85  86  87  88  89  90  91  93  95 112 115 116 117\n",
      " 118 119 120 121 123 125 141 144 145 146 147 148 149 150 152 154 169 172\n",
      " 173 174 175 176 177 178 180 182 196 199 200 201 202 203 204 205 207 209\n",
      " 222 225 226 227 228 229 230 231 233 235 247 250 251 252 253 254 255 256\n",
      " 258 260 271 274 275 276 277 278 279 280 282 284 294 297 298 299 300 301\n",
      " 302 303 305 307 316 319 320 321 322 323 324 325 327 329 337 340 341 342\n",
      " 343 344 345 346 348 350 357 360 361 362 363 364 365 366 368 370 376 379\n",
      " 380 381 382 383 384 385 387 389 394 397 398 399 400 401 402 403 405 407\n",
      " 409 410 411 412 413 414 415 416 417 418 419 420 421 422 423 424 426 427\n",
      " 428 429 430 431 432 433 434 435 436 438 439 440 442 443 444 445 446 447\n",
      " 448 449 450 451 452 453 454 455 456 457 458 459 460 461 462 463 464 465\n",
      " 466 467 468 469 471 472 473 474 475 476 477 478 479 480 481 482 484 485\n",
      " 486 487 488 489 490 491 492 493 494 495 496 497 498 499 500 501 502 503\n",
      " 504 505 506 507 508 509 510 511 512 513 514 515 516 517 518 519 520 521\n",
      " 522 523 524 525 526 527 528 529 530 531 532 533 534 535 536 537 538 539\n",
      " 540 541 542 543 544 545 546 547 548 549 550 552 553 554 555 556 557 559\n",
      " 560] are constant.\n",
      "  warnings.warn(\"Features %s are constant.\" % constant_features_idx,\n",
      "/Users/mac/opt/anaconda3/lib/python3.8/site-packages/sklearn/feature_selection/_univariate_selection.py:116: RuntimeWarning: invalid value encountered in divide\n",
      "  f = msb / msw\n",
      "/Users/mac/opt/anaconda3/lib/python3.8/site-packages/sklearn/feature_selection/_univariate_selection.py:114: UserWarning: Features [  0  19  22  23  24  25  26  27  30  32  48  51  54  55  56  57  58  59\n",
      "  62  64  82  85  86  87  88  89  90  93  95 112 115 116 117 118 119 120\n",
      " 123 125 141 144 145 146 147 148 149 152 154 169 172 173 174 175 176 177\n",
      " 180 182 196 199 200 201 202 203 204 207 209 222 225 226 227 228 229 230\n",
      " 233 235 247 250 251 252 253 254 255 258 260 271 274 275 276 277 278 279\n",
      " 282 284 294 297 298 299 300 301 302 305 307 316 319 320 321 322 323 324\n",
      " 327 329 337 340 341 342 343 344 345 348 350 357 360 361 362 363 364 365\n",
      " 368 370 376 379 380 381 382 383 384 387 389 394 397 398 399 400 401 402\n",
      " 405 407 409 410 411 412 413 414 415 416 417 418 419 420 421 422 423 424\n",
      " 426 427 428 429 430 431 432 433 434 435 436 438 439 440 442 443 444 445\n",
      " 446 447 448 449 450 451 452 453 454 455 456 457 458 459 460 461 462 463\n",
      " 464 465 466 467 468 469 471 472 473 474 475 476 477 478 479 480 481 482\n",
      " 484 485 486 487 488 489 491 492 493 494 495 496 497 498 499 500 501 502\n",
      " 503 504 505 506 507 508 509 510 511 512 513 514 515 516 517 518 519 520\n",
      " 521 522 523 524 525 526 527 528 529 530 531 532 533 534 535 536 537 538\n",
      " 539 540 541 542 543 544 545 547 548 549 550 552 553 554 555 556 557 559\n",
      " 560] are constant.\n",
      "  warnings.warn(\"Features %s are constant.\" % constant_features_idx,\n",
      "/Users/mac/opt/anaconda3/lib/python3.8/site-packages/sklearn/feature_selection/_univariate_selection.py:116: RuntimeWarning: invalid value encountered in divide\n",
      "  f = msb / msw\n",
      "/Users/mac/opt/anaconda3/lib/python3.8/site-packages/sklearn/feature_selection/_univariate_selection.py:114: UserWarning: Features [  0  19  22  24  26  30  32  48  51  54  56  57  58  62  64  82  85  87\n",
      "  89  93  95 112 115 117 119 123 125 141 144 146 148 152 154 169 172 174\n",
      " 176 180 182 196 199 201 203 207 209 222 225 227 229 233 235 247 250 252\n",
      " 254 258 260 271 274 276 278 282 284 294 297 299 301 305 307 316 319 321\n",
      " 323 327 329 337 340 342 344 348 350 357 360 362 364 368 370 376 379 381\n",
      " 383 387 389 394 397 399 401 405 407 409 410 411 412 414 415 416 418 419\n",
      " 420 421 422 423 424 426 427 428 429 430 431 432 433 434 435 436 438 439\n",
      " 440 442 443 444 445 446 447 448 449 450 451 452 453 454 455 456 457 458\n",
      " 459 460 461 462 463 464 465 466 467 468 469 471 472 473 474 475 476 477\n",
      " 478 479 480 481 482 484 485 486 488 489 491 492 493 494 495 496 497 498\n",
      " 499 500 501 502 503 504 505 507 508 509 510 511 512 513 514 515 516 517\n",
      " 518 519 520 521 522 523 524 526 527 528 529 530 531 532 533 534 535 536\n",
      " 537 538 539 541 542 543 544 545 547 548 549 550 552 553 554 555 556 557\n",
      " 559 560] are constant.\n",
      "  warnings.warn(\"Features %s are constant.\" % constant_features_idx,\n",
      "/Users/mac/opt/anaconda3/lib/python3.8/site-packages/sklearn/feature_selection/_univariate_selection.py:116: RuntimeWarning: invalid value encountered in divide\n",
      "  f = msb / msw\n",
      "/Users/mac/opt/anaconda3/lib/python3.8/site-packages/sklearn/feature_selection/_univariate_selection.py:114: UserWarning: Features [  0  19  24  26  30  32  48  51  56  57  58  62  64  82  87  89  93  95\n",
      " 112 117 119 123 125 141 146 148 152 154 169 174 176 180 182 196 201 203\n",
      " 207 209 222 227 229 233 235 247 252 254 258 260 271 276 278 282 284 294\n",
      " 299 301 305 307 316 321 323 327 329 337 342 344 348 350 357 362 364 368\n",
      " 370 376 381 383 387 389 394 399 401 405 407 409 410 411 412 414 415 416\n",
      " 418 419 420 421 422 423 424 426 427 428 429 430 431 432 433 434 435 436\n",
      " 438 439 440 442 443 445 446 447 448 449 450 451 452 453 454 455 456 457\n",
      " 458 459 460 461 462 463 464 465 466 467 468 469 471 472 474 475 476 477\n",
      " 478 479 480 481 482 484 485 486 488 489 491 492 493 494 496 497 498 499\n",
      " 500 501 502 503 504 505 507 508 509 510 511 512 513 514 515 516 517 518\n",
      " 519 520 521 522 523 524 526 527 528 529 530 531 532 533 534 535 536 537\n",
      " 538 539 541 542 543 544 545 547 548 549 550 552 553 554 555 556 557 559\n",
      " 560] are constant.\n",
      "  warnings.warn(\"Features %s are constant.\" % constant_features_idx,\n",
      "/Users/mac/opt/anaconda3/lib/python3.8/site-packages/sklearn/feature_selection/_univariate_selection.py:116: RuntimeWarning: invalid value encountered in divide\n",
      "  f = msb / msw\n",
      "/Users/mac/opt/anaconda3/lib/python3.8/site-packages/sklearn/feature_selection/_univariate_selection.py:114: UserWarning: Features [  0  19  24  26  30  32  48  51  56  57  58  62  64  82  87  89  93  95\n",
      " 112 117 119 123 125 141 146 148 152 154 169 174 176 180 182 196 201 203\n",
      " 207 209 222 227 229 233 235 247 252 254 258 260 271 276 278 282 284 294\n",
      " 299 301 305 307 316 321 323 327 329 337 342 344 348 350 357 362 364 368\n",
      " 370 376 381 383 387 389 394 399 401 405 407 409 410 411 412 414 415 416\n",
      " 418 419 420 421 422 423 424 426 427 428 429 430 431 432 433 434 435 436\n",
      " 438 439 440 442 443 445 446 447 448 449 450 451 453 454 455 456 457 458\n",
      " 459 460 461 462 463 464 465 466 467 468 469 471 472 474 475 476 477 478\n",
      " 479 480 481 482 484 485 486 488 489 491 492 493 494 496 497 498 499 500\n",
      " 501 502 503 504 505 507 508 509 510 511 512 513 514 515 516 517 518 519\n",
      " 520 521 522 523 524 526 527 528 529 530 531 532 533 534 535 536 537 538\n",
      " 539 541 542 543 544 545 547 548 549 550 552 553 554 555 556 557 559 560] are constant.\n",
      "  warnings.warn(\"Features %s are constant.\" % constant_features_idx,\n",
      "/Users/mac/opt/anaconda3/lib/python3.8/site-packages/sklearn/feature_selection/_univariate_selection.py:116: RuntimeWarning: invalid value encountered in divide\n",
      "  f = msb / msw\n",
      "/Users/mac/opt/anaconda3/lib/python3.8/site-packages/sklearn/feature_selection/_univariate_selection.py:114: UserWarning: Features [  0  19  24  26  30  32  48  51  56  57  58  62  64  82  87  89  93  95\n",
      " 112 117 119 123 125 141 146 148 152 154 169 174 176 180 182 196 201 203\n",
      " 207 209 222 227 229 233 235 247 252 254 258 260 271 276 278 282 284 294\n",
      " 299 301 305 307 316 321 323 327 329 337 342 344 348 350 357 362 364 368\n",
      " 370 376 381 383 387 389 394 399 401 405 407 409 410 411 412 414 415 416\n",
      " 418 419 420 421 422 423 424 426 427 428 429 430 431 432 433 434 435 436\n",
      " 438 439 440 442 443 445 446 447 448 449 450 451 453 455 456 457 458 459\n",
      " 460 461 462 463 464 465 466 467 468 469 471 472 474 475 476 477 478 479\n",
      " 480 481 482 484 485 486 488 489 491 492 493 494 496 497 498 499 500 501\n",
      " 502 503 504 505 507 508 509 510 511 512 513 514 515 516 517 518 519 520\n",
      " 521 522 523 524 526 527 528 529 530 531 532 533 534 535 536 537 538 539\n",
      " 541 542 543 544 545 547 548 549 550 552 553 554 555 556 557 559 560] are constant.\n",
      "  warnings.warn(\"Features %s are constant.\" % constant_features_idx,\n",
      "/Users/mac/opt/anaconda3/lib/python3.8/site-packages/sklearn/feature_selection/_univariate_selection.py:116: RuntimeWarning: invalid value encountered in divide\n",
      "  f = msb / msw\n",
      "/Users/mac/opt/anaconda3/lib/python3.8/site-packages/sklearn/feature_selection/_univariate_selection.py:114: UserWarning: Features [  0  19  24  26  30  32  48  51  56  57  58  62  64  82  87  89  93  95\n",
      " 112 117 119 123 125 141 146 148 152 154 169 174 176 180 182 196 201 203\n",
      " 207 209 222 227 229 233 235 247 252 254 258 260 271 276 278 282 284 294\n",
      " 299 301 305 307 316 321 323 327 329 337 342 344 348 350 357 362 364 368\n",
      " 370 376 381 383 387 389 394 399 401 405 407 409 410 411 412 414 415 416\n",
      " 418 419 420 421 422 423 424 426 427 428 429 430 431 432 433 434 435 436\n",
      " 438 439 440 442 443 445 446 447 448 449 450 451 453 455 456 457 458 459\n",
      " 460 461 462 463 464 465 466 467 468 469 471 472 474 475 476 477 478 479\n",
      " 480 481 482 484 485 486 488 489 491 492 493 494 496 497 498 499 500 501\n",
      " 502 503 504 505 507 508 509 510 511 512 513 514 515 516 517 518 519 520\n",
      " 521 522 523 524 526 527 528 529 530 531 532 533 534 535 536 537 538 539\n",
      " 541 542 543 544 545 547 548 549 550 552 553 554 555 556 557 559 560] are constant.\n",
      "  warnings.warn(\"Features %s are constant.\" % constant_features_idx,\n",
      "/Users/mac/opt/anaconda3/lib/python3.8/site-packages/sklearn/feature_selection/_univariate_selection.py:116: RuntimeWarning: invalid value encountered in divide\n",
      "  f = msb / msw\n",
      "/Users/mac/opt/anaconda3/lib/python3.8/site-packages/sklearn/feature_selection/_univariate_selection.py:114: UserWarning: Features [  0  19  20  22  23  24  25  26  27  28  30  31  32  48  51  52  54  55\n",
      "  56  57  58  59  60  62  63  64  82  83  85  86  87  88  89  90  91  93\n",
      "  94  95 112 113 115 116 117 118 119 120 121 123 124 125 141 142 144 145\n",
      " 146 147 148 149 150 152 153 154 169 170 172 173 174 175 176 177 178 180\n",
      " 181 182 196 197 199 200 201 202 203 204 205 207 208 209 222 223 225 226\n",
      " 227 228 229 230 231 233 234 235 247 248 250 251 252 253 254 255 256 258\n",
      " 259 260 271 272 274 275 276 277 278 279 280 282 283 284 294 295 297 298\n",
      " 299 300 301 302 303 305 306 307 316 317 319 320 321 322 323 324 325 327\n",
      " 328 329 337 338 340 341 342 343 344 345 346 348 349 350 357 358 360 361\n",
      " 362 363 364 365 366 368 369 370 376 377 379 380 381 382 383 384 385 387\n",
      " 388 389 394 395 397 398 399 400 401 402 403 405 406 407 409 410 411 412\n",
      " 413 414 415 416 417 418 419 420 421 422 423 424 426 427 428 429 430 431\n",
      " 432 433 434 435 436 438 439 440 442 443 444 445 446 447 448 449 450 451\n",
      " 452 453 454 455 456 457 458 459 460 461 462 463 464 465 466 467 468 469\n",
      " 470 471 472 473 474 475 476 477 478 479 480 481 482 484 485 486 487 488\n",
      " 489 490 491 492 493 494 495 496 497 498 499 500 501 502 503 504 505 506\n",
      " 507 508 509 510 511 512 513 514 515 516 517 518 519 520 521 522 523 524\n",
      " 525 526 527 528 529 530 531 532 533 534 535 536 537 538 539 540 541 542\n",
      " 543 544 545 546 547 548 549 550 552 553 554 555 556 557 558 559 560] are constant.\n",
      "  warnings.warn(\"Features %s are constant.\" % constant_features_idx,\n",
      "/Users/mac/opt/anaconda3/lib/python3.8/site-packages/sklearn/feature_selection/_univariate_selection.py:116: RuntimeWarning: invalid value encountered in divide\n",
      "  f = msb / msw\n",
      "/Users/mac/opt/anaconda3/lib/python3.8/site-packages/sklearn/feature_selection/_univariate_selection.py:114: UserWarning: Features [  0  19  20  22  23  24  25  26  27  28  30  31  32  48  51  52  54  55\n",
      "  56  57  58  59  60  62  63  64  82  83  85  86  87  88  89  90  91  93\n",
      "  94  95 112 113 115 116 117 118 119 120 121 123 124 125 141 142 144 145\n",
      " 146 147 148 149 150 152 153 154 169 170 172 173 174 175 176 177 178 180\n",
      " 181 182 196 197 199 200 201 202 203 204 205 207 208 209 222 223 225 226\n",
      " 227 228 229 230 231 233 234 235 247 248 250 251 252 253 254 255 256 258\n",
      " 259 260 271 272 274 275 276 277 278 279 280 282 283 284 294 295 297 298\n",
      " 299 300 301 302 303 305 306 307 316 317 319 320 321 322 323 324 325 327\n",
      " 328 329 337 338 340 341 342 343 344 345 346 348 349 350 357 358 360 361\n",
      " 362 363 364 365 366 368 369 370 376 377 379 380 381 382 383 384 385 387\n",
      " 388 389 394 395 397 398 399 400 401 402 403 405 406 407 409 410 411 412\n",
      " 413 414 415 416 417 418 419 420 421 422 423 424 426 427 428 429 430 431\n",
      " 432 433 434 435 436 438 439 440 442 443 444 445 446 447 448 449 450 451\n",
      " 452 453 454 455 456 457 458 459 460 461 462 463 464 465 466 467 468 469\n",
      " 470 471 472 473 474 475 476 477 478 479 480 481 482 484 485 486 487 488\n",
      " 489 490 491 492 493 494 495 496 497 498 499 500 501 502 503 504 505 506\n",
      " 507 508 509 510 511 512 513 514 515 516 517 518 519 520 521 522 523 524\n",
      " 525 526 527 528 529 530 531 532 533 534 535 536 537 538 539 540 541 542\n",
      " 543 544 545 546 547 548 549 550 552 553 554 555 556 557 558 559 560] are constant.\n",
      "  warnings.warn(\"Features %s are constant.\" % constant_features_idx,\n",
      "/Users/mac/opt/anaconda3/lib/python3.8/site-packages/sklearn/feature_selection/_univariate_selection.py:116: RuntimeWarning: invalid value encountered in divide\n",
      "  f = msb / msw\n",
      "/Users/mac/opt/anaconda3/lib/python3.8/site-packages/sklearn/feature_selection/_univariate_selection.py:114: UserWarning: Features [  0  19  22  23  24  25  26  27  28  30  32  48  51  54  55  56  57  58\n",
      "  59  60  62  64  82  85  86  87  88  89  90  91  93  95 112 115 116 117\n",
      " 118 119 120 121 123 125 141 144 145 146 147 148 149 150 152 154 169 172\n",
      " 173 174 175 176 177 178 180 182 196 199 200 201 202 203 204 205 207 209\n",
      " 222 225 226 227 228 229 230 231 233 235 247 250 251 252 253 254 255 256\n",
      " 258 260 271 274 275 276 277 278 279 280 282 284 294 297 298 299 300 301\n",
      " 302 303 305 307 316 319 320 321 322 323 324 325 327 329 337 340 341 342\n",
      " 343 344 345 346 348 350 357 360 361 362 363 364 365 366 368 370 376 379\n",
      " 380 381 382 383 384 385 387 389 394 397 398 399 400 401 402 403 405 407\n",
      " 409 410 411 412 413 414 415 416 417 418 419 420 421 422 423 424 426 427\n",
      " 428 429 430 431 432 433 434 435 436 438 439 440 442 443 444 445 446 447\n",
      " 448 449 450 451 452 453 454 455 456 457 458 459 460 461 462 463 464 465\n",
      " 466 467 468 469 471 472 473 474 475 476 477 478 479 480 481 482 484 485\n",
      " 486 487 488 489 490 491 492 493 494 495 496 497 498 499 500 501 502 503\n",
      " 504 505 506 507 508 509 510 511 512 513 514 515 516 517 518 519 520 521\n",
      " 522 523 524 525 526 527 528 529 530 531 532 533 534 535 536 537 538 539\n",
      " 540 541 542 543 544 545 546 547 548 549 550 552 553 554 555 556 557 559\n",
      " 560] are constant.\n",
      "  warnings.warn(\"Features %s are constant.\" % constant_features_idx,\n",
      "/Users/mac/opt/anaconda3/lib/python3.8/site-packages/sklearn/feature_selection/_univariate_selection.py:116: RuntimeWarning: invalid value encountered in divide\n",
      "  f = msb / msw\n",
      "/Users/mac/opt/anaconda3/lib/python3.8/site-packages/sklearn/feature_selection/_univariate_selection.py:114: UserWarning: Features [  0  19  22  23  24  25  26  27  28  30  32  48  51  54  55  56  57  58\n",
      "  59  60  62  64  82  85  86  87  88  89  90  91  93  95 112 115 116 117\n",
      " 118 119 120 121 123 125 141 144 145 146 147 148 149 150 152 154 169 172\n",
      " 173 174 175 176 177 178 180 182 196 199 200 201 202 203 204 205 207 209\n",
      " 222 225 226 227 228 229 230 231 233 235 247 250 251 252 253 254 255 256\n",
      " 258 260 271 274 275 276 277 278 279 280 282 284 294 297 298 299 300 301\n",
      " 302 303 305 307 316 319 320 321 322 323 324 325 327 329 337 340 341 342\n",
      " 343 344 345 346 348 350 357 360 361 362 363 364 365 366 368 370 376 379\n",
      " 380 381 382 383 384 385 387 389 394 397 398 399 400 401 402 403 405 407\n",
      " 409 410 411 412 413 414 415 416 417 418 419 420 421 422 423 424 426 427\n",
      " 428 429 430 431 432 433 434 435 436 438 439 440 442 443 444 445 446 447\n",
      " 448 449 450 451 452 453 454 455 456 457 458 459 460 461 462 463 464 465\n",
      " 466 467 468 469 471 472 473 474 475 476 477 478 479 480 481 482 484 485\n",
      " 486 487 488 489 490 491 492 493 494 495 496 497 498 499 500 501 502 503\n",
      " 504 505 506 507 508 509 510 511 512 513 514 515 516 517 518 519 520 521\n",
      " 522 523 524 525 526 527 528 529 530 531 532 533 534 535 536 537 538 539\n",
      " 540 541 542 543 544 545 546 547 548 549 550 552 553 554 555 556 557 559\n",
      " 560] are constant.\n",
      "  warnings.warn(\"Features %s are constant.\" % constant_features_idx,\n",
      "/Users/mac/opt/anaconda3/lib/python3.8/site-packages/sklearn/feature_selection/_univariate_selection.py:116: RuntimeWarning: invalid value encountered in divide\n",
      "  f = msb / msw\n",
      "/Users/mac/opt/anaconda3/lib/python3.8/site-packages/sklearn/feature_selection/_univariate_selection.py:114: UserWarning: Features [  0  19  22  23  24  25  26  27  30  32  48  51  54  55  56  57  58  59\n",
      "  62  64  82  85  86  87  88  89  90  93  95 112 115 116 117 118 119 120\n",
      " 123 125 141 144 145 146 147 148 149 152 154 169 172 173 174 175 176 177\n",
      " 180 182 196 199 200 201 202 203 204 207 209 222 225 226 227 228 229 230\n",
      " 233 235 247 250 251 252 253 254 255 258 260 271 274 275 276 277 278 279\n",
      " 282 284 294 297 298 299 300 301 302 305 307 316 319 320 321 322 323 324\n",
      " 327 329 337 340 341 342 343 344 345 348 350 357 360 361 362 363 364 365\n",
      " 368 370 376 379 380 381 382 383 384 387 389 394 397 398 399 400 401 402\n",
      " 405 407 409 410 411 412 413 414 415 416 417 418 419 420 421 422 423 424\n",
      " 426 427 428 429 430 431 432 433 434 435 436 438 439 440 442 443 444 445\n",
      " 446 447 448 449 450 451 452 453 454 455 456 457 458 459 460 461 462 463\n",
      " 464 465 466 467 468 469 471 472 473 474 475 476 477 478 479 480 481 482\n",
      " 484 485 486 487 488 489 491 492 493 494 495 496 497 498 499 500 501 502\n",
      " 503 504 505 506 507 508 509 510 511 512 513 514 515 516 517 518 519 520\n",
      " 521 522 523 524 525 526 527 528 529 530 531 532 533 534 535 536 537 538\n",
      " 539 540 541 542 543 544 545 547 548 549 550 552 553 554 555 556 557 559\n",
      " 560] are constant.\n",
      "  warnings.warn(\"Features %s are constant.\" % constant_features_idx,\n",
      "/Users/mac/opt/anaconda3/lib/python3.8/site-packages/sklearn/feature_selection/_univariate_selection.py:116: RuntimeWarning: invalid value encountered in divide\n",
      "  f = msb / msw\n",
      "/Users/mac/opt/anaconda3/lib/python3.8/site-packages/sklearn/feature_selection/_univariate_selection.py:114: UserWarning: Features [  0  19  22  24  26  30  32  48  51  54  56  57  58  62  64  82  85  87\n",
      "  89  93  95 112 115 117 119 123 125 141 144 146 148 152 154 169 172 174\n",
      " 176 180 182 196 199 201 203 207 209 222 225 227 229 233 235 247 250 252\n",
      " 254 258 260 271 274 276 278 282 284 294 297 299 301 305 307 316 319 321\n",
      " 323 327 329 337 340 342 344 348 350 357 360 362 364 368 370 376 379 381\n",
      " 383 387 389 394 397 399 401 405 407 409 410 411 412 414 415 416 418 419\n",
      " 420 421 422 423 424 426 427 428 429 430 431 432 433 434 435 436 438 439\n",
      " 440 442 443 444 445 446 447 448 449 450 451 452 453 454 455 456 457 458\n",
      " 459 460 461 462 463 464 465 466 467 468 469 471 472 473 474 475 476 477\n",
      " 478 479 480 481 482 484 485 486 488 489 491 492 493 494 495 496 497 498\n",
      " 499 500 501 502 503 504 505 507 508 509 510 511 512 513 514 515 516 517\n",
      " 518 519 520 521 522 523 524 526 527 528 529 530 531 532 533 534 535 536\n",
      " 537 538 539 541 542 543 544 545 547 548 549 550 552 553 554 555 556 557\n",
      " 559 560] are constant.\n",
      "  warnings.warn(\"Features %s are constant.\" % constant_features_idx,\n",
      "/Users/mac/opt/anaconda3/lib/python3.8/site-packages/sklearn/feature_selection/_univariate_selection.py:116: RuntimeWarning: invalid value encountered in divide\n",
      "  f = msb / msw\n",
      "/Users/mac/opt/anaconda3/lib/python3.8/site-packages/sklearn/feature_selection/_univariate_selection.py:114: UserWarning: Features [  0  19  24  26  30  32  48  51  56  57  58  62  64  82  87  89  93  95\n",
      " 112 117 119 123 125 141 146 148 152 154 169 174 176 180 182 196 201 203\n",
      " 207 209 222 227 229 233 235 247 252 254 258 260 271 276 278 282 284 294\n",
      " 299 301 305 307 316 321 323 327 329 337 342 344 348 350 357 362 364 368\n",
      " 370 376 381 383 387 389 394 399 401 405 407 409 410 411 412 414 415 416\n",
      " 418 419 420 421 422 423 424 426 427 428 429 430 431 432 433 434 435 436\n",
      " 438 439 440 442 443 444 445 446 447 448 449 450 451 452 453 454 455 456\n",
      " 457 458 459 460 461 462 463 464 465 466 467 468 469 471 472 473 474 475\n",
      " 476 477 478 479 480 481 482 484 485 486 488 489 491 492 493 494 496 497\n",
      " 498 499 500 501 502 503 504 505 507 508 509 510 511 512 513 514 515 516\n",
      " 517 518 519 520 521 522 523 524 526 527 528 529 530 531 532 533 534 535\n",
      " 536 537 538 539 541 542 543 544 545 547 548 549 550 552 553 554 555 556\n",
      " 557 559 560] are constant.\n",
      "  warnings.warn(\"Features %s are constant.\" % constant_features_idx,\n",
      "/Users/mac/opt/anaconda3/lib/python3.8/site-packages/sklearn/feature_selection/_univariate_selection.py:116: RuntimeWarning: invalid value encountered in divide\n",
      "  f = msb / msw\n",
      "/Users/mac/opt/anaconda3/lib/python3.8/site-packages/sklearn/feature_selection/_univariate_selection.py:114: UserWarning: Features [  0  19  24  26  30  32  48  51  56  57  58  62  64  82  87  89  93  95\n",
      " 112 117 119 123 125 141 146 148 152 154 169 174 176 180 182 196 201 203\n",
      " 207 209 222 227 229 233 235 247 252 254 258 260 271 276 278 282 284 294\n",
      " 299 301 305 307 316 321 323 327 329 337 342 344 348 350 357 362 364 368\n",
      " 370 376 381 383 387 389 394 399 401 405 407 409 410 411 412 414 415 416\n",
      " 418 419 420 421 422 423 424 426 427 428 429 430 431 432 433 434 435 436\n",
      " 438 439 440 442 443 444 445 446 447 448 449 450 451 452 453 454 455 456\n",
      " 457 458 459 460 461 462 463 464 465 466 467 468 469 471 472 473 474 475\n",
      " 476 477 478 479 480 481 482 484 485 486 488 489 491 492 493 494 496 497\n",
      " 498 499 500 501 502 503 504 505 507 508 509 510 511 512 513 514 515 516\n",
      " 517 518 519 520 521 522 523 524 526 527 528 529 530 531 532 533 534 535\n",
      " 536 537 538 539 541 542 543 544 545 547 548 549 550 552 553 554 555 556\n",
      " 557 559 560] are constant.\n",
      "  warnings.warn(\"Features %s are constant.\" % constant_features_idx,\n",
      "/Users/mac/opt/anaconda3/lib/python3.8/site-packages/sklearn/feature_selection/_univariate_selection.py:116: RuntimeWarning: invalid value encountered in divide\n",
      "  f = msb / msw\n",
      "/Users/mac/opt/anaconda3/lib/python3.8/site-packages/sklearn/feature_selection/_univariate_selection.py:114: UserWarning: Features [  0  19  24  30  32  48  51  56  57  58  62  64  82  87  93  95 112 117\n",
      " 123 125 141 146 152 154 169 174 180 182 196 201 207 209 222 227 233 235\n",
      " 247 252 258 260 271 276 282 284 294 299 305 307 316 321 327 329 337 342\n",
      " 348 350 357 362 368 370 376 381 387 389 394 399 405 407 409 410 411 412\n",
      " 414 415 416 418 419 420 421 422 423 424 426 427 428 429 430 431 432 433\n",
      " 435 436 438 439 440 442 443 444 445 446 447 448 449 450 451 452 453 454\n",
      " 455 456 457 458 459 460 461 462 463 464 465 466 467 468 469 471 472 473\n",
      " 474 475 476 477 478 479 480 481 482 484 485 486 488 489 491 492 493 494\n",
      " 496 497 498 499 500 501 502 503 504 505 507 508 509 510 511 512 513 514\n",
      " 515 516 517 518 519 520 521 522 523 524 526 527 528 529 530 531 532 534\n",
      " 535 536 537 538 539 541 542 543 544 545 547 548 549 550 552 553 554 555\n",
      " 556 557 559 560] are constant.\n",
      "  warnings.warn(\"Features %s are constant.\" % constant_features_idx,\n",
      "/Users/mac/opt/anaconda3/lib/python3.8/site-packages/sklearn/feature_selection/_univariate_selection.py:116: RuntimeWarning: invalid value encountered in divide\n",
      "  f = msb / msw\n",
      "/Users/mac/opt/anaconda3/lib/python3.8/site-packages/sklearn/feature_selection/_univariate_selection.py:114: UserWarning: Features [  0  19  24  30  32  48  51  56  57  58  62  64  82  87  93  95 112 117\n",
      " 123 125 141 146 152 154 169 174 180 182 196 201 207 209 222 227 233 235\n",
      " 247 252 258 260 271 276 282 284 294 299 305 307 316 321 327 329 337 342\n",
      " 348 350 357 362 368 370 376 381 387 389 394 399 405 407 409 410 411 412\n",
      " 414 415 416 418 419 420 421 422 423 424 426 427 428 429 430 431 432 433\n",
      " 435 436 438 439 440 442 443 444 445 446 447 448 449 450 451 452 453 454\n",
      " 455 456 457 458 459 460 461 462 463 464 465 466 467 468 469 471 472 473\n",
      " 474 475 476 477 478 479 480 481 482 484 485 486 488 489 491 492 493 494\n",
      " 496 497 498 499 500 501 502 503 504 505 507 508 509 510 511 512 513 514\n",
      " 515 516 517 518 519 520 521 522 523 524 526 527 528 529 530 531 532 534\n",
      " 535 536 537 538 539 541 542 543 544 545 547 548 549 550 552 553 554 555\n",
      " 556 557 559 560] are constant.\n",
      "  warnings.warn(\"Features %s are constant.\" % constant_features_idx,\n",
      "/Users/mac/opt/anaconda3/lib/python3.8/site-packages/sklearn/feature_selection/_univariate_selection.py:116: RuntimeWarning: invalid value encountered in divide\n",
      "  f = msb / msw\n"
     ]
    },
    {
     "data": {
      "image/png": "[encoded data removed]",
      "text/plain": [
       "<Figure size 864x576 with 1 Axes>"
      ]
     },
     "metadata": {
      "needs_background": "light"
     },
     "output_type": "display_data"
    }
   ],
   "source": [
    "evaluation(model_2)"
   ]
  }
 ],
 "metadata": {
  "colab": {
   "include_colab_link": true,
   "name": "Untitled5-Copy5.ipynb",
   "provenance": []
  },
  "kernelspec": {
   "display_name": "Python 3",
   "language": "python",
   "name": "python3"
  },
  "language_info": {
   "codemirror_mode": {
    "name": "ipython",
    "version": 3
   },
   "file_extension": ".py",
   "mimetype": "text/x-python",
   "name": "python",
   "nbconvert_exporter": "python",
   "pygments_lexer": "ipython3",
   "version": "3.8.5 (default, Sep  4 2020, 02:22:02) \n[Clang 10.0.0 ]"
  },
  "vscode": {
   "interpreter": {
    "hash": "7b34b089ce0dfc9935940e0a22050b2949fa617f7a2b73925623c261bed16aeb"
   }
  }
 },
 "nbformat": 4,
 "nbformat_minor": 1
}
