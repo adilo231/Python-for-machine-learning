{
 "cells": [
  {
   "attachments": {},
   "cell_type": "markdown",
   "metadata": {},
   "source": [
    "<a \n",
    "href=\"https://colab.research.google.com/github/adilo231/Python-for-machine-learning/blob/main/Exercices Global/Exercices Global/TitanicDataset.ipynb\" \n",
    "target=\"_parent\"><img src=\"https://colab.research.google.com/assets/colab-badge.svg\" alt=\"Open In Colab\"/></a>"
   ]
  },
  {
   "cell_type": "code",
   "execution_count": 2,
   "metadata": {},
   "outputs": [],
   "source": [
    "import numpy as np\n",
    "import pandas as pd\n",
    "import matplotlib.pyplot as plt\n",
    "import seaborn as sns\n",
    "\n",
    "import warnings\n",
    "warnings.filterwarnings('ignore')"
   ]
  },
  {
   "cell_type": "code",
   "execution_count": 43,
   "metadata": {},
   "outputs": [
    {
     "data": {
      "text/html": [
       "<div>\n",
       "<style scoped>\n",
       "    .dataframe tbody tr th:only-of-type {\n",
       "        vertical-align: middle;\n",
       "    }\n",
       "\n",
       "    .dataframe tbody tr th {\n",
       "        vertical-align: top;\n",
       "    }\n",
       "\n",
       "    .dataframe thead th {\n",
       "        text-align: right;\n",
       "    }\n",
       "</style>\n",
       "<table border=\"1\" class=\"dataframe\">\n",
       "  <thead>\n",
       "    <tr style=\"text-align: right;\">\n",
       "      <th></th>\n",
       "      <th>pclass</th>\n",
       "      <th>survived</th>\n",
       "      <th>name</th>\n",
       "      <th>sex</th>\n",
       "      <th>age</th>\n",
       "      <th>sibsp</th>\n",
       "      <th>parch</th>\n",
       "      <th>ticket</th>\n",
       "      <th>fare</th>\n",
       "      <th>cabin</th>\n",
       "      <th>embarked</th>\n",
       "      <th>boat</th>\n",
       "      <th>body</th>\n",
       "      <th>home.dest</th>\n",
       "    </tr>\n",
       "  </thead>\n",
       "  <tbody>\n",
       "    <tr>\n",
       "      <th>0</th>\n",
       "      <td>1</td>\n",
       "      <td>1</td>\n",
       "      <td>Allen, Miss. Elisabeth Walton</td>\n",
       "      <td>female</td>\n",
       "      <td>29.0000</td>\n",
       "      <td>0</td>\n",
       "      <td>0</td>\n",
       "      <td>24160</td>\n",
       "      <td>211.3375</td>\n",
       "      <td>B5</td>\n",
       "      <td>S</td>\n",
       "      <td>2</td>\n",
       "      <td>NaN</td>\n",
       "      <td>St Louis, MO</td>\n",
       "    </tr>\n",
       "    <tr>\n",
       "      <th>1</th>\n",
       "      <td>1</td>\n",
       "      <td>1</td>\n",
       "      <td>Allison, Master. Hudson Trevor</td>\n",
       "      <td>male</td>\n",
       "      <td>0.9167</td>\n",
       "      <td>1</td>\n",
       "      <td>2</td>\n",
       "      <td>113781</td>\n",
       "      <td>151.5500</td>\n",
       "      <td>C22 C26</td>\n",
       "      <td>S</td>\n",
       "      <td>11</td>\n",
       "      <td>NaN</td>\n",
       "      <td>Montreal, PQ / Chesterville, ON</td>\n",
       "    </tr>\n",
       "    <tr>\n",
       "      <th>2</th>\n",
       "      <td>1</td>\n",
       "      <td>0</td>\n",
       "      <td>Allison, Miss. Helen Loraine</td>\n",
       "      <td>female</td>\n",
       "      <td>2.0000</td>\n",
       "      <td>1</td>\n",
       "      <td>2</td>\n",
       "      <td>113781</td>\n",
       "      <td>151.5500</td>\n",
       "      <td>C22 C26</td>\n",
       "      <td>S</td>\n",
       "      <td>NaN</td>\n",
       "      <td>NaN</td>\n",
       "      <td>Montreal, PQ / Chesterville, ON</td>\n",
       "    </tr>\n",
       "    <tr>\n",
       "      <th>3</th>\n",
       "      <td>1</td>\n",
       "      <td>0</td>\n",
       "      <td>Allison, Mr. Hudson Joshua Creighton</td>\n",
       "      <td>male</td>\n",
       "      <td>30.0000</td>\n",
       "      <td>1</td>\n",
       "      <td>2</td>\n",
       "      <td>113781</td>\n",
       "      <td>151.5500</td>\n",
       "      <td>C22 C26</td>\n",
       "      <td>S</td>\n",
       "      <td>NaN</td>\n",
       "      <td>135.0</td>\n",
       "      <td>Montreal, PQ / Chesterville, ON</td>\n",
       "    </tr>\n",
       "    <tr>\n",
       "      <th>4</th>\n",
       "      <td>1</td>\n",
       "      <td>0</td>\n",
       "      <td>Allison, Mrs. Hudson J C (Bessie Waldo Daniels)</td>\n",
       "      <td>female</td>\n",
       "      <td>25.0000</td>\n",
       "      <td>1</td>\n",
       "      <td>2</td>\n",
       "      <td>113781</td>\n",
       "      <td>151.5500</td>\n",
       "      <td>C22 C26</td>\n",
       "      <td>S</td>\n",
       "      <td>NaN</td>\n",
       "      <td>NaN</td>\n",
       "      <td>Montreal, PQ / Chesterville, ON</td>\n",
       "    </tr>\n",
       "  </tbody>\n",
       "</table>\n",
       "</div>"
      ],
      "text/plain": [
       "   pclass  survived                                             name     sex  \\\n",
       "0       1         1                    Allen, Miss. Elisabeth Walton  female   \n",
       "1       1         1                   Allison, Master. Hudson Trevor    male   \n",
       "2       1         0                     Allison, Miss. Helen Loraine  female   \n",
       "3       1         0             Allison, Mr. Hudson Joshua Creighton    male   \n",
       "4       1         0  Allison, Mrs. Hudson J C (Bessie Waldo Daniels)  female   \n",
       "\n",
       "       age  sibsp  parch  ticket      fare    cabin embarked boat   body  \\\n",
       "0  29.0000      0      0   24160  211.3375       B5        S    2    NaN   \n",
       "1   0.9167      1      2  113781  151.5500  C22 C26        S   11    NaN   \n",
       "2   2.0000      1      2  113781  151.5500  C22 C26        S  NaN    NaN   \n",
       "3  30.0000      1      2  113781  151.5500  C22 C26        S  NaN  135.0   \n",
       "4  25.0000      1      2  113781  151.5500  C22 C26        S  NaN    NaN   \n",
       "\n",
       "                         home.dest  \n",
       "0                     St Louis, MO  \n",
       "1  Montreal, PQ / Chesterville, ON  \n",
       "2  Montreal, PQ / Chesterville, ON  \n",
       "3  Montreal, PQ / Chesterville, ON  \n",
       "4  Montreal, PQ / Chesterville, ON  "
      ]
     },
     "execution_count": 43,
     "metadata": {},
     "output_type": "execute_result"
    }
   ],
   "source": [
    "#Loading the dataset\n",
    "data = pd.read_excel('titanic3.xls')\n",
    "\n",
    "#Print the first 5 rows of the dataframe.\n",
    "df= data.copy()\n",
    "df.head()"
   ]
  },
  {
   "cell_type": "code",
   "execution_count": 3,
   "metadata": {},
   "outputs": [],
   "source": [
    "df.drop('name',axis=1,inplace=True)"
   ]
  },
  {
   "cell_type": "code",
   "execution_count": 38,
   "metadata": {},
   "outputs": [
    {
     "data": {
      "text/plain": [
       "object     7\n",
       "int64      4\n",
       "float64    3\n",
       "dtype: int64"
      ]
     },
     "execution_count": 38,
     "metadata": {},
     "output_type": "execute_result"
    },
    {
     "data": {
      "image/png": "[encoded data removed]",
      "text/plain": [
       "<Figure size 432x288 with 1 Axes>"
      ]
     },
     "metadata": {},
     "output_type": "display_data"
    }
   ],
   "source": [
    "df.dtypes.value_counts().plot.pie(autopct='%1.1f%%',startangle=90)\n",
    "df.dtypes.value_counts()\n"
   ]
  },
  {
   "cell_type": "code",
   "execution_count": 9,
   "metadata": {},
   "outputs": [
    {
     "data": {
      "text/plain": [
       "pclass          0\n",
       "survived        0\n",
       "sex             0\n",
       "age           263\n",
       "sibsp           0\n",
       "parch           0\n",
       "ticket          0\n",
       "fare            1\n",
       "cabin        1014\n",
       "embarked        2\n",
       "boat          823\n",
       "body         1188\n",
       "home.dest     564\n",
       "dtype: int64"
      ]
     },
     "execution_count": 9,
     "metadata": {},
     "output_type": "execute_result"
    }
   ],
   "source": [
    "df.isna().sum()"
   ]
  },
  {
   "cell_type": "code",
   "execution_count": 39,
   "metadata": {},
   "outputs": [],
   "source": [
    "df.drop(['name','cabin','boat','body','home.dest','ticket'],axis=1,inplace=True)"
   ]
  },
  {
   "cell_type": "code",
   "execution_count": 30,
   "metadata": {},
   "outputs": [
    {
     "data": {
      "text/plain": [
       "pclass        0\n",
       "survived      0\n",
       "sex           0\n",
       "age         263\n",
       "sibsp         0\n",
       "parch         0\n",
       "fare          1\n",
       "embarked      2\n",
       "dtype: int64"
      ]
     },
     "execution_count": 30,
     "metadata": {},
     "output_type": "execute_result"
    }
   ],
   "source": [
    "df.isna().sum()"
   ]
  },
  {
   "cell_type": "code",
   "execution_count": 40,
   "metadata": {},
   "outputs": [],
   "source": [
    "df['age'].fillna(df['age'].mean(), inplace = True)\n",
    "\n",
    "df.dropna(1,inplace=True)"
   ]
  },
  {
   "cell_type": "code",
   "execution_count": 18,
   "metadata": {},
   "outputs": [
    {
     "data": {
      "text/plain": [
       "pclass      0\n",
       "survived    0\n",
       "sex         0\n",
       "age         0\n",
       "sibsp       0\n",
       "parch       0\n",
       "ticket      0\n",
       "dtype: int64"
      ]
     },
     "execution_count": 18,
     "metadata": {},
     "output_type": "execute_result"
    }
   ],
   "source": [
    "df.isna().sum()"
   ]
  },
  {
   "cell_type": "code",
   "execution_count": 19,
   "metadata": {},
   "outputs": [
    {
     "data": {
      "text/plain": [
       "(1309, 7)"
      ]
     },
     "execution_count": 19,
     "metadata": {},
     "output_type": "execute_result"
    }
   ],
   "source": [
    "df.shape"
   ]
  },
  {
   "cell_type": "code",
   "execution_count": 63,
   "metadata": {},
   "outputs": [],
   "source": [
    "df= data.copy()\n",
    "df.drop(['name','cabin','boat','body','home.dest','ticket'],axis=1,inplace=True)\n",
    "df['age'].fillna(df['age'].mean(), inplace = True)\n",
    "df.dropna(1,inplace=True)\n",
    "\n",
    "X= df.drop('survived',1)\n",
    "y=df['survived']\n",
    "\n",
    "num_col = X.select_dtypes(exclude=['object']).columns\n",
    "cat_col = X.select_dtypes(include=['object']).columns\n",
    "\n"
   ]
  },
  {
   "cell_type": "code",
   "execution_count": 64,
   "metadata": {},
   "outputs": [],
   "source": [
    "from sklearn.impute import SimpleImputer\n",
    "from sklearn.preprocessing import StandardScaler,OrdinalEncoder\n",
    "from sklearn.pipeline import make_pipeline\n",
    "from sklearn.compose import make_column_transformer\n",
    "\n",
    "\n",
    "\n",
    "\n",
    "preprocessor = make_column_transformer((StandardScaler(), ['age']))\n",
    "\n",
    "                                     \n",
    "\n",
    "X['age'] =  preprocessor.fit_transform(X)\n",
    "\n",
    "preprocessor = make_column_transformer((OrdinalEncoder(), ['sex']))\n",
    "\n",
    "X['sex'] =  preprocessor.fit_transform(X)\n",
    "        \n"
   ]
  },
  {
   "cell_type": "code",
   "execution_count": 65,
   "metadata": {},
   "outputs": [],
   "source": [
    "#importing train_test_split\n",
    "from sklearn.model_selection import train_test_split\n",
    "X_train,X_test,y_train,y_test = train_test_split(X,y,test_size=0.8,random_state=42, stratify=y)\n"
   ]
  },
  {
   "cell_type": "code",
   "execution_count": 22,
   "metadata": {},
   "outputs": [],
   "source": [
    "from sklearn.linear_model import LogisticRegression\n",
    "from sklearn.neighbors import KNeighborsClassifier\n",
    "from sklearn.naive_bayes import GaussianNB\n",
    "from sklearn.naive_bayes import BernoulliNB\n",
    "from sklearn.svm import SVC\n",
    "from sklearn.tree import DecisionTreeClassifier\n",
    "from sklearn.ensemble import RandomForestClassifier\n",
    "from xgboost import XGBClassifier\n",
    "\n",
    "from sklearn.metrics import accuracy_score, confusion_matrix, roc_auc_score, ConfusionMatrixDisplay, precision_score, recall_score, f1_score, classification_report, roc_curve, plot_roc_curve, auc, precision_recall_curve, plot_precision_recall_curve, average_precision_score\n",
    "from sklearn.model_selection import cross_val_score"
   ]
  },
  {
   "cell_type": "code",
   "execution_count": 67,
   "metadata": {},
   "outputs": [
    {
     "name": "stderr",
     "output_type": "stream",
     "text": [
      "100%|██████████| 8/8 [00:03<00:00,  2.13it/s]\n"
     ]
    }
   ],
   "source": [
    "from tqdm import tqdm\n",
    "models = []\n",
    "models.append(['Logistic Regreesion', LogisticRegression(random_state=0)])\n",
    "models.append(['SVM', SVC(random_state=0)])\n",
    "models.append(['KNeighbors', KNeighborsClassifier()])\n",
    "models.append(['GaussianNB', GaussianNB()])\n",
    "models.append(['BernoulliNB', BernoulliNB()])\n",
    "models.append(['Decision Tree', DecisionTreeClassifier(random_state=0)])\n",
    "models.append(['Random Forest', RandomForestClassifier(random_state=0)])\n",
    "models.append(['XGBoost', XGBClassifier(eval_metric= 'error')])\n",
    "\n",
    "lst_1= []\n",
    "\n",
    "for m in tqdm(range(len(models))):\n",
    "    lst_2= []\n",
    "    model = models[m][1]\n",
    "    model.fit(X_train, y_train)\n",
    "    y_pred = model.predict(X_test)\n",
    "    cm = confusion_matrix(y_test, y_pred)  #Confusion Matrix\n",
    "    accuracies = cross_val_score(estimator = model, X = X_train, y = y_train, cv = 10)   #K-Fold Validation\n",
    "    roc = roc_auc_score(y_test, y_pred)  #ROC AUC Score\n",
    "    precision = precision_score(y_test, y_pred)  #Precision Score\n",
    "    recall = recall_score(y_test, y_pred)  #Recall Score\n",
    "    f1 = f1_score(y_test, y_pred)  #F1 Score\n",
    " \n",
    "    lst_2.append(models[m][0])\n",
    "    lst_2.append((accuracy_score(y_test, y_pred))*100) \n",
    "    lst_2.append(accuracies.mean()*100)\n",
    "    lst_2.append(accuracies.std()*100)\n",
    "    lst_2.append(roc)\n",
    "    lst_2.append(precision)\n",
    "    lst_2.append(recall)\n",
    "    lst_2.append(f1)\n",
    "    lst_1.append(lst_2)"
   ]
  },
  {
   "cell_type": "code",
   "execution_count": 68,
   "metadata": {},
   "outputs": [
    {
     "data": {
      "text/html": [
       "<div>\n",
       "<style scoped>\n",
       "    .dataframe tbody tr th:only-of-type {\n",
       "        vertical-align: middle;\n",
       "    }\n",
       "\n",
       "    .dataframe tbody tr th {\n",
       "        vertical-align: top;\n",
       "    }\n",
       "\n",
       "    .dataframe thead th {\n",
       "        text-align: right;\n",
       "    }\n",
       "</style>\n",
       "<table border=\"1\" class=\"dataframe\">\n",
       "  <thead>\n",
       "    <tr style=\"text-align: right;\">\n",
       "      <th></th>\n",
       "      <th>Model</th>\n",
       "      <th>Accuracy</th>\n",
       "      <th>K-Fold Mean Accuracy</th>\n",
       "      <th>Std. Deviation</th>\n",
       "      <th>ROC AUC</th>\n",
       "      <th>Precision</th>\n",
       "      <th>Recall</th>\n",
       "      <th>F1</th>\n",
       "    </tr>\n",
       "  </thead>\n",
       "  <tbody>\n",
       "    <tr>\n",
       "      <th>1</th>\n",
       "      <td>SVM</td>\n",
       "      <td>81.393130</td>\n",
       "      <td>79.330484</td>\n",
       "      <td>8.033847</td>\n",
       "      <td>0.796435</td>\n",
       "      <td>0.774799</td>\n",
       "      <td>0.7225</td>\n",
       "      <td>0.747736</td>\n",
       "    </tr>\n",
       "    <tr>\n",
       "      <th>0</th>\n",
       "      <td>Logistic Regreesion</td>\n",
       "      <td>80.152672</td>\n",
       "      <td>75.868946</td>\n",
       "      <td>8.920883</td>\n",
       "      <td>0.777793</td>\n",
       "      <td>0.774286</td>\n",
       "      <td>0.6775</td>\n",
       "      <td>0.722667</td>\n",
       "    </tr>\n",
       "    <tr>\n",
       "      <th>4</th>\n",
       "      <td>BernoulliNB</td>\n",
       "      <td>78.435115</td>\n",
       "      <td>76.267806</td>\n",
       "      <td>6.274343</td>\n",
       "      <td>0.765818</td>\n",
       "      <td>0.731383</td>\n",
       "      <td>0.6875</td>\n",
       "      <td>0.708763</td>\n",
       "    </tr>\n",
       "    <tr>\n",
       "      <th>2</th>\n",
       "      <td>KNeighbors</td>\n",
       "      <td>76.335878</td>\n",
       "      <td>77.777778</td>\n",
       "      <td>8.561953</td>\n",
       "      <td>0.740710</td>\n",
       "      <td>0.708791</td>\n",
       "      <td>0.6450</td>\n",
       "      <td>0.675393</td>\n",
       "    </tr>\n",
       "    <tr>\n",
       "      <th>6</th>\n",
       "      <td>Random Forest</td>\n",
       "      <td>76.049618</td>\n",
       "      <td>75.484330</td>\n",
       "      <td>8.439603</td>\n",
       "      <td>0.748441</td>\n",
       "      <td>0.682152</td>\n",
       "      <td>0.6975</td>\n",
       "      <td>0.689740</td>\n",
       "    </tr>\n",
       "    <tr>\n",
       "      <th>7</th>\n",
       "      <td>XGBoost</td>\n",
       "      <td>75.286260</td>\n",
       "      <td>75.484330</td>\n",
       "      <td>9.892124</td>\n",
       "      <td>0.731744</td>\n",
       "      <td>0.689008</td>\n",
       "      <td>0.6425</td>\n",
       "      <td>0.664942</td>\n",
       "    </tr>\n",
       "    <tr>\n",
       "      <th>5</th>\n",
       "      <td>Decision Tree</td>\n",
       "      <td>74.332061</td>\n",
       "      <td>72.079772</td>\n",
       "      <td>10.826398</td>\n",
       "      <td>0.728333</td>\n",
       "      <td>0.663342</td>\n",
       "      <td>0.6650</td>\n",
       "      <td>0.664170</td>\n",
       "    </tr>\n",
       "    <tr>\n",
       "      <th>3</th>\n",
       "      <td>GaussianNB</td>\n",
       "      <td>74.236641</td>\n",
       "      <td>70.883191</td>\n",
       "      <td>5.988398</td>\n",
       "      <td>0.741914</td>\n",
       "      <td>0.640693</td>\n",
       "      <td>0.7400</td>\n",
       "      <td>0.686775</td>\n",
       "    </tr>\n",
       "  </tbody>\n",
       "</table>\n",
       "</div>"
      ],
      "text/plain": [
       "                 Model   Accuracy  K-Fold Mean Accuracy  Std. Deviation  \\\n",
       "1                  SVM  81.393130             79.330484        8.033847   \n",
       "0  Logistic Regreesion  80.152672             75.868946        8.920883   \n",
       "4          BernoulliNB  78.435115             76.267806        6.274343   \n",
       "2           KNeighbors  76.335878             77.777778        8.561953   \n",
       "6        Random Forest  76.049618             75.484330        8.439603   \n",
       "7              XGBoost  75.286260             75.484330        9.892124   \n",
       "5        Decision Tree  74.332061             72.079772       10.826398   \n",
       "3           GaussianNB  74.236641             70.883191        5.988398   \n",
       "\n",
       "    ROC AUC  Precision  Recall        F1  \n",
       "1  0.796435   0.774799  0.7225  0.747736  \n",
       "0  0.777793   0.774286  0.6775  0.722667  \n",
       "4  0.765818   0.731383  0.6875  0.708763  \n",
       "2  0.740710   0.708791  0.6450  0.675393  \n",
       "6  0.748441   0.682152  0.6975  0.689740  \n",
       "7  0.731744   0.689008  0.6425  0.664942  \n",
       "5  0.728333   0.663342  0.6650  0.664170  \n",
       "3  0.741914   0.640693  0.7400  0.686775  "
      ]
     },
     "execution_count": 68,
     "metadata": {},
     "output_type": "execute_result"
    }
   ],
   "source": [
    "df = pd.DataFrame(lst_1, columns= ['Model', 'Accuracy', 'K-Fold Mean Accuracy', 'Std. Deviation', 'ROC AUC', 'Precision', 'Recall', 'F1'])\n",
    "df.sort_values(by= ['Accuracy', 'K-Fold Mean Accuracy'], inplace= True, ascending= False)\n",
    "df"
   ]
  },
  {
   "cell_type": "code",
   "execution_count": 24,
   "metadata": {},
   "outputs": [],
   "source": [
    "from sklearn.model_selection import GridSearchCV\n",
    "\n",
    "grid_models = [(LogisticRegression(),[{'C':[0.25,0.5,0.75,1],'random_state':[0]}]), \n",
    "               (KNeighborsClassifier(),[{'n_neighbors':[5,7,8,10], 'metric': ['euclidean', 'manhattan', 'chebyshev', 'minkowski']}]), \n",
    "               (SVC(),[{'C':[0.25,0.5,0.75,1],'kernel':['linear', 'rbf'],'random_state':[0]}]), \n",
    "               (GaussianNB(),[{'var_smoothing': [1e-09]}]), \n",
    "               (BernoulliNB(), [{'alpha': [0.25, 0.5, 1]}]), \n",
    "               (DecisionTreeClassifier(),[{'criterion':['gini','entropy'],'random_state':[0]}]), \n",
    "               (RandomForestClassifier(),[{'n_estimators':[100,150,200],'criterion':['gini','entropy'],'random_state':[0]}]), \n",
    "              (XGBClassifier(), [{'learning_rate': [0.01, 0.05, 0.1], 'eval_metric': ['error']}])]"
   ]
  },
  {
   "cell_type": "code",
   "execution_count": 70,
   "metadata": {},
   "outputs": [
    {
     "name": "stderr",
     "output_type": "stream",
     "text": [
      " 12%|█▎        | 1/8 [00:10<01:10, 10.03s/it]"
     ]
    },
    {
     "name": "stdout",
     "output_type": "stream",
     "text": [
      "['Logistic Regreesion', 80.34351145038168, 75.09578544061303, 43.2458270023677, 0.7750308641975309, 0.793939393939394, 0.655, 0.7178082191780822]\n"
     ]
    },
    {
     "name": "stderr",
     "output_type": "stream",
     "text": [
      " 25%|██▌       | 2/8 [00:32<01:23, 13.90s/it]"
     ]
    },
    {
     "name": "stdout",
     "output_type": "stream",
     "text": [
      "['SVM', 78.43511450381679, 77.77777777777779, 41.5739709641549, 0.7600771604938271, 0.7471590909090909, 0.6575, 0.6994680851063829]\n"
     ]
    },
    {
     "name": "stderr",
     "output_type": "stream",
     "text": [
      " 38%|███▊      | 3/8 [00:48<01:12, 14.44s/it]"
     ]
    },
    {
     "name": "stdout",
     "output_type": "stream",
     "text": [
      "['KNeighbors', 81.48854961832062, 78.9272030651341, 40.782556599954546, 0.7967283950617284, 0.7783783783783784, 0.72, 0.7480519480519481]\n"
     ]
    },
    {
     "name": "stderr",
     "output_type": "stream",
     "text": [
      " 50%|█████     | 4/8 [00:51<00:43, 10.83s/it]"
     ]
    },
    {
     "name": "stdout",
     "output_type": "stream",
     "text": [
      "['GaussianNB', 74.23664122137404, 70.49808429118774, 45.6051372149165, 0.7419135802469136, 0.6406926406926406, 0.74, 0.6867749419953597]\n"
     ]
    },
    {
     "name": "stderr",
     "output_type": "stream",
     "text": [
      " 62%|██████▎   | 5/8 [00:56<00:27,  9.09s/it]"
     ]
    },
    {
     "name": "stdout",
     "output_type": "stream",
     "text": [
      "['BernoulliNB', 78.43511450381679, 76.24521072796935, 42.55806520325475, 0.7658179012345678, 0.7313829787234043, 0.6875, 0.7087628865979382]\n"
     ]
    },
    {
     "name": "stderr",
     "output_type": "stream",
     "text": [
      " 75%|███████▌  | 6/8 [00:59<00:14,  7.48s/it]"
     ]
    },
    {
     "name": "stdout",
     "output_type": "stream",
     "text": [
      "['Decision Tree', 75.0, 72.79693486590038, 44.500559105699956, 0.7356481481481482, 0.6716417910447762, 0.675, 0.6733167082294265]\n"
     ]
    },
    {
     "name": "stderr",
     "output_type": "stream",
     "text": [
      " 88%|████████▊ | 7/8 [08:16<02:16, 136.19s/it]"
     ]
    },
    {
     "name": "stdout",
     "output_type": "stream",
     "text": [
      "['Random Forest', 75.76335877862596, 74.32950191570882, 43.68152168289838, 0.7461265432098766, 0.6771844660194175, 0.6975, 0.687192118226601]\n"
     ]
    },
    {
     "name": "stderr",
     "output_type": "stream",
     "text": [
      "100%|██████████| 8/8 [09:26<00:00, 70.85s/it] "
     ]
    },
    {
     "name": "stdout",
     "output_type": "stream",
     "text": [
      "['XGBoost', 74.23664122137404, 76.24521072796935, 42.55806520325475, 0.7227777777777779, 0.6701570680628273, 0.64, 0.6547314578005116]\n"
     ]
    },
    {
     "name": "stderr",
     "output_type": "stream",
     "text": [
      "\n"
     ]
    }
   ],
   "source": [
    "from sklearn.model_selection import ShuffleSplit,StratifiedKFold,LeaveOneOut\n",
    "lst_1= []\n",
    "modeles =[]\n",
    "\n",
    "k=0\n",
    "for i,j in tqdm(grid_models):\n",
    "    lst_2= []\n",
    "    cv =LeaveOneOut()\n",
    "    grid = GridSearchCV(estimator=i,param_grid = j,scoring='precision',cv = cv)\n",
    "    grid.fit(X_train, y_train)\n",
    "    model = grid.best_estimator_\n",
    "    y_pred = model.predict(X_test)\n",
    "   \n",
    "    cm = confusion_matrix(y_test, y_pred)  #Confusion Matrix\n",
    "    accuracies = cross_val_score(estimator = model, X = X_train, y = y_train, cv = cv)   #K-Fold Validation\n",
    "    roc = roc_auc_score(y_test, y_pred)  #ROC AUC Score\n",
    "    precision = precision_score(y_test, y_pred)  #Precision Score\n",
    "    recall = recall_score(y_test, y_pred)  #Recall Score\n",
    "    f1 = f1_score(y_test, y_pred)  #F1 Score\n",
    "    \n",
    "    modeles.append(model)\n",
    "    lst_2.append(models[k][0])\n",
    "    lst_2.append((accuracy_score(y_test, y_pred))*100) \n",
    "    lst_2.append(accuracies.mean()*100)\n",
    "    lst_2.append(accuracies.std()*100)\n",
    "    lst_2.append(roc)\n",
    "    lst_2.append(precision)\n",
    "    lst_2.append(recall)\n",
    "    lst_2.append(f1)\n",
    "    lst_1.append(lst_2)\n",
    "    print(lst_2)\n",
    "    k+=1"
   ]
  },
  {
   "cell_type": "code",
   "execution_count": 71,
   "metadata": {},
   "outputs": [
    {
     "data": {
      "text/html": [
       "<div>\n",
       "<style scoped>\n",
       "    .dataframe tbody tr th:only-of-type {\n",
       "        vertical-align: middle;\n",
       "    }\n",
       "\n",
       "    .dataframe tbody tr th {\n",
       "        vertical-align: top;\n",
       "    }\n",
       "\n",
       "    .dataframe thead th {\n",
       "        text-align: right;\n",
       "    }\n",
       "</style>\n",
       "<table border=\"1\" class=\"dataframe\">\n",
       "  <thead>\n",
       "    <tr style=\"text-align: right;\">\n",
       "      <th></th>\n",
       "      <th>Model</th>\n",
       "      <th>Accuracy</th>\n",
       "      <th>K-Fold Mean Accuracy</th>\n",
       "      <th>Std. Deviation</th>\n",
       "      <th>ROC AUC</th>\n",
       "      <th>Precision</th>\n",
       "      <th>Recall</th>\n",
       "      <th>F1</th>\n",
       "    </tr>\n",
       "  </thead>\n",
       "  <tbody>\n",
       "    <tr>\n",
       "      <th>2</th>\n",
       "      <td>KNeighbors</td>\n",
       "      <td>81.488550</td>\n",
       "      <td>78.927203</td>\n",
       "      <td>40.782557</td>\n",
       "      <td>0.796728</td>\n",
       "      <td>0.778378</td>\n",
       "      <td>0.7200</td>\n",
       "      <td>0.748052</td>\n",
       "    </tr>\n",
       "    <tr>\n",
       "      <th>0</th>\n",
       "      <td>Logistic Regreesion</td>\n",
       "      <td>80.343511</td>\n",
       "      <td>75.095785</td>\n",
       "      <td>43.245827</td>\n",
       "      <td>0.775031</td>\n",
       "      <td>0.793939</td>\n",
       "      <td>0.6550</td>\n",
       "      <td>0.717808</td>\n",
       "    </tr>\n",
       "    <tr>\n",
       "      <th>1</th>\n",
       "      <td>SVM</td>\n",
       "      <td>78.435115</td>\n",
       "      <td>77.777778</td>\n",
       "      <td>41.573971</td>\n",
       "      <td>0.760077</td>\n",
       "      <td>0.747159</td>\n",
       "      <td>0.6575</td>\n",
       "      <td>0.699468</td>\n",
       "    </tr>\n",
       "    <tr>\n",
       "      <th>4</th>\n",
       "      <td>BernoulliNB</td>\n",
       "      <td>78.435115</td>\n",
       "      <td>76.245211</td>\n",
       "      <td>42.558065</td>\n",
       "      <td>0.765818</td>\n",
       "      <td>0.731383</td>\n",
       "      <td>0.6875</td>\n",
       "      <td>0.708763</td>\n",
       "    </tr>\n",
       "    <tr>\n",
       "      <th>6</th>\n",
       "      <td>Random Forest</td>\n",
       "      <td>75.763359</td>\n",
       "      <td>74.329502</td>\n",
       "      <td>43.681522</td>\n",
       "      <td>0.746127</td>\n",
       "      <td>0.677184</td>\n",
       "      <td>0.6975</td>\n",
       "      <td>0.687192</td>\n",
       "    </tr>\n",
       "    <tr>\n",
       "      <th>5</th>\n",
       "      <td>Decision Tree</td>\n",
       "      <td>75.000000</td>\n",
       "      <td>72.796935</td>\n",
       "      <td>44.500559</td>\n",
       "      <td>0.735648</td>\n",
       "      <td>0.671642</td>\n",
       "      <td>0.6750</td>\n",
       "      <td>0.673317</td>\n",
       "    </tr>\n",
       "    <tr>\n",
       "      <th>7</th>\n",
       "      <td>XGBoost</td>\n",
       "      <td>74.236641</td>\n",
       "      <td>76.245211</td>\n",
       "      <td>42.558065</td>\n",
       "      <td>0.722778</td>\n",
       "      <td>0.670157</td>\n",
       "      <td>0.6400</td>\n",
       "      <td>0.654731</td>\n",
       "    </tr>\n",
       "    <tr>\n",
       "      <th>3</th>\n",
       "      <td>GaussianNB</td>\n",
       "      <td>74.236641</td>\n",
       "      <td>70.498084</td>\n",
       "      <td>45.605137</td>\n",
       "      <td>0.741914</td>\n",
       "      <td>0.640693</td>\n",
       "      <td>0.7400</td>\n",
       "      <td>0.686775</td>\n",
       "    </tr>\n",
       "  </tbody>\n",
       "</table>\n",
       "</div>"
      ],
      "text/plain": [
       "                 Model   Accuracy  K-Fold Mean Accuracy  Std. Deviation  \\\n",
       "2           KNeighbors  81.488550             78.927203       40.782557   \n",
       "0  Logistic Regreesion  80.343511             75.095785       43.245827   \n",
       "1                  SVM  78.435115             77.777778       41.573971   \n",
       "4          BernoulliNB  78.435115             76.245211       42.558065   \n",
       "6        Random Forest  75.763359             74.329502       43.681522   \n",
       "5        Decision Tree  75.000000             72.796935       44.500559   \n",
       "7              XGBoost  74.236641             76.245211       42.558065   \n",
       "3           GaussianNB  74.236641             70.498084       45.605137   \n",
       "\n",
       "    ROC AUC  Precision  Recall        F1  \n",
       "2  0.796728   0.778378  0.7200  0.748052  \n",
       "0  0.775031   0.793939  0.6550  0.717808  \n",
       "1  0.760077   0.747159  0.6575  0.699468  \n",
       "4  0.765818   0.731383  0.6875  0.708763  \n",
       "6  0.746127   0.677184  0.6975  0.687192  \n",
       "5  0.735648   0.671642  0.6750  0.673317  \n",
       "7  0.722778   0.670157  0.6400  0.654731  \n",
       "3  0.741914   0.640693  0.7400  0.686775  "
      ]
     },
     "execution_count": 71,
     "metadata": {},
     "output_type": "execute_result"
    }
   ],
   "source": [
    "df = pd.DataFrame(lst_1, columns= ['Model', 'Accuracy', 'K-Fold Mean Accuracy', 'Std. Deviation', 'ROC AUC', 'Precision', 'Recall', 'F1'])\n",
    "df.sort_values(by= ['Accuracy', 'K-Fold Mean Accuracy'], inplace= True, ascending= False)\n",
    "df"
   ]
  },
  {
   "cell_type": "code",
   "execution_count": 80,
   "metadata": {},
   "outputs": [
    {
     "name": "stdout",
     "output_type": "stream",
     "text": [
      "[79.77099236641222, 77.03296703296704, 10.249278001556698, 0.7665740740740741, 0.79375, 0.635, 0.7055555555555555]\n"
     ]
    }
   ],
   "source": [
    "lst_2=[]\n",
    "param= {'n_neighbors':range(1,15), 'metric': ['euclidean', 'manhattan', 'chebyshev', 'minkowski']}\n",
    "grid = GridSearchCV(estimator=KNeighborsClassifier(),param_grid = param,scoring='precision',cv = 20)\n",
    "grid.fit(X_train, y_train)\n",
    "model = grid.best_estimator_\n",
    "y_pred = model.predict(X_test)\n",
    "\n",
    "cm = confusion_matrix(y_test, y_pred)  #Confusion Matrix\n",
    "accuracies = cross_val_score(estimator = model, X = X_train, y = y_train, cv = 20)   #K-Fold Validation\n",
    "roc = roc_auc_score(y_test, y_pred)  #ROC AUC Score\n",
    "precision = precision_score(y_test, y_pred)  #Precision Score\n",
    "recall = recall_score(y_test, y_pred)  #Recall Score\n",
    "f1 = f1_score(y_test, y_pred)  #F1 Score\n",
    "\n",
    "\n",
    "lst_2.append((accuracy_score(y_test, y_pred))*100) \n",
    "lst_2.append(accuracies.mean()*100)\n",
    "lst_2.append(accuracies.std()*100)\n",
    "lst_2.append(roc)\n",
    "lst_2.append(precision)\n",
    "lst_2.append(recall)\n",
    "lst_2.append(f1)\n",
    "\n",
    "print(lst_2)"
   ]
  },
  {
   "cell_type": "code",
   "execution_count": 81,
   "metadata": {},
   "outputs": [
    {
     "data": {
      "text/html": [
       "<style>#sk-container-id-2 {color: black;background-color: white;}#sk-container-id-2 pre{padding: 0;}#sk-container-id-2 div.sk-toggleable {background-color: white;}#sk-container-id-2 label.sk-toggleable__label {cursor: pointer;display: block;width: 100%;margin-bottom: 0;padding: 0.3em;box-sizing: border-box;text-align: center;}#sk-container-id-2 label.sk-toggleable__label-arrow:before {content: \"▸\";float: left;margin-right: 0.25em;color: #696969;}#sk-container-id-2 label.sk-toggleable__label-arrow:hover:before {color: black;}#sk-container-id-2 div.sk-estimator:hover label.sk-toggleable__label-arrow:before {color: black;}#sk-container-id-2 div.sk-toggleable__content {max-height: 0;max-width: 0;overflow: hidden;text-align: left;background-color: #f0f8ff;}#sk-container-id-2 div.sk-toggleable__content pre {margin: 0.2em;color: black;border-radius: 0.25em;background-color: #f0f8ff;}#sk-container-id-2 input.sk-toggleable__control:checked~div.sk-toggleable__content {max-height: 200px;max-width: 100%;overflow: auto;}#sk-container-id-2 input.sk-toggleable__control:checked~label.sk-toggleable__label-arrow:before {content: \"▾\";}#sk-container-id-2 div.sk-estimator input.sk-toggleable__control:checked~label.sk-toggleable__label {background-color: #d4ebff;}#sk-container-id-2 div.sk-label input.sk-toggleable__control:checked~label.sk-toggleable__label {background-color: #d4ebff;}#sk-container-id-2 input.sk-hidden--visually {border: 0;clip: rect(1px 1px 1px 1px);clip: rect(1px, 1px, 1px, 1px);height: 1px;margin: -1px;overflow: hidden;padding: 0;position: absolute;width: 1px;}#sk-container-id-2 div.sk-estimator {font-family: monospace;background-color: #f0f8ff;border: 1px dotted black;border-radius: 0.25em;box-sizing: border-box;margin-bottom: 0.5em;}#sk-container-id-2 div.sk-estimator:hover {background-color: #d4ebff;}#sk-container-id-2 div.sk-parallel-item::after {content: \"\";width: 100%;border-bottom: 1px solid gray;flex-grow: 1;}#sk-container-id-2 div.sk-label:hover label.sk-toggleable__label {background-color: #d4ebff;}#sk-container-id-2 div.sk-serial::before {content: \"\";position: absolute;border-left: 1px solid gray;box-sizing: border-box;top: 0;bottom: 0;left: 50%;z-index: 0;}#sk-container-id-2 div.sk-serial {display: flex;flex-direction: column;align-items: center;background-color: white;padding-right: 0.2em;padding-left: 0.2em;position: relative;}#sk-container-id-2 div.sk-item {position: relative;z-index: 1;}#sk-container-id-2 div.sk-parallel {display: flex;align-items: stretch;justify-content: center;background-color: white;position: relative;}#sk-container-id-2 div.sk-item::before, #sk-container-id-2 div.sk-parallel-item::before {content: \"\";position: absolute;border-left: 1px solid gray;box-sizing: border-box;top: 0;bottom: 0;left: 50%;z-index: -1;}#sk-container-id-2 div.sk-parallel-item {display: flex;flex-direction: column;z-index: 1;position: relative;background-color: white;}#sk-container-id-2 div.sk-parallel-item:first-child::after {align-self: flex-end;width: 50%;}#sk-container-id-2 div.sk-parallel-item:last-child::after {align-self: flex-start;width: 50%;}#sk-container-id-2 div.sk-parallel-item:only-child::after {width: 0;}#sk-container-id-2 div.sk-dashed-wrapped {border: 1px dashed gray;margin: 0 0.4em 0.5em 0.4em;box-sizing: border-box;padding-bottom: 0.4em;background-color: white;}#sk-container-id-2 div.sk-label label {font-family: monospace;font-weight: bold;display: inline-block;line-height: 1.2em;}#sk-container-id-2 div.sk-label-container {text-align: center;}#sk-container-id-2 div.sk-container {/* jupyter's `normalize.less` sets `[hidden] { display: none; }` but bootstrap.min.css set `[hidden] { display: none !important; }` so we also need the `!important` here to be able to override the default hidden behavior on the sphinx rendered scikit-learn.org. See: https://github.com/scikit-learn/scikit-learn/issues/21755 */display: inline-block !important;position: relative;}#sk-container-id-2 div.sk-text-repr-fallback {display: none;}</style><div id=\"sk-container-id-2\" class=\"sk-top-container\"><div class=\"sk-text-repr-fallback\"><pre>KNeighborsClassifier(metric=&#x27;manhattan&#x27;, n_neighbors=10)</pre><b>In a Jupyter environment, please rerun this cell to show the HTML representation or trust the notebook. <br />On GitHub, the HTML representation is unable to render, please try loading this page with nbviewer.org.</b></div><div class=\"sk-container\" hidden><div class=\"sk-item\"><div class=\"sk-estimator sk-toggleable\"><input class=\"sk-toggleable__control sk-hidden--visually\" id=\"sk-estimator-id-2\" type=\"checkbox\" checked><label for=\"sk-estimator-id-2\" class=\"sk-toggleable__label sk-toggleable__label-arrow\">KNeighborsClassifier</label><div class=\"sk-toggleable__content\"><pre>KNeighborsClassifier(metric=&#x27;manhattan&#x27;, n_neighbors=10)</pre></div></div></div></div></div>"
      ],
      "text/plain": [
       "KNeighborsClassifier(metric='manhattan', n_neighbors=10)"
      ]
     },
     "execution_count": 81,
     "metadata": {},
     "output_type": "execute_result"
    }
   ],
   "source": [
    "grid.best_estimator_"
   ]
  },
  {
   "cell_type": "markdown",
   "metadata": {},
   "source": [
    "# for competition"
   ]
  },
  {
   "cell_type": "code",
   "execution_count": 38,
   "metadata": {},
   "outputs": [
    {
     "data": {
      "text/html": [
       "<div>\n",
       "<style scoped>\n",
       "    .dataframe tbody tr th:only-of-type {\n",
       "        vertical-align: middle;\n",
       "    }\n",
       "\n",
       "    .dataframe tbody tr th {\n",
       "        vertical-align: top;\n",
       "    }\n",
       "\n",
       "    .dataframe thead th {\n",
       "        text-align: right;\n",
       "    }\n",
       "</style>\n",
       "<table border=\"1\" class=\"dataframe\">\n",
       "  <thead>\n",
       "    <tr style=\"text-align: right;\">\n",
       "      <th></th>\n",
       "      <th>Pclass</th>\n",
       "      <th>Name</th>\n",
       "      <th>Sex</th>\n",
       "      <th>Age</th>\n",
       "      <th>SibSp</th>\n",
       "      <th>Parch</th>\n",
       "      <th>Ticket</th>\n",
       "      <th>Fare</th>\n",
       "      <th>Cabin</th>\n",
       "      <th>Embarked</th>\n",
       "    </tr>\n",
       "    <tr>\n",
       "      <th>PassengerId</th>\n",
       "      <th></th>\n",
       "      <th></th>\n",
       "      <th></th>\n",
       "      <th></th>\n",
       "      <th></th>\n",
       "      <th></th>\n",
       "      <th></th>\n",
       "      <th></th>\n",
       "      <th></th>\n",
       "      <th></th>\n",
       "    </tr>\n",
       "  </thead>\n",
       "  <tbody>\n",
       "    <tr>\n",
       "      <th>892</th>\n",
       "      <td>3</td>\n",
       "      <td>Kelly, Mr. James</td>\n",
       "      <td>male</td>\n",
       "      <td>34.5</td>\n",
       "      <td>0</td>\n",
       "      <td>0</td>\n",
       "      <td>330911</td>\n",
       "      <td>7.8292</td>\n",
       "      <td>NaN</td>\n",
       "      <td>Q</td>\n",
       "    </tr>\n",
       "    <tr>\n",
       "      <th>893</th>\n",
       "      <td>3</td>\n",
       "      <td>Wilkes, Mrs. James (Ellen Needs)</td>\n",
       "      <td>female</td>\n",
       "      <td>47.0</td>\n",
       "      <td>1</td>\n",
       "      <td>0</td>\n",
       "      <td>363272</td>\n",
       "      <td>7.0000</td>\n",
       "      <td>NaN</td>\n",
       "      <td>S</td>\n",
       "    </tr>\n",
       "    <tr>\n",
       "      <th>894</th>\n",
       "      <td>2</td>\n",
       "      <td>Myles, Mr. Thomas Francis</td>\n",
       "      <td>male</td>\n",
       "      <td>62.0</td>\n",
       "      <td>0</td>\n",
       "      <td>0</td>\n",
       "      <td>240276</td>\n",
       "      <td>9.6875</td>\n",
       "      <td>NaN</td>\n",
       "      <td>Q</td>\n",
       "    </tr>\n",
       "    <tr>\n",
       "      <th>895</th>\n",
       "      <td>3</td>\n",
       "      <td>Wirz, Mr. Albert</td>\n",
       "      <td>male</td>\n",
       "      <td>27.0</td>\n",
       "      <td>0</td>\n",
       "      <td>0</td>\n",
       "      <td>315154</td>\n",
       "      <td>8.6625</td>\n",
       "      <td>NaN</td>\n",
       "      <td>S</td>\n",
       "    </tr>\n",
       "    <tr>\n",
       "      <th>896</th>\n",
       "      <td>3</td>\n",
       "      <td>Hirvonen, Mrs. Alexander (Helga E Lindqvist)</td>\n",
       "      <td>female</td>\n",
       "      <td>22.0</td>\n",
       "      <td>1</td>\n",
       "      <td>1</td>\n",
       "      <td>3101298</td>\n",
       "      <td>12.2875</td>\n",
       "      <td>NaN</td>\n",
       "      <td>S</td>\n",
       "    </tr>\n",
       "  </tbody>\n",
       "</table>\n",
       "</div>"
      ],
      "text/plain": [
       "             Pclass                                          Name     Sex  \\\n",
       "PassengerId                                                                 \n",
       "892               3                              Kelly, Mr. James    male   \n",
       "893               3              Wilkes, Mrs. James (Ellen Needs)  female   \n",
       "894               2                     Myles, Mr. Thomas Francis    male   \n",
       "895               3                              Wirz, Mr. Albert    male   \n",
       "896               3  Hirvonen, Mrs. Alexander (Helga E Lindqvist)  female   \n",
       "\n",
       "              Age  SibSp  Parch   Ticket     Fare Cabin Embarked  \n",
       "PassengerId                                                       \n",
       "892          34.5      0      0   330911   7.8292   NaN        Q  \n",
       "893          47.0      1      0   363272   7.0000   NaN        S  \n",
       "894          62.0      0      0   240276   9.6875   NaN        Q  \n",
       "895          27.0      0      0   315154   8.6625   NaN        S  \n",
       "896          22.0      1      1  3101298  12.2875   NaN        S  "
      ]
     },
     "execution_count": 38,
     "metadata": {},
     "output_type": "execute_result"
    }
   ],
   "source": [
    "trainSet= pd.read_csv('train.csv',index_col='PassengerId')\n",
    "TestSet = pd.read_csv('test.csv',index_col='PassengerId')\n",
    "TestSet.head()"
   ]
  },
  {
   "cell_type": "code",
   "execution_count": 39,
   "metadata": {},
   "outputs": [],
   "source": [
    "\n",
    "trainSet.drop(['Name','Cabin','Ticket'],axis=1,inplace=True)\n",
    "trainSet['Age'].fillna(trainSet['Age'].mean(), inplace = True)\n",
    "trainSet.dropna(1,inplace=True)\n",
    "TestSet.drop(['Name','Cabin','Ticket'],axis=1,inplace=True)\n",
    "TestSet['Age'].fillna(TestSet['Age'].mean(), inplace = True)\n",
    "TestSet.dropna(1,inplace=True)\n",
    "\n",
    "X= trainSet.drop('Survived',1)\n",
    "y=trainSet['Survived']\n",
    "\n",
    "\n",
    "\n"
   ]
  },
  {
   "cell_type": "code",
   "execution_count": 44,
   "metadata": {},
   "outputs": [],
   "source": [
    "\n",
    "from sklearn.preprocessing import StandardScaler,OrdinalEncoder\n",
    "from sklearn.pipeline import make_pipeline\n",
    "from sklearn.compose import make_column_transformer\n",
    "\n",
    "\n",
    "\n",
    "\n",
    "preprocessor = make_column_transformer((StandardScaler(), ['Age']))                           \n",
    "X['Age'] =  preprocessor.fit_transform(X)\n",
    "preprocessor = make_column_transformer((StandardScaler(), ['Fare']))\n",
    "X['Fare'] =  preprocessor.fit_transform(X)\n",
    "preprocessor = make_column_transformer((OrdinalEncoder(), ['Sex']))\n",
    "X['Sex'] =  preprocessor.fit_transform(X)\n",
    "\n",
    "preprocessor = make_column_transformer((StandardScaler(), ['Age']))                           \n",
    "X_test['Age'] =  preprocessor.fit_transform(X_test)\n",
    "preprocessor = make_column_transformer((StandardScaler(), ['Fare']))\n",
    "X_test['Fare'] =  preprocessor.fit_transform(X_test)\n",
    "preprocessor = make_column_transformer((OrdinalEncoder(), ['Sex']))\n",
    "X_test['Sex'] =  preprocessor.fit_transform(X_test)\n",
    "\n"
   ]
  },
  {
   "cell_type": "code",
   "execution_count": 41,
   "metadata": {},
   "outputs": [],
   "source": [
    "from sklearn.model_selection import train_test_split\n",
    "X_train,X_test,y_train,y_test = train_test_split(X,y,test_size=0.9,random_state=42, stratify=y)"
   ]
  },
  {
   "cell_type": "code",
   "execution_count": 42,
   "metadata": {},
   "outputs": [
    {
     "name": "stdout",
     "output_type": "stream",
     "text": [
      "[76.43391521197007, 73.75, 20.968726713846976, 0.7567498291182502, 0.6819571865443425, 0.724025974025974, 0.7023622047244094]\n"
     ]
    }
   ],
   "source": [
    "lst_2=[]\n",
    "param= {'n_neighbors':range(1,15), 'metric': ['euclidean', 'manhattan', 'chebyshev', 'minkowski']}\n",
    "grid = GridSearchCV(estimator=KNeighborsClassifier(),param_grid = param,scoring='precision',cv = 20)\n",
    "grid.fit(X_train, y_train)\n",
    "model = grid.best_estimator_\n",
    "y_pred = model.predict(X_test)\n",
    "\n",
    "cm = confusion_matrix(y_test, y_pred)  #Confusion Matrix\n",
    "accuracies = cross_val_score(estimator = model, X = X_train, y = y_train, cv = 20)   #K-Fold Validation\n",
    "roc = roc_auc_score(y_test, y_pred)  #ROC AUC Score\n",
    "precision = precision_score(y_test, y_pred)  #Precision Score\n",
    "recall = recall_score(y_test, y_pred)  #Recall Score\n",
    "f1 = f1_score(y_test, y_pred)  #F1 Score\n",
    "\n",
    "\n",
    "lst_2.append((accuracy_score(y_test, y_pred))*100) \n",
    "lst_2.append(accuracies.mean()*100)\n",
    "lst_2.append(accuracies.std()*100)\n",
    "lst_2.append(roc)\n",
    "lst_2.append(precision)\n",
    "lst_2.append(recall)\n",
    "lst_2.append(f1)\n",
    "\n",
    "print(lst_2)"
   ]
  },
  {
   "cell_type": "code",
   "execution_count": 46,
   "metadata": {},
   "outputs": [
    {
     "data": {
      "text/html": [
       "<div>\n",
       "<style scoped>\n",
       "    .dataframe tbody tr th:only-of-type {\n",
       "        vertical-align: middle;\n",
       "    }\n",
       "\n",
       "    .dataframe tbody tr th {\n",
       "        vertical-align: top;\n",
       "    }\n",
       "\n",
       "    .dataframe thead th {\n",
       "        text-align: right;\n",
       "    }\n",
       "</style>\n",
       "<table border=\"1\" class=\"dataframe\">\n",
       "  <thead>\n",
       "    <tr style=\"text-align: right;\">\n",
       "      <th></th>\n",
       "      <th>Pclass</th>\n",
       "      <th>Sex</th>\n",
       "      <th>Age</th>\n",
       "      <th>SibSp</th>\n",
       "      <th>Parch</th>\n",
       "      <th>Fare</th>\n",
       "    </tr>\n",
       "    <tr>\n",
       "      <th>PassengerId</th>\n",
       "      <th></th>\n",
       "      <th></th>\n",
       "      <th></th>\n",
       "      <th></th>\n",
       "      <th></th>\n",
       "      <th></th>\n",
       "    </tr>\n",
       "  </thead>\n",
       "  <tbody>\n",
       "    <tr>\n",
       "      <th>203</th>\n",
       "      <td>3</td>\n",
       "      <td>1.0</td>\n",
       "      <td>0.351305</td>\n",
       "      <td>0</td>\n",
       "      <td>0</td>\n",
       "      <td>-0.512060</td>\n",
       "    </tr>\n",
       "    <tr>\n",
       "      <th>599</th>\n",
       "      <td>3</td>\n",
       "      <td>1.0</td>\n",
       "      <td>0.019486</td>\n",
       "      <td>0</td>\n",
       "      <td>0</td>\n",
       "      <td>-0.497766</td>\n",
       "    </tr>\n",
       "    <tr>\n",
       "      <th>307</th>\n",
       "      <td>1</td>\n",
       "      <td>0.0</td>\n",
       "      <td>0.019486</td>\n",
       "      <td>0</td>\n",
       "      <td>0</td>\n",
       "      <td>1.534146</td>\n",
       "    </tr>\n",
       "    <tr>\n",
       "      <th>482</th>\n",
       "      <td>2</td>\n",
       "      <td>1.0</td>\n",
       "      <td>0.019486</td>\n",
       "      <td>0</td>\n",
       "      <td>0</td>\n",
       "      <td>-0.639391</td>\n",
       "    </tr>\n",
       "    <tr>\n",
       "      <th>181</th>\n",
       "      <td>3</td>\n",
       "      <td>0.0</td>\n",
       "      <td>0.019486</td>\n",
       "      <td>8</td>\n",
       "      <td>2</td>\n",
       "      <td>0.723930</td>\n",
       "    </tr>\n",
       "    <tr>\n",
       "      <th>...</th>\n",
       "      <td>...</td>\n",
       "      <td>...</td>\n",
       "      <td>...</td>\n",
       "      <td>...</td>\n",
       "      <td>...</td>\n",
       "      <td>...</td>\n",
       "    </tr>\n",
       "    <tr>\n",
       "      <th>408</th>\n",
       "      <td>2</td>\n",
       "      <td>1.0</td>\n",
       "      <td>-2.040388</td>\n",
       "      <td>1</td>\n",
       "      <td>1</td>\n",
       "      <td>-0.271853</td>\n",
       "    </tr>\n",
       "    <tr>\n",
       "      <th>769</th>\n",
       "      <td>3</td>\n",
       "      <td>1.0</td>\n",
       "      <td>0.019486</td>\n",
       "      <td>1</td>\n",
       "      <td>0</td>\n",
       "      <td>-0.166002</td>\n",
       "    </tr>\n",
       "    <tr>\n",
       "      <th>37</th>\n",
       "      <td>3</td>\n",
       "      <td>1.0</td>\n",
       "      <td>0.019486</td>\n",
       "      <td>0</td>\n",
       "      <td>0</td>\n",
       "      <td>-0.497684</td>\n",
       "    </tr>\n",
       "    <tr>\n",
       "      <th>148</th>\n",
       "      <td>3</td>\n",
       "      <td>0.0</td>\n",
       "      <td>-1.577480</td>\n",
       "      <td>2</td>\n",
       "      <td>2</td>\n",
       "      <td>0.034429</td>\n",
       "    </tr>\n",
       "    <tr>\n",
       "      <th>821</th>\n",
       "      <td>1</td>\n",
       "      <td>0.0</td>\n",
       "      <td>1.740030</td>\n",
       "      <td>1</td>\n",
       "      <td>1</td>\n",
       "      <td>1.193398</td>\n",
       "    </tr>\n",
       "  </tbody>\n",
       "</table>\n",
       "<p>802 rows × 6 columns</p>\n",
       "</div>"
      ],
      "text/plain": [
       "             Pclass  Sex       Age  SibSp  Parch      Fare\n",
       "PassengerId                                               \n",
       "203               3  1.0  0.351305      0      0 -0.512060\n",
       "599               3  1.0  0.019486      0      0 -0.497766\n",
       "307               1  0.0  0.019486      0      0  1.534146\n",
       "482               2  1.0  0.019486      0      0 -0.639391\n",
       "181               3  0.0  0.019486      8      2  0.723930\n",
       "...             ...  ...       ...    ...    ...       ...\n",
       "408               2  1.0 -2.040388      1      1 -0.271853\n",
       "769               3  1.0  0.019486      1      0 -0.166002\n",
       "37                3  1.0  0.019486      0      0 -0.497684\n",
       "148               3  0.0 -1.577480      2      2  0.034429\n",
       "821               1  0.0  1.740030      1      1  1.193398\n",
       "\n",
       "[802 rows x 6 columns]"
      ]
     },
     "execution_count": 46,
     "metadata": {},
     "output_type": "execute_result"
    }
   ],
   "source": [
    "X_test\n"
   ]
  },
  {
   "cell_type": "code",
   "execution_count": 53,
   "metadata": {},
   "outputs": [
    {
     "data": {
      "text/html": [
       "<div>\n",
       "<style scoped>\n",
       "    .dataframe tbody tr th:only-of-type {\n",
       "        vertical-align: middle;\n",
       "    }\n",
       "\n",
       "    .dataframe tbody tr th {\n",
       "        vertical-align: top;\n",
       "    }\n",
       "\n",
       "    .dataframe thead th {\n",
       "        text-align: right;\n",
       "    }\n",
       "</style>\n",
       "<table border=\"1\" class=\"dataframe\">\n",
       "  <thead>\n",
       "    <tr style=\"text-align: right;\">\n",
       "      <th></th>\n",
       "      <th>Pclass</th>\n",
       "      <th>Sex</th>\n",
       "      <th>Age</th>\n",
       "      <th>SibSp</th>\n",
       "      <th>Parch</th>\n",
       "      <th>Fare</th>\n",
       "    </tr>\n",
       "    <tr>\n",
       "      <th>PassengerId</th>\n",
       "      <th></th>\n",
       "      <th></th>\n",
       "      <th></th>\n",
       "      <th></th>\n",
       "      <th></th>\n",
       "      <th></th>\n",
       "    </tr>\n",
       "  </thead>\n",
       "  <tbody>\n",
       "    <tr>\n",
       "      <th>203</th>\n",
       "      <td>3</td>\n",
       "      <td>1.0</td>\n",
       "      <td>0.351305</td>\n",
       "      <td>0</td>\n",
       "      <td>0</td>\n",
       "      <td>-0.512060</td>\n",
       "    </tr>\n",
       "    <tr>\n",
       "      <th>599</th>\n",
       "      <td>3</td>\n",
       "      <td>1.0</td>\n",
       "      <td>0.019486</td>\n",
       "      <td>0</td>\n",
       "      <td>0</td>\n",
       "      <td>-0.497766</td>\n",
       "    </tr>\n",
       "    <tr>\n",
       "      <th>307</th>\n",
       "      <td>1</td>\n",
       "      <td>0.0</td>\n",
       "      <td>0.019486</td>\n",
       "      <td>0</td>\n",
       "      <td>0</td>\n",
       "      <td>1.534146</td>\n",
       "    </tr>\n",
       "    <tr>\n",
       "      <th>482</th>\n",
       "      <td>2</td>\n",
       "      <td>1.0</td>\n",
       "      <td>0.019486</td>\n",
       "      <td>0</td>\n",
       "      <td>0</td>\n",
       "      <td>-0.639391</td>\n",
       "    </tr>\n",
       "    <tr>\n",
       "      <th>181</th>\n",
       "      <td>3</td>\n",
       "      <td>0.0</td>\n",
       "      <td>0.019486</td>\n",
       "      <td>8</td>\n",
       "      <td>2</td>\n",
       "      <td>0.723930</td>\n",
       "    </tr>\n",
       "    <tr>\n",
       "      <th>...</th>\n",
       "      <td>...</td>\n",
       "      <td>...</td>\n",
       "      <td>...</td>\n",
       "      <td>...</td>\n",
       "      <td>...</td>\n",
       "      <td>...</td>\n",
       "    </tr>\n",
       "    <tr>\n",
       "      <th>408</th>\n",
       "      <td>2</td>\n",
       "      <td>1.0</td>\n",
       "      <td>-2.040388</td>\n",
       "      <td>1</td>\n",
       "      <td>1</td>\n",
       "      <td>-0.271853</td>\n",
       "    </tr>\n",
       "    <tr>\n",
       "      <th>769</th>\n",
       "      <td>3</td>\n",
       "      <td>1.0</td>\n",
       "      <td>0.019486</td>\n",
       "      <td>1</td>\n",
       "      <td>0</td>\n",
       "      <td>-0.166002</td>\n",
       "    </tr>\n",
       "    <tr>\n",
       "      <th>37</th>\n",
       "      <td>3</td>\n",
       "      <td>1.0</td>\n",
       "      <td>0.019486</td>\n",
       "      <td>0</td>\n",
       "      <td>0</td>\n",
       "      <td>-0.497684</td>\n",
       "    </tr>\n",
       "    <tr>\n",
       "      <th>148</th>\n",
       "      <td>3</td>\n",
       "      <td>0.0</td>\n",
       "      <td>-1.577480</td>\n",
       "      <td>2</td>\n",
       "      <td>2</td>\n",
       "      <td>0.034429</td>\n",
       "    </tr>\n",
       "    <tr>\n",
       "      <th>821</th>\n",
       "      <td>1</td>\n",
       "      <td>0.0</td>\n",
       "      <td>1.740030</td>\n",
       "      <td>1</td>\n",
       "      <td>1</td>\n",
       "      <td>1.193398</td>\n",
       "    </tr>\n",
       "  </tbody>\n",
       "</table>\n",
       "<p>802 rows × 6 columns</p>\n",
       "</div>"
      ],
      "text/plain": [
       "             Pclass  Sex       Age  SibSp  Parch      Fare\n",
       "PassengerId                                               \n",
       "203               3  1.0  0.351305      0      0 -0.512060\n",
       "599               3  1.0  0.019486      0      0 -0.497766\n",
       "307               1  0.0  0.019486      0      0  1.534146\n",
       "482               2  1.0  0.019486      0      0 -0.639391\n",
       "181               3  0.0  0.019486      8      2  0.723930\n",
       "...             ...  ...       ...    ...    ...       ...\n",
       "408               2  1.0 -2.040388      1      1 -0.271853\n",
       "769               3  1.0  0.019486      1      0 -0.166002\n",
       "37                3  1.0  0.019486      0      0 -0.497684\n",
       "148               3  0.0 -1.577480      2      2  0.034429\n",
       "821               1  0.0  1.740030      1      1  1.193398\n",
       "\n",
       "[802 rows x 6 columns]"
      ]
     },
     "execution_count": 53,
     "metadata": {},
     "output_type": "execute_result"
    }
   ],
   "source": [
    "y_pred = model.predict(X_test)\n",
    "X_test"
   ]
  },
  {
   "cell_type": "code",
   "execution_count": 50,
   "metadata": {},
   "outputs": [],
   "source": [
    "sub = {'PassengerId': X_test.index,'Survived': y_pred }\n",
    "sub = pd.DataFrame(data=sub)"
   ]
  },
  {
   "cell_type": "code",
   "execution_count": 54,
   "metadata": {},
   "outputs": [],
   "source": [
    "sub.to_csv('submission.csv', index = False)"
   ]
  },
  {
   "cell_type": "code",
   "execution_count": null,
   "metadata": {},
   "outputs": [],
   "source": []
  }
 ],
 "metadata": {
  "kernelspec": {
   "display_name": "Python 3.8.5 ('base')",
   "language": "python",
   "name": "python3"
  },
  "language_info": {
   "codemirror_mode": {
    "name": "ipython",
    "version": 3
   },
   "file_extension": ".py",
   "mimetype": "text/x-python",
   "name": "python",
   "nbconvert_exporter": "python",
   "pygments_lexer": "ipython3",
   "version": "3.8.5 (default, Sep  4 2020, 02:22:02) \n[Clang 10.0.0 ]"
  },
  "orig_nbformat": 4,
  "vscode": {
   "interpreter": {
    "hash": "7b34b089ce0dfc9935940e0a22050b2949fa617f7a2b73925623c261bed16aeb"
   }
  }
 },
 "nbformat": 4,
 "nbformat_minor": 2
}
