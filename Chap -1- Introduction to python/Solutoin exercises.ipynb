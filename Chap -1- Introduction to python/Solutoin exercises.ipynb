{
 "cells": [
  {
   "cell_type": "markdown",
   "metadata": {},
   "source": [
    "# Variables et Fonctions "
   ]
  },
  {
   "cell_type": "code",
   "execution_count": 3,
   "metadata": {},
   "outputs": [
    {
     "data": {
      "text/plain": [
       "False"
      ]
     },
     "execution_count": 3,
     "metadata": {},
     "output_type": "execute_result"
    }
   ],
   "source": [
    "def e_potentielle(masse, hauteur, e_limite, g=9.81):\n",
    "\n",
    "  energie = masse * hauteur * g \n",
    "  return energie > e_limite\n",
    "\n",
    "\n",
    "\n",
    "\n",
    "e_potentielle(masse=10, hauteur=8, e_limite=800)"
   ]
  },
  {
   "cell_type": "markdown",
   "metadata": {},
   "source": [
    "# Structures de Controle"
   ]
  },
  {
   "cell_type": "code",
   "execution_count": null,
   "metadata": {},
   "outputs": [],
   "source": [
    "#Solution 1\n",
    "def fibonacci(n):\n",
    "    # retourne une liste contenant la suite de fibonacci jusqu'a n\n",
    "    a = 0\n",
    "    b = 1\n",
    "    while b < n:\n",
    "      a, b = b, a+b\n",
    "      print(a)\n",
    "\n",
    "fibonacci(1000)"
   ]
  },
  {
   "cell_type": "code",
   "execution_count": null,
   "metadata": {},
   "outputs": [],
   "source": [
    "#Solution 2\n",
    "find= False\n",
    "while not find:\n",
    "    a = int(input())\n",
    "    if a == x:\n",
    "        print('congratulation you found the number')\n",
    "        find= True\n",
    "    elif x> a:\n",
    "        print('up')\n",
    "    else:\n",
    "        print('down')\n",
    "            "
   ]
  },
  {
   "cell_type": "markdown",
   "metadata": {},
   "source": [
    "# Structure de données (Listes et Tuples)"
   ]
  },
  {
   "cell_type": "code",
   "execution_count": null,
   "metadata": {},
   "outputs": [],
   "source": [
    "\n",
    "\n",
    "def fibonacci(n):\n",
    "    a = 0\n",
    "    b = 1\n",
    "    fib = [a] # Création d'une liste fib \n",
    "    while b < n:\n",
    "        a, b = b, a+b\n",
    "        fib.append(a) # ajoute la nouvelle valeur de a a la fin de fib\n",
    "    return fib\n",
    "\n",
    "print(fibonacci(1000))"
   ]
  },
  {
   "cell_type": "markdown",
   "metadata": {},
   "source": [
    "# Dictionnaires"
   ]
  },
  {
   "cell_type": "code",
   "execution_count": 5,
   "metadata": {},
   "outputs": [
    {
     "data": {
      "text/plain": [
       "{'négatifs': [-6], 'positifs': [9, 8]}"
      ]
     },
     "execution_count": 5,
     "metadata": {},
     "output_type": "execute_result"
    }
   ],
   "source": [
    "\n",
    "\n",
    "\n",
    "def trier(classeur, valeur):\n",
    "  if valeur >=0:\n",
    "    classeur['positifs'].append(valeur)\n",
    "  else:\n",
    "    classeur['négatifs'].append(valeur)\n",
    "  return classeur\n",
    "\n",
    "trier(classeur, 9)\n",
    "trier(classeur, -6)\n",
    "trier(classeur, 8)"
   ]
  },
  {
   "cell_type": "markdown",
   "metadata": {},
   "source": [
    "# Built-in Functions"
   ]
  },
  {
   "cell_type": "code",
   "execution_count": 13,
   "metadata": {},
   "outputs": [
    {
     "data": {
      "text/plain": [
       "['0: 0',\n",
       " '1: 1',\n",
       " '2: 4',\n",
       " '3: 9',\n",
       " '4: 16',\n",
       " '5: 25',\n",
       " '6: 36',\n",
       " '7: 49',\n",
       " '8: 64',\n",
       " '9: 81',\n",
       " '10: 100',\n",
       " '11: 121',\n",
       " '12: 144',\n",
       " '13: 169',\n",
       " '14: 196',\n",
       " '15: 225',\n",
       " '16: 256',\n",
       " '17: 289',\n",
       " '18: 324',\n",
       " '19: 361']"
      ]
     },
     "execution_count": 13,
     "metadata": {},
     "output_type": "execute_result"
    }
   ],
   "source": [
    "# Ce bout de code permet d'écrire le fichier \n",
    "with open('./assets/fichier.txt', 'w') as f:\n",
    "    for i in range(0, 20):\n",
    "        f.write(f'{i}: {i**2} \\n')\n",
    "    f.close()\n",
    "\n",
    "# Écrivez ici le code pour lire le fichier et enregistrer chaque lignes dans une liste.\n",
    "# SOLUTION (non optimale)\n",
    "with open('./assets/fichier.txt','r') as f:\n",
    "    liste = f.read().splitlines()\n",
    "\n",
    "liste\n",
    "\n",
    "# SOLUTION (Améliorée)\n",
    "# Une meilleure facon de procéder est d'utiliser une liste comprehension !\n",
    "\n",
    "liste2 = [row.strip() for row in open('./assets/fichier.txt','r')]\n",
    "liste2"
   ]
  },
  {
   "cell_type": "code",
   "execution_count": null,
   "metadata": {},
   "outputs": [],
   "source": []
  }
 ],
 "metadata": {
  "kernelspec": {
   "display_name": "Python 3",
   "language": "python",
   "name": "python3"
  },
  "language_info": {
   "codemirror_mode": {
    "name": "ipython",
    "version": 3
   },
   "file_extension": ".py",
   "mimetype": "text/x-python",
   "name": "python",
   "nbconvert_exporter": "python",
   "pygments_lexer": "ipython3",
   "version": "3.8.5"
  }
 },
 "nbformat": 4,
 "nbformat_minor": 4
}
