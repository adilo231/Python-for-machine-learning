{
 "cells": [
  {
   "attachments": {},
   "cell_type": "markdown",
   "metadata": {
    "colab_type": "text",
    "id": "view-in-github"
   },
   "source": [
    "<a \n",
    "href=\"https://colab.research.google.com/github/adilo231/Python-for-machine-learning/blob/main/Chap -1- Introduction to python/7-Modules de Bases.ipynb\" \n",
    "target=\"_parent\"><img src=\"https://colab.research.google.com/assets/colab-badge.svg\" alt=\"Open In Colab\"/></a>"
   ]
  },
  {
   "cell_type": "markdown",
   "metadata": {
    "colab_type": "text",
    "id": "BUt_YJsDRLNS"
   },
   "source": [
    "# Modules de bases de Python\n",
    "Python contient un certain nombre de modules intégrés, qui offrent de nombreuses fonctions mathématiques, statistiques, aléatoires et os tres utiles. Pour importer un module, il faut procéder comme-ci dessous :\n",
    "- **import module** (importe tout le module)\n",
    "- **import module as md** (donne un surnom au module)\n",
    "- **from module import fonction** (importe une fonction du module)\n"
   ]
  },
  {
   "cell_type": "code",
   "execution_count": 5,
   "metadata": {
    "colab": {},
    "colab_type": "code",
    "id": "gmlP-nyNRksg"
   },
   "outputs": [],
   "source": [
    "import math\n",
    "import statistics\n",
    "import random\n",
    "import os\n",
    "import glob"
   ]
  },
  {
   "cell_type": "markdown",
   "metadata": {
    "colab_type": "text",
    "id": "1ETgM9qZRdw1"
   },
   "source": [
    "## 1. Modules math et statistics\n",
    "les modules math et statistics sont en apparence tres utiles, mais en data science, nous utiliserons leurs équivalents dans le package **NUMPY**. Il peut néanmoins etre intéressant de voir les fonctions de bases.\n"
   ]
  },
  {
   "cell_type": "code",
   "execution_count": 8,
   "metadata": {
    "colab": {
     "base_uri": "https://localhost:8080/",
     "height": 51
    },
    "colab_type": "code",
    "id": "cGfVUkdVRE_y",
    "outputId": "edddb1de-d91e-4615-ac5a-65ae846602b1"
   },
   "outputs": [
    {
     "name": "stdout",
     "output_type": "stream",
     "text": [
      "3.141592653589793\n",
      "1.0\n",
      "2.718281828459045\n"
     ]
    }
   ],
   "source": [
    "print(math.pi)\n",
    "print(math.cos(2*math.pi))\n",
    "print(math.exp(1))"
   ]
  },
  {
   "cell_type": "code",
   "execution_count": 13,
   "metadata": {
    "colab": {
     "base_uri": "https://localhost:8080/",
     "height": 51
    },
    "colab_type": "code",
    "id": "XwFZrMVdTQyJ",
    "outputId": "992c6517-76de-4240-a043-1a3a199bcfd4"
   },
   "outputs": [
    {
     "name": "stdout",
     "output_type": "stream",
     "text": [
      "5.533333333333333\n",
      "10.266666666666666\n",
      "6\n"
     ]
    }
   ],
   "source": [
    "liste = [1, 4, 6, 2, 5, 3, 9, 6, 2, 1, 8, 8, 10, 9, 9]\n",
    "\n",
    "print(statistics.mean(liste)) # moyenne de la liste\n",
    "print(statistics.variance(liste)) # variance de la liste\n",
    "print(statistics.median(liste)) # median de la liste"
   ]
  },
  {
   "cell_type": "markdown",
   "metadata": {
    "colab_type": "text",
    "id": "AKGXkU5ZTvz8"
   },
   "source": [
    "## 2. Module Random\n",
    "Le module random est l'un des plus utile de Python. En datascience, nous utiliserons surtout sont équivalent **NUMPY**"
   ]
  },
  {
   "cell_type": "code",
   "execution_count": 14,
   "metadata": {
    "colab": {
     "base_uri": "https://localhost:8080/",
     "height": 68
    },
    "colab_type": "code",
    "id": "a2I21oZkTuHB",
    "outputId": "b086dd4c-5168-42db-804d-5e3c4fb2c154"
   },
   "outputs": [
    {
     "name": "stdout",
     "output_type": "stream",
     "text": [
      "9\n",
      "0.3852453064766108\n",
      "8\n"
     ]
    }
   ],
   "source": [
    "random.seed(0) # fixe le générateur aléatoire pour produire toujours le meme résultat\n",
    "\n",
    "print(random.choice(liste)) # choisit un élément au hasard dans la liste\n",
    "\n",
    "print(random.random()) # génére un nombre aléatoire entre 0 et 1\n",
    "\n",
    "print(random.randint(5, 10)) # génére un nombre entier aléatoire entre 5 et 10"
   ]
  },
  {
   "cell_type": "code",
   "execution_count": 15,
   "metadata": {
    "colab": {
     "base_uri": "https://localhost:8080/",
     "height": 34
    },
    "colab_type": "code",
    "id": "5MhdVoC3T-XV",
    "outputId": "01a1c3d3-120d-429a-e2d1-1f05347f7b34"
   },
   "outputs": [
    {
     "data": {
      "text/plain": [
       "[5, 33, 65, 62, 51, 38, 61, 45, 74, 27]"
      ]
     },
     "execution_count": 15,
     "metadata": {},
     "output_type": "execute_result"
    }
   ],
   "source": [
    "random.sample(range(100), 10) # retourne une liste de 10 nombres aléatoires entre 0 et 100"
   ]
  },
  {
   "cell_type": "code",
   "execution_count": 16,
   "metadata": {
    "colab": {
     "base_uri": "https://localhost:8080/",
     "height": 51
    },
    "colab_type": "code",
    "id": "cBrlkD-vU8tt",
    "outputId": "4af02fe1-a09f-4e50-f198-c6d28c26cf13"
   },
   "outputs": [
    {
     "name": "stdout",
     "output_type": "stream",
     "text": [
      "liste de départ [1, 4, 6, 2, 5, 3, 9, 6, 2, 1, 8, 8, 10, 9, 9]\n",
      "liste mélangée [2, 9, 8, 9, 3, 1, 6, 8, 10, 1, 4, 9, 5, 6, 2]\n"
     ]
    }
   ],
   "source": [
    "print('liste de départ', liste)\n",
    "\n",
    "random.shuffle(liste) #mélange les éléments d'une liste\n",
    "\n",
    "print('liste mélangée', liste)"
   ]
  },
  {
   "cell_type": "markdown",
   "metadata": {
    "colab_type": "text",
    "id": "5Xq4Z9LhVbrw"
   },
   "source": [
    "## 3. Modules OS et Glob\n",
    "Les modules OS et GLob sont **essentiels** pour effectuer des opérations sur votre disque dur, comme ouvrir un fichier situé dans un certain répertoire de travail.\n"
   ]
  },
  {
   "cell_type": "code",
   "execution_count": 17,
   "metadata": {
    "colab": {
     "base_uri": "https://localhost:8080/",
     "height": 34
    },
    "colab_type": "code",
    "id": "4Ss3-GnoVNmq",
    "outputId": "ac19dc88-d04d-41a3-e7aa-ba085b465e26"
   },
   "outputs": [
    {
     "data": {
      "text/plain": [
       "'/Users/mac/Documents/Teaching/Machine learning/Python-Machine-Learning/Formation python for machine learning/Introduction to python'"
      ]
     },
     "execution_count": 17,
     "metadata": {},
     "output_type": "execute_result"
    }
   ],
   "source": [
    "os.getcwd() # affiche le répertoire de travail actuel"
   ]
  },
  {
   "cell_type": "code",
   "execution_count": 18,
   "metadata": {
    "colab": {
     "base_uri": "https://localhost:8080/",
     "height": 34
    },
    "colab_type": "code",
    "id": "GYg0__LiViYP",
    "outputId": "14b6e24a-1765-410d-e636-15184872ebbd"
   },
   "outputs": [
    {
     "name": "stdout",
     "output_type": "stream",
     "text": [
      "['Solutoin exercises.ipynb', '2-Structures de Controles.ipynb', '1-Variables et Fonctions.ipynb', '7-Modules de Bases.ipynb', '8-Programmation Orientée Objet.ipynb', '__pycache__', '4-Dictionnaires.ipynb', '3-Structures de données (Listes et Tuples).ipynb', '6- Built-in Functions.ipynb', 'MyModule.py', 'assets', '5-List Comprehension.ipynb']\n"
     ]
    }
   ],
   "source": [
    "print(glob.glob('*')) # contenu du repertoire de travail actuel"
   ]
  },
  {
   "cell_type": "markdown",
   "metadata": {},
   "source": [
    "## 4. Créer notre propre module"
   ]
  },
  {
   "cell_type": "markdown",
   "metadata": {},
   "source": [
    "Vous pouvez également créer vos propres modules et les importer dans d'autres projets. Un module n'est en fait qu'un simple fichier.py qui contient des fonctions et des classes"
   ]
  },
  {
   "cell_type": "code",
   "execution_count": 1,
   "metadata": {
    "colab": {},
    "colab_type": "code",
    "id": "gZDOyrbcWC8J"
   },
   "outputs": [],
   "source": [
    "import MyModule as a"
   ]
  },
  {
   "cell_type": "code",
   "execution_count": 3,
   "metadata": {},
   "outputs": [
    {
     "data": {
      "text/plain": [
       "-4"
      ]
     },
     "execution_count": 3,
     "metadata": {},
     "output_type": "execute_result"
    }
   ],
   "source": [
    "a.somme(4,5)\n",
    "a.substraction(5,9)"
   ]
  },
  {
   "cell_type": "code",
   "execution_count": 4,
   "metadata": {},
   "outputs": [
    {
     "data": {
      "text/plain": [
       "9"
      ]
     },
     "execution_count": 4,
     "metadata": {},
     "output_type": "execute_result"
    }
   ],
   "source": [
    "from MyModule import somme\n",
    "a.somme(4,5)"
   ]
  }
 ],
 "metadata": {
  "colab": {
   "authorship_tag": "ABX9TyNMaWNa1nHIB7W1Gqz1eq5+",
   "include_colab_link": true,
   "name": "Untitled5.ipynb",
   "provenance": []
  },
  "kernelspec": {
   "display_name": "base",
   "language": "python",
   "name": "python3"
  },
  "language_info": {
   "codemirror_mode": {
    "name": "ipython",
    "version": 3
   },
   "file_extension": ".py",
   "mimetype": "text/x-python",
   "name": "python",
   "nbconvert_exporter": "python",
   "pygments_lexer": "ipython3",
   "version": "3.8.5 (default, Sep  4 2020, 02:22:02) \n[Clang 10.0.0 ]"
  },
  "vscode": {
   "interpreter": {
    "hash": "7b34b089ce0dfc9935940e0a22050b2949fa617f7a2b73925623c261bed16aeb"
   }
  }
 },
 "nbformat": 4,
 "nbformat_minor": 1
}
