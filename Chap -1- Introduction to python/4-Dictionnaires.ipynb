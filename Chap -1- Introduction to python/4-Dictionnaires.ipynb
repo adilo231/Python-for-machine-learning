{
 "cells": [
  {
   "attachments": {},
   "cell_type": "markdown",
   "metadata": {
    "colab_type": "text",
    "id": "view-in-github"
   },
   "source": [
    "<a \n",
    "href=\"https://colab.research.google.com/github/adilo231/Python-for-machine-learning/blob/main/Chap -1- Introduction to python/4-Dictionnaires.ipynb\" \n",
    "target=\"_parent\"><img src=\"https://colab.research.google.com/assets/colab-badge.svg\" alt=\"Open In Colab\"/></a>"
   ]
  },
  {
   "cell_type": "markdown",
   "metadata": {
    "colab_type": "text",
    "id": "joYmh7TZyu-I"
   },
   "source": [
    "# Dictionnaires\n",
    "Les dictionnaires sont des structures de controle **non-ordonnées**, c'est-a-dire que les valeurs qu'ils contiennent ne sont pas rangée selon un index, mais suivant une **clef unique**.\n",
    "\n",
    "Une utilisation parfaite des dictionnaires est pour regrouper ensemble des \"variables\" dans un meme conténaire. (ces variables ne sont pas de vraies variables, mais des **keys**).\n",
    "\n",
    "*On peut par exemple crée un dictionnaire inventaire qui regroupe plusieurs produits (les clefs) et leur quantités (les valeurs)*\n",
    "\n",
    "Sommaire:\n",
    "- 1 definition\n",
    "- 2 Dict.values()\n",
    "- 3 Dict.keys()\n",
    "- 4 Dict.fromkeys()\n",
    "- 5 get information (inventaire['key'] = 30 or inventaire.get('pommes'))\n",
    "- 6 Dict.pop(\"abricots\")\n",
    "- 7 Dict.keys(), Dict.values(), Dict.items()\n"
   ]
  },
  {
   "cell_type": "code",
   "execution_count": 1,
   "metadata": {
    "colab": {},
    "colab_type": "code",
    "id": "IxAbYNGyypdD"
   },
   "outputs": [],
   "source": [
    "inventaire = {'pommes': 100,\n",
    "              'bananes': 80,\n",
    "              'poires': 120}"
   ]
  },
  {
   "cell_type": "code",
   "execution_count": 2,
   "metadata": {
    "colab": {
     "base_uri": "https://localhost:8080/",
     "height": 34
    },
    "colab_type": "code",
    "id": "KIMrwYSF0WOx",
    "outputId": "c44e65a3-4efa-4d94-e0a3-c64872120894"
   },
   "outputs": [
    {
     "data": {
      "text/plain": [
       "dict_values([100, 80, 120])"
      ]
     },
     "execution_count": 2,
     "metadata": {},
     "output_type": "execute_result"
    }
   ],
   "source": [
    "inventaire.values()"
   ]
  },
  {
   "cell_type": "code",
   "execution_count": 3,
   "metadata": {
    "colab": {
     "base_uri": "https://localhost:8080/",
     "height": 34
    },
    "colab_type": "code",
    "id": "kiVf5n2J0Yxa",
    "outputId": "b829279b-d0cd-4df5-c4a1-57b1b5d1ea35"
   },
   "outputs": [
    {
     "data": {
      "text/plain": [
       "dict_keys(['pommes', 'bananes', 'poires'])"
      ]
     },
     "execution_count": 3,
     "metadata": {},
     "output_type": "execute_result"
    }
   ],
   "source": [
    "inventaire.keys()"
   ]
  },
  {
   "cell_type": "code",
   "execution_count": 4,
   "metadata": {
    "colab": {
     "base_uri": "https://localhost:8080/",
     "height": 163
    },
    "colab_type": "code",
    "id": "buwMNYZ40agi",
    "outputId": "fef58cfb-e270-45f8-9d85-386d36ca86cf"
   },
   "outputs": [
    {
     "data": {
      "text/plain": [
       "3"
      ]
     },
     "execution_count": 4,
     "metadata": {},
     "output_type": "execute_result"
    }
   ],
   "source": [
    "len(inventaire)"
   ]
  },
  {
   "cell_type": "markdown",
   "metadata": {
    "colab_type": "text",
    "id": "P3tAq8GJ0idV"
   },
   "source": [
    "Voici comment ajouter une association key/value dans notre dictionnaire (attention si la clef existe déja elle est remplacée)"
   ]
  },
  {
   "cell_type": "code",
   "execution_count": 2,
   "metadata": {
    "colab": {
     "base_uri": "https://localhost:8080/",
     "height": 34
    },
    "colab_type": "code",
    "id": "0cPXXWkY0eCZ",
    "outputId": "da888bd9-4c15-499c-c171-306d2dafb9eb"
   },
   "outputs": [
    {
     "name": "stdout",
     "output_type": "stream",
     "text": [
      "{'pommes': 100, 'bananes': 80, 'poires': 120, 'abricots': 30}\n"
     ]
    }
   ],
   "source": [
    "inventaire['abricots'] = 30\n",
    "print(inventaire)"
   ]
  },
  {
   "cell_type": "markdown",
   "metadata": {
    "colab_type": "text",
    "id": "tCIkswDN1L9m"
   },
   "source": [
    "Attention : si vous cherchez une clef qui n'existe pas dans un dictionnaire, python vous retourne une erreur. Pour éviter cela, vous pouvez utiliser la méthode **get()**"
   ]
  },
  {
   "cell_type": "code",
   "execution_count": 6,
   "metadata": {
    "colab": {},
    "colab_type": "code",
    "id": "8v_RHt9F1KGx"
   },
   "outputs": [],
   "source": [
    "inventaire.get('peches') # n'existe pas"
   ]
  },
  {
   "cell_type": "code",
   "execution_count": 7,
   "metadata": {
    "colab": {
     "base_uri": "https://localhost:8080/",
     "height": 34
    },
    "colab_type": "code",
    "id": "IlZRIOPb1Zd_",
    "outputId": "28332b9a-6ae8-4196-e464-117f74f0b2d7"
   },
   "outputs": [
    {
     "data": {
      "text/plain": [
       "100"
      ]
     },
     "execution_count": 7,
     "metadata": {},
     "output_type": "execute_result"
    }
   ],
   "source": [
    "inventaire.get('pommes') # pomme existe"
   ]
  },
  {
   "cell_type": "code",
   "execution_count": 22,
   "metadata": {},
   "outputs": [
    {
     "data": {
      "text/plain": [
       "{'dog': 0, 'cat': 0, 'bird': 0, 'fish': 0}"
      ]
     },
     "execution_count": 22,
     "metadata": {},
     "output_type": "execute_result"
    }
   ],
   "source": [
    "Animal_list =('dog','cat','bird','fish')\n",
    "Animal_number = 0\n",
    "MyAnimals={\n",
    "    \n",
    "}\n",
    "MyAnimals.fromkeys(Animal_list,Animal_number)"
   ]
  },
  {
   "cell_type": "markdown",
   "metadata": {
    "colab_type": "text",
    "id": "OC8GzBfW1pBr"
   },
   "source": [
    "la méthode **pop()** permet de retirer une clef d'un dictionnaire tout en retournant la valeur associée a la clef."
   ]
  },
  {
   "cell_type": "code",
   "execution_count": 8,
   "metadata": {
    "colab": {
     "base_uri": "https://localhost:8080/",
     "height": 51
    },
    "colab_type": "code",
    "id": "njAZZTkf1d7H",
    "outputId": "b8f4a6a6-7e3f-4e3e-cb09-328ff4c24373"
   },
   "outputs": [
    {
     "name": "stdout",
     "output_type": "stream",
     "text": [
      "{'pommes': 100, 'bananes': 80, 'poires': 120}\n",
      "30\n"
     ]
    }
   ],
   "source": [
    "abricots = inventaire.pop(\"abricots\")\n",
    "print(inventaire) # ne contient plus de clef abricots\n",
    "print(abricots) # abricots contient la valeur du dictionnaire"
   ]
  },
  {
   "cell_type": "markdown",
   "metadata": {
    "colab_type": "text",
    "id": "giJvo0ON2nxR"
   },
   "source": [
    "Pour utiliser une boucle for avec un dictionnaire, il est utile d'utiliser la méthode **items()** qui retourne a la fois les clefs et les valeurs"
   ]
  },
  {
   "cell_type": "code",
   "execution_count": 5,
   "metadata": {
    "colab": {
     "base_uri": "https://localhost:8080/",
     "height": 68
    },
    "colab_type": "code",
    "id": "pn0mt-wh1oj0",
    "outputId": "69707cdc-8127-451e-c6ea-73942f0f1128"
   },
   "outputs": [
    {
     "name": "stdout",
     "output_type": "stream",
     "text": [
      "this is the key: pommes\n",
      "this is the key: bananes\n",
      "this is the key: poires\n",
      "this is the key: abricots\n",
      "--------------\n",
      "this is the values: \n",
      "this is the values: \n",
      "this is the values: \n",
      "this is the values: \n",
      "--------------\n",
      "this is key-value: pommes,100\n",
      "this is key-value: bananes,80\n",
      "this is key-value: poires,120\n",
      "this is key-value: abricots,30\n"
     ]
    }
   ],
   "source": [
    "for key in inventaire.keys():\n",
    "  print(f'this is the key: {key}')\n",
    "print('--------------')\n",
    "for value in inventaire.values():\n",
    "  print('this is the values: '.format(value))\n",
    "print('--------------')\n",
    "for key, value in inventaire.items():\n",
    "  print(f'this is key-value: {key},{value}' )"
   ]
  },
  {
   "attachments": {},
   "cell_type": "markdown",
   "metadata": {
    "colab_type": "text",
    "id": "qWrT3hUL3nbN"
   },
   "source": [
    "## Exercice et Solution\n",
    "### EXO1\n",
    "Implémentez une fonction *trier(classeur, valeur)* qui place une valeur dans un dictionnaire en fonction de son signe\n"
   ]
  },
  {
   "cell_type": "code",
   "execution_count": 10,
   "metadata": {
    "colab": {},
    "colab_type": "code",
    "id": "lvFl1n8Z22Pq"
   },
   "outputs": [],
   "source": [
    "classeur = {'négatifs':[],\n",
    "            'positifs':[]\n",
    "            }\n"
   ]
  },
  {
   "cell_type": "code",
   "execution_count": 11,
   "metadata": {
    "colab": {},
    "colab_type": "code",
    "id": "LAOsU1Ya4PKY"
   },
   "outputs": [],
   "source": [
    "\n",
    "def trier(classeur, valeur):\n",
    "    #Code ici\n",
    "  return classeur\n"
   ]
  },
  {
   "attachments": {},
   "cell_type": "markdown",
   "metadata": {
    "colab": {},
    "colab_type": "code",
    "id": "tpgKytJR4u0v"
   },
   "source": [
    "### EXO2\n",
    "Implémentez un code qui permet de lire les valeur du classeur parameters\n"
   ]
  },
  {
   "cell_type": "code",
   "execution_count": 15,
   "metadata": {},
   "outputs": [],
   "source": [
    "parameters = {'Ws':[1,2,3,4,8],\n",
    "            'Bs':[1,2,3,5,6]\n",
    "            }"
   ]
  },
  {
   "cell_type": "code",
   "execution_count": null,
   "metadata": {},
   "outputs": [],
   "source": [
    "## code ICI"
   ]
  }
 ],
 "metadata": {
  "colab": {
   "authorship_tag": "ABX9TyNuaHloFlnajW67t9G5GL/M",
   "include_colab_link": true,
   "name": "Untitled2.ipynb",
   "provenance": []
  },
  "kernelspec": {
   "display_name": "base",
   "language": "python",
   "name": "python3"
  },
  "language_info": {
   "codemirror_mode": {
    "name": "ipython",
    "version": 3
   },
   "file_extension": ".py",
   "mimetype": "text/x-python",
   "name": "python",
   "nbconvert_exporter": "python",
   "pygments_lexer": "ipython3",
   "version": "3.8.5"
  },
  "vscode": {
   "interpreter": {
    "hash": "7b34b089ce0dfc9935940e0a22050b2949fa617f7a2b73925623c261bed16aeb"
   }
  }
 },
 "nbformat": 4,
 "nbformat_minor": 1
}
