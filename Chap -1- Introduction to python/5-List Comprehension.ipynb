{
 "cells": [
  {
   "attachments": {},
   "cell_type": "markdown",
   "metadata": {
    "colab_type": "text",
    "id": "view-in-github"
   },
   "source": [
    "<a \n",
    "href=\"https://colab.research.google.com/github/adilo231/Python-for-machine-learning/blob/main/Chap -1- Introduction to python/5-List Comprehension.ipynb\" \n",
    "target=\"_parent\"><img src=\"https://colab.research.google.com/assets/colab-badge.svg\" alt=\"Open In Colab\"/></a>"
   ]
  },
  {
   "cell_type": "markdown",
   "metadata": {
    "colab_type": "text",
    "id": "GhAiPHEG5IUO"
   },
   "source": [
    "# List Comprehension\n",
    "Les listes comprehension sont une facon habile de créer des listes sur une seule ligne de code, ce qui rend le code beaucoup plus rapide (car python est un langage assez lent)\n",
    "\n",
    "Les deux code ci-dessous effectuent chacun la meme opération. On peut voir (grace a la commande %%time) que le temps d'execution avec liste comprehenion est bien inférieur au temps d'execution avec la méthode append() "
   ]
  },
  {
   "cell_type": "code",
   "execution_count": 5,
   "metadata": {
    "colab": {
     "base_uri": "https://localhost:8080/",
     "height": 51
    },
    "colab_type": "code",
    "id": "Lzgj8bJa3Z4E",
    "outputId": "13281391-08be-4407-e169-7ecc21e8e80a"
   },
   "outputs": [
    {
     "name": "stdout",
     "output_type": "stream",
     "text": [
      "CPU times: user 406 ms, sys: 22.3 ms, total: 428 ms\n",
      "Wall time: 526 ms\n"
     ]
    }
   ],
   "source": [
    "%%time\n",
    "liste = []\n",
    "for i in range(1000000):\n",
    "  liste.append(i**2)"
   ]
  },
  {
   "cell_type": "code",
   "execution_count": 6,
   "metadata": {
    "colab": {
     "base_uri": "https://localhost:8080/",
     "height": 51
    },
    "colab_type": "code",
    "id": "CIvxRMVe6vsw",
    "outputId": "ba0c4b1f-805a-45c7-f845-ceea90e48eda"
   },
   "outputs": [
    {
     "name": "stdout",
     "output_type": "stream",
     "text": [
      "CPU times: user 334 ms, sys: 27.7 ms, total: 361 ms\n",
      "Wall time: 427 ms\n"
     ]
    }
   ],
   "source": [
    "%%time\n",
    "liste = [i**2 for i in range(1000000)]"
   ]
  },
  {
   "cell_type": "code",
   "execution_count": 7,
   "metadata": {},
   "outputs": [
    {
     "name": "stdout",
     "output_type": "stream",
     "text": [
      "[[0, 4, 16, 36, 64], [0, 4, 16, 36, 64], [0, 4, 16, 36, 64]]\n"
     ]
    }
   ],
   "source": [
    "liste = [[i**2 for i in range(0,10,2)] for i in range(3)]\n",
    "print(liste)"
   ]
  },
  {
   "cell_type": "markdown",
   "metadata": {
    "colab_type": "text",
    "id": "fvZgGNE18t6Z"
   },
   "source": [
    "On peut rajouter des conditions **if** dans les listes comprehension, par exemple :"
   ]
  },
  {
   "cell_type": "code",
   "execution_count": 8,
   "metadata": {
    "colab": {
     "base_uri": "https://localhost:8080/",
     "height": 34
    },
    "colab_type": "code",
    "id": "KeCjT4gz7Dgm",
    "outputId": "71ef2147-1333-4a38-aedc-f9a5874f7e2b"
   },
   "outputs": [
    {
     "name": "stdout",
     "output_type": "stream",
     "text": [
      "[0, 4, 16, 36, 64, 100, 144, 196, 256, 324]\n"
     ]
    }
   ],
   "source": [
    "liste = [i**2 for i in range(100000) if (i % 2) == 0] # calcule i**2 seulement pour les nombres pairs.\n",
    "\n",
    "print(liste[:10]) #affiche les 10 premiers éléments de la liste"
   ]
  },
  {
   "cell_type": "code",
   "execution_count": 9,
   "metadata": {},
   "outputs": [
    {
     "name": "stdout",
     "output_type": "stream",
     "text": [
      "{'adel': 0, 'omar': 1, 'moktar': 2, 'ali': 3}\n",
      "dict_keys(['adel', 'omar', 'moktar', 'ali'])\n",
      "dict_values([0, 1, 2, 3])\n"
     ]
    }
   ],
   "source": [
    "names=['adel','omar','moktar','ali']\n",
    "dico1={name:idx for idx,name in enumerate(names)}\n",
    "print((dico1))\n",
    "print(dico1.keys())\n",
    "print(dico1.values())"
   ]
  },
  {
   "cell_type": "code",
   "execution_count": 10,
   "metadata": {},
   "outputs": [
    {
     "name": "stdout",
     "output_type": "stream",
     "text": [
      "{'adel': 30, 'omar': 23, 'moktar': 25, 'ali': 26}\n",
      "dict_keys(['adel', 'omar', 'moktar', 'ali'])\n",
      "dict_values([30, 23, 25, 26])\n"
     ]
    }
   ],
   "source": [
    "ages=[30,23,25,26]\n",
    "dico2={names:ages for names,ages in zip(names,ages)}\n",
    "print((dico2))\n",
    "print(dico2.keys())\n",
    "print(dico2.values())"
   ]
  },
  {
   "cell_type": "code",
   "execution_count": 16,
   "metadata": {},
   "outputs": [
    {
     "name": "stdout",
     "output_type": "stream",
     "text": [
      "{'omar': 23, 'moktar': 25, 'ali': 26}\n",
      "dict_keys(['omar', 'moktar', 'ali'])\n",
      "dict_values([23, 25, 26])\n"
     ]
    }
   ],
   "source": [
    "ages=[30,23,25,26]\n",
    "dico2={names:ages for names,ages in zip(names,ages) if ages< 30}\n",
    "print((dico2))\n",
    "print(dico2.keys())\n",
    "print(dico2.values())"
   ]
  }
 ],
 "metadata": {
  "colab": {
   "authorship_tag": "ABX9TyO7juhPo5Ghi3/QHXMS+UvK",
   "include_colab_link": true,
   "name": "Untitled3.ipynb",
   "provenance": []
  },
  "kernelspec": {
   "display_name": "base",
   "language": "python",
   "name": "python3"
  },
  "language_info": {
   "codemirror_mode": {
    "name": "ipython",
    "version": 3
   },
   "file_extension": ".py",
   "mimetype": "text/x-python",
   "name": "python",
   "nbconvert_exporter": "python",
   "pygments_lexer": "ipython3",
   "version": "3.8.5"
  },
  "vscode": {
   "interpreter": {
    "hash": "7b34b089ce0dfc9935940e0a22050b2949fa617f7a2b73925623c261bed16aeb"
   }
  }
 },
 "nbformat": 4,
 "nbformat_minor": 1
}
