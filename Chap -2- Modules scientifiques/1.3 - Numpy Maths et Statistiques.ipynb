{
 "cells": [
  {
   "cell_type": "markdown",
   "metadata": {
    "colab_type": "text",
    "id": "view-in-github"
   },
   "source": [
    "<a href=\"https://colab.research.google.com/github/MachineLearnia/Python-Machine-Learning/blob/master/12%20-%20Numpy%20Maths%20et%20Statistiques.ipynb\" target=\"_parent\"><img src=\"https://colab.research.google.com/assets/colab-badge.svg\" alt=\"Open In Colab\"/></a>"
   ]
  },
  {
   "cell_type": "markdown",
   "metadata": {
    "colab_type": "text",
    "id": "1CXrPX3b1Fqz"
   },
   "source": [
    "# Numpy : Mathématiques"
   ]
  },
  {
   "cell_type": "code",
   "execution_count": 2,
   "metadata": {
    "colab": {},
    "colab_type": "code",
    "id": "jnkYo8bz1e-P"
   },
   "outputs": [],
   "source": [
    "import numpy as np"
   ]
  },
  {
   "cell_type": "markdown",
   "metadata": {
    "colab_type": "text",
    "id": "6_N90vFm1T7v"
   },
   "source": [
    "## Méthodes de bases (les plus utiles) de la classe ndarray"
   ]
  },
  {
   "cell_type": "code",
   "execution_count": 34,
   "metadata": {
    "colab": {
     "base_uri": "https://localhost:8080/",
     "height": 221
    },
    "colab_type": "code",
    "id": "d8cWapdZ1Cho",
    "outputId": "5aaafff2-6c19-4a6e-db40-0ad1fdba78b5"
   },
   "outputs": [
    {
     "name": "stdout",
     "output_type": "stream",
     "text": [
      "[[1 2 3]\n",
      " [4 5 6]]\n",
      "la somme des elements 21\n",
      "la somme des elements colone [5 7 9]\n",
      "la somme des elements ligne [ 6 15]\n",
      "la somme cumulative [[1 2 3]\n",
      " [5 7 9]]\n",
      "720\n",
      "[  1   2   6  24 120 720]\n",
      "1\n",
      "6\n",
      "3.5\n",
      "1.707825127659933\n",
      "2.9166666666666665\n"
     ]
    }
   ],
   "source": [
    "A = np.array([[1, 2, 3], [4, 5, 6]])\n",
    "print(A)\n",
    "print(\"la somme des elements\",A.sum()) # effectue la somme de tous les éléments du tableau\n",
    "print(\"la somme des elements colone\",A.sum(axis=0)) # effectue la somme des colonnes (somme sur éléments des les lignes)\n",
    "print(\"la somme des elements ligne\",A.sum(axis=1)) # effectue la somme des lignes (somme sur les éléments des colonnes)\n",
    "print(\"la somme cumulative\",A.cumsum(axis=0)) # effectue la somme cumulée\n",
    " \n",
    "print(A.prod()) # effectue le produit\n",
    "print(A.cumprod()) # effectue le produit cumulé\n",
    " \n",
    "print(A.min()) # trouve le minimum du tableau\n",
    "print(A.max()) # trouve le maximum du tableau\n",
    " \n",
    "print(A.mean()) # calcule la moyenne\n",
    "print(A.std()) # calcule l'ecart type,\n",
    "print(A.var()) # calcule la variance"
   ]
  },
  {
   "cell_type": "markdown",
   "metadata": {
    "colab_type": "text",
    "id": "f2YyhT1a10_D"
   },
   "source": [
    "Une méthode tres importante : la méthode **argsort()**"
   ]
  },
  {
   "cell_type": "code",
   "execution_count": 19,
   "metadata": {
    "colab": {
     "base_uri": "https://localhost:8080/",
     "height": 102
    },
    "colab_type": "code",
    "id": "B4VpaKBC1gP5",
    "outputId": "ece0dc47-6e25-4467-8489-2853d84246ee"
   },
   "outputs": [
    {
     "name": "stdout",
     "output_type": "stream",
     "text": [
      "[[4 2 6 2 4]\n",
      " [7 7 4 0 1]\n",
      " [6 6 6 3 3]\n",
      " [2 0 7 7 3]\n",
      " [5 7 4 9 7]]\n"
     ]
    }
   ],
   "source": [
    "A = np.random.randint(0, 10, [5, 5]) # tableau aléatoire\n",
    "print(A)"
   ]
  },
  {
   "cell_type": "code",
   "execution_count": 20,
   "metadata": {
    "colab": {
     "base_uri": "https://localhost:8080/",
     "height": 102
    },
    "colab_type": "code",
    "id": "2QQRptNH2CoJ",
    "outputId": "ca55206b-fdf7-412e-af1a-ffb6ae9658e2"
   },
   "outputs": [
    {
     "name": "stdout",
     "output_type": "stream",
     "text": [
      "[[1 3 0 4 2]\n",
      " [3 4 2 0 1]\n",
      " [3 4 0 1 2]\n",
      " [1 0 4 2 3]\n",
      " [2 0 1 4 3]]\n"
     ]
    }
   ],
   "source": [
    "print(A.argsort()) # retourne les index pour trier chaque ligne du tableau "
   ]
  },
  {
   "cell_type": "code",
   "execution_count": 21,
   "metadata": {
    "colab": {
     "base_uri": "https://localhost:8080/",
     "height": 34
    },
    "colab_type": "code",
    "id": "Th0JUW9F1z4O",
    "outputId": "789633ef-0cef-4a83-dbe1-12662c1f4165"
   },
   "outputs": [
    {
     "name": "stdout",
     "output_type": "stream",
     "text": [
      "[3 0 4 2 1]\n"
     ]
    }
   ],
   "source": [
    "print(A[:,0].argsort()) # retourne les index pour trier la colonne 0 de A"
   ]
  },
  {
   "cell_type": "code",
   "execution_count": 22,
   "metadata": {
    "colab": {
     "base_uri": "https://localhost:8080/",
     "height": 102
    },
    "colab_type": "code",
    "id": "7pbSRQAm2GBW",
    "outputId": "2c9c6496-089f-4822-c509-6ff81ebd5b77"
   },
   "outputs": [
    {
     "data": {
      "text/plain": [
       "array([[2, 0, 7, 7, 3],\n",
       "       [4, 2, 6, 2, 4],\n",
       "       [5, 7, 4, 9, 7],\n",
       "       [6, 6, 6, 3, 3],\n",
       "       [7, 7, 4, 0, 1]])"
      ]
     },
     "execution_count": 22,
     "metadata": {
      "tags": []
     },
     "output_type": "execute_result"
    }
   ],
   "source": [
    "A = A[A[:,0].argsort(), :] # trie les colonnes du tableau selon la colonne 0.\n",
    "A"
   ]
  },
  {
   "cell_type": "markdown",
   "metadata": {
    "colab_type": "text",
    "id": "NNIcngt72OHO"
   },
   "source": [
    "## Numpy Statistics\n",
    "Correlation de Pearson :"
   ]
  },
  {
   "cell_type": "code",
   "execution_count": 23,
   "metadata": {
    "colab": {
     "base_uri": "https://localhost:8080/",
     "height": 68
    },
    "colab_type": "code",
    "id": "6JKPrFu52Gcj",
    "outputId": "914d328d-2e39-4d6e-86a5-93f7868c5115"
   },
   "outputs": [
    {
     "name": "stdout",
     "output_type": "stream",
     "text": [
      "[[ 1.         -0.63427277  0.99937797]\n",
      " [-0.63427277  1.         -0.66114251]\n",
      " [ 0.99937797 -0.66114251  1.        ]]\n"
     ]
    }
   ],
   "source": [
    "B = np.random.randn(3, 3) # nombres aléatoires 3x3\n",
    " \n",
    "# retourne la matrice de corrélation de B\n",
    "print(np.corrcoef(B))"
   ]
  },
  {
   "cell_type": "code",
   "execution_count": 24,
   "metadata": {
    "colab": {
     "base_uri": "https://localhost:8080/",
     "height": 51
    },
    "colab_type": "code",
    "id": "gqrA5qDh2RpN",
    "outputId": "6c490485-2626-447d-91e4-a22e901c865c"
   },
   "outputs": [
    {
     "name": "stdout",
     "output_type": "stream",
     "text": [
      "[[1.         0.81847981]\n",
      " [0.81847981 1.        ]]\n"
     ]
    }
   ],
   "source": [
    "# retourne la matrice de corrélation entre les lignes 0 et 1 de B\n",
    "print(np.corrcoef(B[:,0], B[:, 1]))"
   ]
  },
  {
   "cell_type": "markdown",
   "metadata": {
    "colab_type": "text",
    "id": "WHndpMUN5dqP"
   },
   "source": [
    "np.unique() :"
   ]
  },
  {
   "cell_type": "code",
   "execution_count": 15,
   "metadata": {
    "colab": {
     "base_uri": "https://localhost:8080/",
     "height": 102
    },
    "colab_type": "code",
    "id": "DU4Gx07Q5gVs",
    "outputId": "93ce7095-3cff-429d-d31c-a25221459283"
   },
   "outputs": [
    {
     "data": {
      "text/plain": [
       "array([[4, 0, 3, 3, 3],\n",
       "       [1, 3, 2, 4, 0],\n",
       "       [0, 4, 2, 1, 0],\n",
       "       [1, 1, 0, 1, 4],\n",
       "       [3, 0, 3, 0, 2]])"
      ]
     },
     "execution_count": 15,
     "metadata": {},
     "output_type": "execute_result"
    }
   ],
   "source": [
    "np.random.seed(0)\n",
    "A = np.random.randint(0, 5, [5,5])\n",
    "A"
   ]
  },
  {
   "cell_type": "code",
   "execution_count": 16,
   "metadata": {
    "colab": {
     "base_uri": "https://localhost:8080/",
     "height": 34
    },
    "colab_type": "code",
    "id": "GmkYmQUJ5qG8",
    "outputId": "81ffe749-55a1-434c-ec96-60fdf579f9ab"
   },
   "outputs": [
    {
     "data": {
      "text/plain": [
       "array([0, 1, 2, 3, 4])"
      ]
     },
     "execution_count": 16,
     "metadata": {},
     "output_type": "execute_result"
    }
   ],
   "source": [
    "np.unique(A)"
   ]
  },
  {
   "cell_type": "code",
   "execution_count": 17,
   "metadata": {
    "colab": {
     "base_uri": "https://localhost:8080/",
     "height": 187
    },
    "colab_type": "code",
    "id": "Ax4tl32b2YYJ",
    "outputId": "54fbaa2d-44d1-450e-e773-be9a30277235"
   },
   "outputs": [
    {
     "name": "stdout",
     "output_type": "stream",
     "text": [
      "valeur 2 apparait 3\n",
      "valeur 4 apparait 4\n",
      "valeur 1 apparait 5\n",
      "valeur 3 apparait 6\n",
      "valeur 0 apparait 7\n"
     ]
    }
   ],
   "source": [
    "values, counts = np.unique(A, return_counts=True)\n",
    "\n",
    "for i, j in zip(values[counts.argsort()], counts[counts.argsort()]):\n",
    "    print(f'valeur {i} apparait {j}')"
   ]
  },
  {
   "cell_type": "markdown",
   "metadata": {
    "colab_type": "text",
    "id": "E9A4AEs96YLs"
   },
   "source": [
    "Calculs statistiques en présence de données manquates (NaN)"
   ]
  },
  {
   "cell_type": "code",
   "execution_count": 36,
   "metadata": {
    "colab": {
     "base_uri": "https://localhost:8080/",
     "height": 51
    },
    "colab_type": "code",
    "id": "AQGnQU3x6XrI",
    "outputId": "baec5b01-99fb-4f4c-df49-b1253a1f5a07"
   },
   "outputs": [
    {
     "name": "stdout",
     "output_type": "stream",
     "text": [
      "ratio NaN/zise: 0.04\n",
      "moyenne sans NaN: 0.1832816316588837\n"
     ]
    }
   ],
   "source": [
    "A = np.random.randn(5, 5)\n",
    "A[0, 2] = np.nan # insere un NaN dans la matrice A\n",
    " \n",
    "print('ratio NaN/zise:', (np.isnan(A).sum()/A.size)) # calcule la proportion de NaN dans A\n",
    " \n",
    "print('moyenne sans NaN:', np.nanmean(A)) # calcule la moyenne de A en ignorant les NaN"
   ]
  },
  {
   "cell_type": "markdown",
   "metadata": {
    "colab_type": "text",
    "id": "SqhHhU7E6PtE"
   },
   "source": [
    "## Algebre Linéaire"
   ]
  },
  {
   "cell_type": "code",
   "execution_count": 38,
   "metadata": {
    "colab": {
     "base_uri": "https://localhost:8080/",
     "height": 68
    },
    "colab_type": "code",
    "id": "NDl2nFYr2ZAb",
    "outputId": "3ef70159-d729-4a17-b551-faabfeadd73d"
   },
   "outputs": [
    {
     "name": "stdout",
     "output_type": "stream",
     "text": [
      "[[1. 1.]\n",
      " [1. 1.]\n",
      " [1. 1.]]\n"
     ]
    }
   ],
   "source": [
    "A = np.ones((2,3))\n",
    "B = np.ones((3,3))\n",
    "\n",
    "print(A.T) # transposé de la matrice A (c'est un attribut de ndarray)"
   ]
  },
  {
   "cell_type": "code",
   "execution_count": 39,
   "metadata": {
    "colab": {
     "base_uri": "https://localhost:8080/",
     "height": 51
    },
    "colab_type": "code",
    "id": "mRiT3DCd6HGR",
    "outputId": "eac920ee-2bb9-4d35-f2f7-7344bdee52c1"
   },
   "outputs": [
    {
     "name": "stdout",
     "output_type": "stream",
     "text": [
      "[[3. 3. 3.]\n",
      " [3. 3. 3.]]\n"
     ]
    }
   ],
   "source": [
    "print(A.dot(B)) # produit matriciel A.B"
   ]
  },
  {
   "cell_type": "code",
   "execution_count": 45,
   "metadata": {
    "colab": {
     "base_uri": "https://localhost:8080/",
     "height": 102
    },
    "colab_type": "code",
    "id": "qGIj8xxX7GwO",
    "outputId": "a15c309c-5525-4e18-887c-68d6d2613d50"
   },
   "outputs": [
    {
     "name": "stdout",
     "output_type": "stream",
     "text": [
      "det= 61.00000000000001\n",
      "inv A:\n",
      " [[ 0.08196721  0.63934426 -0.60655738]\n",
      " [-0.13114754 -0.62295082  0.7704918 ]\n",
      " [ 0.21311475  0.26229508 -0.37704918]]\n"
     ]
    }
   ],
   "source": [
    "A = np.random.randint(0, 10, [3, 3])\n",
    " \n",
    "print('det=', np.linalg.det(A)) # calcule le determinant de A\n",
    "print('inv A:\\n', np.linalg.inv(A)) # calcul l'inverse de A"
   ]
  },
  {
   "cell_type": "code",
   "execution_count": 44,
   "metadata": {
    "colab": {
     "base_uri": "https://localhost:8080/",
     "height": 119
    },
    "colab_type": "code",
    "id": "d5EXW7GU7KbI",
    "outputId": "57c52695-99ee-42cc-af95-0bb144d0c798"
   },
   "outputs": [
    {
     "name": "stdout",
     "output_type": "stream",
     "text": [
      "valeur propre:\n",
      " [ 8.91371956 -0.86320273  1.94948316]\n",
      "vecteur propre:\n",
      " [[-0.27183844 -0.6838339   0.39494311]\n",
      " [-0.4097407  -0.15279739 -0.73291062]\n",
      " [-0.87075623  0.71345929  0.55395123]]\n"
     ]
    }
   ],
   "source": [
    "val, vec = np.linalg.eig(A)\n",
    "print('valeur propre:\\n', val) # valeur propre\n",
    "print('vecteur propre:\\n', vec) # vecteur propre"
   ]
  },
  {
   "cell_type": "markdown",
   "metadata": {},
   "source": [
    "## Fonctions mathématiques"
   ]
  },
  {
   "cell_type": "code",
   "execution_count": 13,
   "metadata": {},
   "outputs": [
    {
     "name": "stdout",
     "output_type": "stream",
     "text": [
      "[2.71828183e+00 7.38905610e+00 2.00855369e+01 5.45981500e+01\n",
      " 1.48413159e+02 4.03428793e+02 1.09663316e+03 2.98095799e+03\n",
      " 8.10308393e+03 2.20264658e+04]\n",
      "[0.         0.69314718 1.09861229 1.38629436 1.60943791 1.79175947\n",
      " 1.94591015 2.07944154 2.19722458 2.30258509]\n",
      "[ 0.54030231 -0.41614684 -0.9899925  -0.65364362  0.28366219  0.96017029\n",
      "  0.75390225 -0.14550003 -0.91113026 -0.83907153]\n",
      "[ 0.84147098  0.90929743  0.14112001 -0.7568025  -0.95892427 -0.2794155\n",
      "  0.6569866   0.98935825  0.41211849 -0.54402111]\n"
     ]
    }
   ],
   "source": [
    "A = np.linspace(1,10,10)\n",
    "print(np.exp(A)) # calclule l'exponontielle pour tous les element d'un tableau\n",
    "print(np.log(A)) # calclule le logaritheme pour tous les element d'un tableau\n",
    "print(np.cos(A)) # calclule le cosinus pour tous les element d'un tableau\n",
    "print(np.sin(A)) # calclule le sinus pour tous les element d'un tableau"
   ]
  },
  {
   "cell_type": "markdown",
   "metadata": {
    "colab_type": "text",
    "id": "hROrpjBp7W5J"
   },
   "source": [
    "## Exercice \n",
    "\n",
    "Standardisez la matrice suivante, c'est a dire effectuez le calcul suivant :\n",
    "$A = \\frac{A - mean(A_{colonne})}{std(A_{colonne})}$"
   ]
  },
  {
   "cell_type": "code",
   "execution_count": 30,
   "metadata": {
    "colab": {
     "base_uri": "https://localhost:8080/",
     "height": 187
    },
    "colab_type": "code",
    "id": "qPkMTrvq7LE_",
    "outputId": "4ad8c37d-1696-4bc1-c02d-1df97177c62a"
   },
   "outputs": [
    {
     "data": {
      "text/plain": [
       "array([[44, 47, 64, 67, 67],\n",
       "       [ 9, 83, 21, 36, 87],\n",
       "       [70, 88, 88, 12, 58],\n",
       "       [65, 39, 87, 46, 88],\n",
       "       [81, 37, 25, 77, 72],\n",
       "       [ 9, 20, 80, 69, 79],\n",
       "       [47, 64, 82, 99, 88],\n",
       "       [49, 29, 19, 19, 14],\n",
       "       [39, 32, 65,  9, 57],\n",
       "       [32, 31, 74, 23, 35]])"
      ]
     },
     "execution_count": 30,
     "metadata": {},
     "output_type": "execute_result"
    }
   ],
   "source": [
    "np.random.seed(0)\n",
    "A = np.random.randint(0, 100, [10, 5])\n",
    "A"
   ]
  },
  {
   "cell_type": "code",
   "execution_count": 35,
   "metadata": {},
   "outputs": [],
   "source": [
    "#solution ici"
   ]
  },
  {
   "cell_type": "code",
   "execution_count": 33,
   "metadata": {
    "colab": {
     "base_uri": "https://localhost:8080/",
     "height": 68
    },
    "colab_type": "code",
    "id": "tHPZsh-V8TcK",
    "outputId": "8e087346-6e31-43f9-f356-66a3ce45ffc7"
   },
   "outputs": [
    {
     "name": "stdout",
     "output_type": "stream",
     "text": [
      "[-2.22044605e-17 -4.44089210e-17  0.00000000e+00 -1.22124533e-16\n",
      " -4.44089210e-17]\n",
      "[1. 1. 1. 1. 1.]\n"
     ]
    }
   ],
   "source": [
    "print(D.mean(axis=0)) # les moyennes sont toutes = 0\n",
    "print(D.std(axis=0)) # les std sont tous = 1 "
   ]
  }
 ],
 "metadata": {
  "colab": {
   "authorship_tag": "ABX9TyO14Rb0gg3PL1KQURiAHPap",
   "collapsed_sections": [],
   "include_colab_link": true,
   "name": "Untitled9.ipynb",
   "provenance": []
  },
  "kernelspec": {
   "display_name": "Python 3",
   "language": "python",
   "name": "python3"
  },
  "language_info": {
   "codemirror_mode": {
    "name": "ipython",
    "version": 3
   },
   "file_extension": ".py",
   "mimetype": "text/x-python",
   "name": "python",
   "nbconvert_exporter": "python",
   "pygments_lexer": "ipython3",
   "version": "3.8.5"
  }
 },
 "nbformat": 4,
 "nbformat_minor": 1
}
