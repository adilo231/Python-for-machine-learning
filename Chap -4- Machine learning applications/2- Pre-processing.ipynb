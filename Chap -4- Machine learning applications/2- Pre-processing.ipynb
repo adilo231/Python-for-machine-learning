{
 "cells": [
  {
   "attachments": {},
   "cell_type": "markdown",
   "metadata": {
    "colab_type": "text",
    "id": "view-in-github"
   },
   "source": [
    "<a \n",
    "href=\"https://colab.research.google.com/github/adilo231/Python-for-machine-learning/blob/main/Chap -4- Machine learning applications/2- Pre-processing.ipynb\" \n",
    "target=\"_parent\"><img src=\"https://colab.research.google.com/assets/colab-badge.svg\" alt=\"Open In Colab\"/></a>"
   ]
  },
  {
   "cell_type": "markdown",
   "metadata": {
    "colab_type": "text",
    "id": "nyias9X7k_Rj"
   },
   "source": [
    "# Pre-processing\n"
   ]
  },
  {
   "cell_type": "markdown",
   "metadata": {
    "colab_type": "text",
    "id": "9tPP2Aevle21"
   },
   "source": [
    "## Encodage"
   ]
  },
  {
   "cell_type": "markdown",
   "metadata": {
    "colab_type": "text",
    "id": "-WR_kZRCnVjC"
   },
   "source": [
    "### Encodage LabelEncoder, MultiLabelBinarizer et LabelBinarizer"
   ]
  },
  {
   "cell_type": "code",
   "execution_count": 19,
   "metadata": {
    "colab": {},
    "colab_type": "code",
    "id": "eFsM1ZAWkdIu"
   },
   "outputs": [],
   "source": [
    "import numpy as np\n",
    "import matplotlib.pyplot as plt\n",
    "from sklearn.preprocessing import LabelEncoder, LabelBinarizer,MultiLabelBinarizer, OrdinalEncoder, OneHotEncoder"
   ]
  },
  {
   "cell_type": "code",
   "execution_count": 83,
   "metadata": {
    "colab": {
     "base_uri": "https://localhost:8080/",
     "height": 34
    },
    "colab_type": "code",
    "id": "SjxLoV7Bll8h",
    "outputId": "67529cf8-830b-4508-ed80-dbe18fb2e662"
   },
   "outputs": [
    {
     "name": "stdout",
     "output_type": "stream",
     "text": [
      "[0 1 0 3 2 1 0]\n",
      "['chat' 'chat' 'lion' 'oiseau' 'oiseau' 'oiseau' 'chat' 'chien' 'lion']\n"
     ]
    }
   ],
   "source": [
    "y = np.array(['chat', 'chien', 'chat', 'oiseau','lion','chien','chat'])\n",
    "\n",
    "encoder = LabelEncoder()\n",
    "print(encoder.fit_transform(y))\n",
    "print(encoder.inverse_transform(np.array([0, 0, 2,3,3,3,0,1,2])))"
   ]
  },
  {
   "cell_type": "code",
   "execution_count": 16,
   "metadata": {
    "colab": {
     "base_uri": "https://localhost:8080/",
     "height": 85
    },
    "colab_type": "code",
    "id": "5--7T3R6nOem",
    "outputId": "45c0f84b-e6a3-4fed-816e-86ea8efcb13a"
   },
   "outputs": [
    {
     "data": {
      "text/plain": [
       "array([[1, 0, 0, 0],\n",
       "       [0, 1, 0, 0],\n",
       "       [1, 0, 0, 0],\n",
       "       [0, 0, 0, 1],\n",
       "       [0, 0, 1, 0],\n",
       "       [0, 1, 0, 0],\n",
       "       [1, 0, 0, 0]])"
      ]
     },
     "execution_count": 16,
     "metadata": {},
     "output_type": "execute_result"
    }
   ],
   "source": [
    "encoder = LabelBinarizer()\n",
    "encoder.fit_transform(y)"
   ]
  },
  {
   "cell_type": "code",
   "execution_count": 20,
   "metadata": {},
   "outputs": [
    {
     "data": {
      "text/plain": [
       "array([[1, 0, 0, 0, 0, 0, 1, 0],\n",
       "       [0, 0, 0, 1, 0, 0, 1, 0],\n",
       "       [0, 1, 0, 0, 0, 0, 1, 0],\n",
       "       [0, 0, 1, 0, 0, 0, 0, 1],\n",
       "       [1, 0, 0, 0, 0, 0, 1, 0],\n",
       "       [0, 0, 0, 0, 1, 1, 0, 0]])"
      ]
     },
     "execution_count": 20,
     "metadata": {},
     "output_type": "execute_result"
    }
   ],
   "source": [
    "y = np.array([['chat', 'poils'],\n",
    "              ['lion', 'poils'],\n",
    "              ['chien', 'poils'],\n",
    "              ['vache', 'cuire'],\n",
    "              ['chat', 'poils'],\n",
    "              ['oiseau', 'plumes']])\n",
    "encoder = MultiLabelBinarizer()\n",
    "encoder.fit_transform(y)"
   ]
  },
  {
   "cell_type": "markdown",
   "metadata": {
    "colab_type": "text",
    "id": "2Yy4VrRpnc9y"
   },
   "source": [
    "### Encodage Ordinal et Encodage OneHot"
   ]
  },
  {
   "cell_type": "code",
   "execution_count": 6,
   "metadata": {
    "colab": {
     "base_uri": "https://localhost:8080/",
     "height": 85
    },
    "colab_type": "code",
    "id": "hzhb6bmemf6m",
    "outputId": "8a0232c8-17ed-4f7a-cf68-27142c666253"
   },
   "outputs": [
    {
     "data": {
      "text/plain": [
       "array([[0., 2.],\n",
       "       [2., 2.],\n",
       "       [1., 2.],\n",
       "       [4., 0.],\n",
       "       [0., 2.],\n",
       "       [3., 1.]])"
      ]
     },
     "execution_count": 6,
     "metadata": {},
     "output_type": "execute_result"
    }
   ],
   "source": [
    "X = np.array([['chat', 'poils'],\n",
    "              ['lion', 'poils'],\n",
    "              ['chien', 'poils'],\n",
    "              ['vache', 'cuire'],\n",
    "              ['chat', 'poils'],\n",
    "              ['oiseau', 'plumes']])\n",
    "\n",
    "encoder = OrdinalEncoder()\n",
    "encoder.fit_transform(X)"
   ]
  },
  {
   "cell_type": "code",
   "execution_count": 8,
   "metadata": {
    "colab": {
     "base_uri": "https://localhost:8080/",
     "height": 85
    },
    "colab_type": "code",
    "id": "DN76sqsjm97-",
    "outputId": "0f915809-779a-4fbb-878b-5ad1077d8e05"
   },
   "outputs": [
    {
     "data": {
      "text/plain": [
       "<6x8 sparse matrix of type '<class 'numpy.float64'>'\n",
       "\twith 12 stored elements in Compressed Sparse Row format>"
      ]
     },
     "execution_count": 8,
     "metadata": {},
     "output_type": "execute_result"
    }
   ],
   "source": [
    "encoder = OneHotEncoder(sparse=True)\n",
    "encoder.fit_transform(X)"
   ]
  },
  {
   "cell_type": "markdown",
   "metadata": {
    "colab_type": "text",
    "id": "ADFisPk-ntrs"
   },
   "source": [
    "## Normalisation"
   ]
  },
  {
   "cell_type": "code",
   "execution_count": 22,
   "metadata": {
    "colab": {},
    "colab_type": "code",
    "id": "hDJ463bmoD82"
   },
   "outputs": [],
   "source": [
    "from sklearn.preprocessing import MinMaxScaler, StandardScaler, RobustScaler"
   ]
  },
  {
   "cell_type": "code",
   "execution_count": 35,
   "metadata": {
    "colab": {},
    "colab_type": "code",
    "id": "Wxie-osLoJ-X"
   },
   "outputs": [],
   "source": [
    "from sklearn.datasets import load_iris\n",
    "iris = load_iris()\n",
    "X = iris.data"
   ]
  },
  {
   "cell_type": "markdown",
   "metadata": {
    "colab_type": "text",
    "id": "MDkieTz-n3_7"
   },
   "source": [
    "### MinMaxScaler"
   ]
  },
  {
   "cell_type": "code",
   "execution_count": 38,
   "metadata": {
    "colab": {
     "base_uri": "https://localhost:8080/",
     "height": 282
    },
    "colab_type": "code",
    "id": "317BoWeonpq1",
    "outputId": "a02bfef3-e793-4211-8d1e-5606e0123559"
   },
   "outputs": [
    {
     "data": {
      "text/plain": [
       "[<matplotlib.lines.Line2D at 0x7f7ba491d040>]"
      ]
     },
     "execution_count": 38,
     "metadata": {},
     "output_type": "execute_result"
    },
    {
     "data": {
      "image/png": "[encoded data removed]",
      "text/plain": [
       "<Figure size 432x288 with 1 Axes>"
      ]
     },
     "metadata": {
      "needs_background": "light"
     },
     "output_type": "display_data"
    }
   ],
   "source": [
    "X_minmax = MinMaxScaler().fit_transform(X)\n",
    "\n",
    "plt.scatter(X[:, 2], X[:, 3],alpha=0.5)\n",
    "plt.scatter(X_minmax[:, 2], X_minmax[:, 3],alpha=0.5)\n",
    "plt.plot(np.array([0,1]),np.array([1,1]),c='r')\n",
    "plt.plot(np.array([0,1]),np.array([0,0]),c='r')"
   ]
  },
  {
   "cell_type": "markdown",
   "metadata": {
    "colab_type": "text",
    "id": "8UfqRHAIn7JK"
   },
   "source": [
    "### StandardScaler"
   ]
  },
  {
   "cell_type": "code",
   "execution_count": 39,
   "metadata": {
    "colab": {
     "base_uri": "https://localhost:8080/",
     "height": 282
    },
    "colab_type": "code",
    "id": "fL67YVJon8j7",
    "outputId": "2e131d3c-a925-4924-b741-b9a841518c57"
   },
   "outputs": [
    {
     "data": {
      "text/plain": [
       "<matplotlib.collections.PathCollection at 0x7f7ba4a06190>"
      ]
     },
     "execution_count": 39,
     "metadata": {},
     "output_type": "execute_result"
    },
    {
     "data": {
      "image/png": "[encoded data removed]",
      "text/plain": [
       "<Figure size 432x288 with 1 Axes>"
      ]
     },
     "metadata": {
      "needs_background": "light"
     },
     "output_type": "display_data"
    }
   ],
   "source": [
    "X_stdscl = StandardScaler().fit_transform(X)\n",
    "\n",
    "plt.scatter(X[:, 2], X[:, 3],alpha=0.5)\n",
    "plt.scatter(X_stdscl[:, 2], X_stdscl[:, 3],alpha=0.5)"
   ]
  },
  {
   "cell_type": "code",
   "execution_count": 31,
   "metadata": {},
   "outputs": [
    {
     "data": {
      "text/plain": [
       "<matplotlib.legend.Legend at 0x7f7ba3d594f0>"
      ]
     },
     "execution_count": 31,
     "metadata": {},
     "output_type": "execute_result"
    },
    {
     "data": {
      "image/png": "[encoded data removed]",
      "text/plain": [
       "<Figure size 432x288 with 1 Axes>"
      ]
     },
     "metadata": {
      "needs_background": "light"
     },
     "output_type": "display_data"
    }
   ],
   "source": [
    "plt.scatter(X[:, 2], X[:, 3],alpha=0.5,label ='data')\n",
    "plt.scatter(X_minmax[:, 2], X_minmax[:, 3],alpha=0.5,label='Minmax')\n",
    "plt.scatter(X_stdscl[:, 2], X_stdscl[:, 3],alpha=0.5,label='scaler')\n",
    "plt.legend()"
   ]
  },
  {
   "cell_type": "code",
   "execution_count": 45,
   "metadata": {},
   "outputs": [
    {
     "data": {
      "text/plain": [
       "<matplotlib.legend.Legend at 0x7f7ba3e955b0>"
      ]
     },
     "execution_count": 45,
     "metadata": {},
     "output_type": "execute_result"
    },
    {
     "data": {
      "image/png": "[encoded data removed]",
      "text/plain": [
       "<Figure size 720x720 with 1 Axes>"
      ]
     },
     "metadata": {
      "needs_background": "light"
     },
     "output_type": "display_data"
    }
   ],
   "source": [
    "outliers = np.full((10,4),100)+ np.random.randn(10,4)\n",
    "x = np.vstack((X,outliers))\n",
    "X_minmax = MinMaxScaler().fit_transform(x)\n",
    "X_stdscl = StandardScaler().fit_transform(x)\n",
    "plt.figure(figsize=(10,10))\n",
    "\n",
    "plt.scatter(X_minmax[:, 2], X_minmax[:, 3],alpha=0.5,label='Minmax')\n",
    "plt.scatter(X_stdscl[:, 2], X_stdscl[:, 3],alpha=0.5,label='scaler')\n",
    "plt.legend()"
   ]
  },
  {
   "cell_type": "markdown",
   "metadata": {
    "colab_type": "text",
    "id": "17Nu3Bzjn-OG"
   },
   "source": [
    "### RobustScaler"
   ]
  },
  {
   "cell_type": "code",
   "execution_count": 44,
   "metadata": {
    "colab": {
     "base_uri": "https://localhost:8080/",
     "height": 282
    },
    "colab_type": "code",
    "id": "nNsA3137n_Un",
    "outputId": "22c02acc-3ec0-429e-b55d-215583c88c50"
   },
   "outputs": [
    {
     "data": {
      "text/plain": [
       "<matplotlib.collections.PathCollection at 0x7f7ba51134f0>"
      ]
     },
     "execution_count": 44,
     "metadata": {},
     "output_type": "execute_result"
    },
    {
     "data": {
      "image/png": "[encoded data removed]",
      "text/plain": [
       "<Figure size 720x360 with 2 Axes>"
      ]
     },
     "metadata": {
      "needs_background": "light"
     },
     "output_type": "display_data"
    }
   ],
   "source": [
    "X_robust = RobustScaler().fit_transform(X)\n",
    "plt.figure(figsize=(10,5))\n",
    "plt.subplot(1,2,1)\n",
    "plt.scatter(X[:, 2], X[:, 3])\n",
    "plt.scatter(X_robust[:, 2], X_robust[:, 3])\n",
    "\n",
    "X_robust = RobustScaler().fit_transform(x)\n",
    "plt.subplot(1,2,2)\n",
    "plt.scatter(x[:, 2], x[:, 3])\n",
    "plt.scatter(X_robust[:, 2], X_robust[:, 3])"
   ]
  },
  {
   "cell_type": "markdown",
   "metadata": {
    "colab_type": "text",
    "id": "QytmUazKpIw7"
   },
   "source": [
    "# 3. Polynomial Features"
   ]
  },
  {
   "cell_type": "code",
   "execution_count": 46,
   "metadata": {
    "colab": {},
    "colab_type": "code",
    "id": "wP6CXqe7pDNo"
   },
   "outputs": [],
   "source": [
    "from sklearn.preprocessing import PolynomialFeatures\n",
    "from sklearn.linear_model import LinearRegression"
   ]
  },
  {
   "cell_type": "code",
   "execution_count": 56,
   "metadata": {
    "colab": {
     "base_uri": "https://localhost:8080/",
     "height": 282
    },
    "colab_type": "code",
    "id": "NkpGALhhpPAl",
    "outputId": "da3c317a-93c1-4a1d-ccfb-f935c64786ca"
   },
   "outputs": [
    {
     "data": {
      "text/plain": [
       "[<matplotlib.lines.Line2D at 0x7f7ba53745b0>]"
      ]
     },
     "execution_count": 56,
     "metadata": {},
     "output_type": "execute_result"
    },
    {
     "data": {
      "image/png": "[encoded data removed]",
      "text/plain": [
       "<Figure size 432x288 with 1 Axes>"
      ]
     },
     "metadata": {
      "needs_background": "light"
     },
     "output_type": "display_data"
    }
   ],
   "source": [
    "m = 500\n",
    "X = np.linspace(0, 10, m).reshape((m, 1))\n",
    "y = X**2+ X + 5*np.cos(2*X) + np.random.randn(m, 1)\n",
    "\n",
    "model = LinearRegression().fit(X, y)\n",
    "y_pred = model.predict(X)\n",
    "\n",
    "plt.scatter(X, y)\n",
    "plt.plot(X, y_pred, c='r', lw=3)"
   ]
  },
  {
   "cell_type": "code",
   "execution_count": 62,
   "metadata": {
    "colab": {
     "base_uri": "https://localhost:8080/",
     "height": 282
    },
    "colab_type": "code",
    "id": "TGgE9o13p2qc",
    "outputId": "4181041e-7e01-4a9e-fd6e-e2b894fd96e0"
   },
   "outputs": [
    {
     "data": {
      "image/png": "[encoded data removed]",
      "text/plain": [
       "<Figure size 1440x360 with 5 Axes>"
      ]
     },
     "metadata": {
      "needs_background": "light"
     },
     "output_type": "display_data"
    }
   ],
   "source": [
    "step = 2\n",
    "plt.figure(figsize=(20,5))\n",
    "for i in range(0,5):\n",
    "    X_poly = PolynomialFeatures(step).fit_transform(X)\n",
    "    model = LinearRegression().fit(X_poly, y)\n",
    "    y_pred = model.predict(X_poly)\n",
    "    plt.subplot(1,5,i+1)\n",
    "    plt.scatter(X, y)\n",
    "    plt.plot(X, y_pred, c='r', lw=3,label=f'Nmrf={step}')\n",
    "    step+=2\n",
    "    plt.legend()"
   ]
  },
  {
   "cell_type": "markdown",
   "metadata": {
    "colab_type": "text",
    "id": "6Gby2B53qIyM"
   },
   "source": [
    "## Discretisation"
   ]
  },
  {
   "cell_type": "code",
   "execution_count": 63,
   "metadata": {
    "colab": {},
    "colab_type": "code",
    "id": "VphiFHiDp_3P"
   },
   "outputs": [],
   "source": [
    "from sklearn.preprocessing import Binarizer, KBinsDiscretizer"
   ]
  },
  {
   "cell_type": "code",
   "execution_count": 65,
   "metadata": {
    "colab": {},
    "colab_type": "code",
    "id": "D7ys9gBkqWJg"
   },
   "outputs": [
    {
     "data": {
      "text/plain": [
       "array([[0.        ],\n",
       "       [0.55555556],\n",
       "       [1.11111111],\n",
       "       [1.66666667],\n",
       "       [2.22222222],\n",
       "       [2.77777778],\n",
       "       [3.33333333],\n",
       "       [3.88888889],\n",
       "       [4.44444444],\n",
       "       [5.        ]])"
      ]
     },
     "execution_count": 65,
     "metadata": {},
     "output_type": "execute_result"
    }
   ],
   "source": [
    "X = np.linspace(0, 5, 10).reshape((10, 1))\n",
    "X"
   ]
  },
  {
   "cell_type": "code",
   "execution_count": 67,
   "metadata": {
    "colab": {
     "base_uri": "https://localhost:8080/",
     "height": 187
    },
    "colab_type": "code",
    "id": "dO8OgPA6qaOv",
    "outputId": "a2772f99-a635-4a30-ae3f-ffb2a3a2dc95"
   },
   "outputs": [
    {
     "data": {
      "text/plain": [
       "array([[0.        , 0.        ],\n",
       "       [0.55555556, 0.        ],\n",
       "       [1.11111111, 0.        ],\n",
       "       [1.66666667, 0.        ],\n",
       "       [2.22222222, 0.        ],\n",
       "       [2.77777778, 0.        ],\n",
       "       [3.33333333, 1.        ],\n",
       "       [3.88888889, 1.        ],\n",
       "       [4.44444444, 1.        ],\n",
       "       [5.        , 1.        ]])"
      ]
     },
     "execution_count": 67,
     "metadata": {},
     "output_type": "execute_result"
    }
   ],
   "source": [
    "np.hstack((X, Binarizer(threshold=3).fit_transform(X)))"
   ]
  },
  {
   "cell_type": "code",
   "execution_count": 68,
   "metadata": {
    "colab": {
     "base_uri": "https://localhost:8080/",
     "height": 187
    },
    "colab_type": "code",
    "id": "e7sIGJizqihx",
    "outputId": "ae461672-e4b8-4393-e865-aef7f48bcf4b"
   },
   "outputs": [
    {
     "data": {
      "text/plain": [
       "array([[1., 0., 0., 0., 0., 0.],\n",
       "       [1., 0., 0., 0., 0., 0.],\n",
       "       [0., 1., 0., 0., 0., 0.],\n",
       "       [0., 0., 1., 0., 0., 0.],\n",
       "       [0., 0., 1., 0., 0., 0.],\n",
       "       [0., 0., 0., 1., 0., 0.],\n",
       "       [0., 0., 0., 0., 1., 0.],\n",
       "       [0., 0., 0., 0., 1., 0.],\n",
       "       [0., 0., 0., 0., 0., 1.],\n",
       "       [0., 0., 0., 0., 0., 1.]])"
      ]
     },
     "execution_count": 68,
     "metadata": {},
     "output_type": "execute_result"
    }
   ],
   "source": [
    "KBinsDiscretizer(n_bins=6).fit_transform(X).toarray()"
   ]
  },
  {
   "cell_type": "markdown",
   "metadata": {
    "colab_type": "text",
    "id": "La28QirlqxVt"
   },
   "source": [
    "# Pipelines"
   ]
  },
  {
   "cell_type": "code",
   "execution_count": 69,
   "metadata": {
    "colab": {},
    "colab_type": "code",
    "id": "Bf6Av8duqs-j"
   },
   "outputs": [],
   "source": [
    "from sklearn.pipeline import make_pipeline\n",
    "from sklearn.linear_model import SGDClassifier\n",
    "from sklearn.model_selection import train_test_split\n",
    "from sklearn.preprocessing import  StandardScaler\n",
    "from sklearn.datasets import load_iris"
   ]
  },
  {
   "cell_type": "code",
   "execution_count": 70,
   "metadata": {
    "colab": {},
    "colab_type": "code",
    "id": "IXQpcLpeq7Vk"
   },
   "outputs": [],
   "source": [
    "\n",
    "iris = load_iris()\n",
    "\n",
    "X = iris.data\n",
    "y = iris.target\n",
    "\n",
    "X_train, X_test, y_train, y_test = train_test_split(X, y, random_state=0)"
   ]
  },
  {
   "cell_type": "code",
   "execution_count": 71,
   "metadata": {},
   "outputs": [
    {
     "name": "stdout",
     "output_type": "stream",
     "text": [
      "0.9736842105263158\n"
     ]
    }
   ],
   "source": [
    "# Traditional pipline\n",
    "\n",
    "#transformer\n",
    "scaler = StandardScaler()\n",
    "X_train_transformed = scaler.fit_transform(X_train)\n",
    "\n",
    "#Estimator\n",
    "\n",
    "model = SGDClassifier(random_state=0)\n",
    "model.fit(X_train_transformed,y_train)\n",
    "\n",
    "# test\n",
    "\n",
    "X_test_transformed = scaler.transform(X_test)\n",
    "print(model.score(X_test_transformed,y_test))"
   ]
  },
  {
   "cell_type": "markdown",
   "metadata": {},
   "source": [
    "## Cree une pipline"
   ]
  },
  {
   "cell_type": "code",
   "execution_count": 73,
   "metadata": {
    "colab": {
     "base_uri": "https://localhost:8080/",
     "height": 34
    },
    "colab_type": "code",
    "id": "noj33VRjrGsb",
    "outputId": "a8ffa10d-0ca0-4516-8e8b-ebf21f39861a"
   },
   "outputs": [
    {
     "data": {
      "text/plain": [
       "0.9736842105263158"
      ]
     },
     "execution_count": 73,
     "metadata": {},
     "output_type": "execute_result"
    }
   ],
   "source": [
    "model = make_pipeline(StandardScaler(), SGDClassifier(random_state=0))\n",
    "\n",
    "model.fit(X_train, y_train)\n",
    "model.score(X_test, y_test)"
   ]
  },
  {
   "cell_type": "code",
   "execution_count": 75,
   "metadata": {
    "colab": {},
    "colab_type": "code",
    "id": "-9PTLfrErSGi"
   },
   "outputs": [],
   "source": [
    "from sklearn.model_selection import GridSearchCV"
   ]
  },
  {
   "cell_type": "code",
   "execution_count": 76,
   "metadata": {
    "colab": {
     "base_uri": "https://localhost:8080/",
     "height": 544
    },
    "colab_type": "code",
    "id": "mV6T5z2yrXgb",
    "outputId": "6c49e6ed-ca64-4029-acc2-7b9c8bdda8ac"
   },
   "outputs": [
    {
     "data": {
      "text/plain": [
       "GridSearchCV(cv=4,\n",
       "             estimator=Pipeline(steps=[('polynomialfeatures',\n",
       "                                        PolynomialFeatures()),\n",
       "                                       ('standardscaler', StandardScaler()),\n",
       "                                       ('sgdclassifier',\n",
       "                                        SGDClassifier(random_state=0))]),\n",
       "             param_grid={'polynomialfeatures__degree': [2, 3, 4],\n",
       "                         'sgdclassifier__penalty': ['l1', 'l2']})"
      ]
     },
     "execution_count": 76,
     "metadata": {},
     "output_type": "execute_result"
    }
   ],
   "source": [
    "model = make_pipeline(PolynomialFeatures(),\n",
    "                      StandardScaler(),\n",
    "                      SGDClassifier(random_state=0))\n",
    "params = {\n",
    "    'polynomialfeatures__degree':[2, 3, 4],\n",
    "    'sgdclassifier__penalty':['l1', 'l2']\n",
    "}\n",
    "\n",
    "grid = GridSearchCV(model, param_grid=params, cv=4)\n",
    "\n",
    "grid.fit(X_train, y_train)"
   ]
  },
  {
   "cell_type": "code",
   "execution_count": 77,
   "metadata": {
    "colab": {
     "base_uri": "https://localhost:8080/",
     "height": 34
    },
    "colab_type": "code",
    "id": "Qq7EXPgYrehc",
    "outputId": "347c37dd-7703-41dc-a96b-d6687fade71c"
   },
   "outputs": [
    {
     "data": {
      "text/plain": [
       "0.9736842105263158"
      ]
     },
     "execution_count": 77,
     "metadata": {},
     "output_type": "execute_result"
    }
   ],
   "source": [
    "grid.score(X_test, y_test)"
   ]
  },
  {
   "cell_type": "code",
   "execution_count": 79,
   "metadata": {
    "colab": {},
    "colab_type": "code",
    "id": "awOAwg33r11r"
   },
   "outputs": [
    {
     "name": "stdout",
     "output_type": "stream",
     "text": [
      "0.8421052631578947\n"
     ]
    }
   ],
   "source": [
    "model = SGDClassifier(random_state=0)\n",
    "model.fit(X_train,y_train)\n",
    "print(model.score(X_test,y_test))"
   ]
  },
  {
   "cell_type": "markdown",
   "metadata": {},
   "source": [
    "## Exercise\n",
    "### Exercice 1\n",
    "En utilisant le dernier exemple, essayez les différents transformateurs de données de normalisation pour trouver le pipeline le plus précis"
   ]
  },
  {
   "cell_type": "code",
   "execution_count": 84,
   "metadata": {},
   "outputs": [
    {
     "name": "stdout",
     "output_type": "stream",
     "text": [
      "StandardScaler: 0.9736842105263158\n",
      "MinMaxScaler: 0.9210526315789473\n",
      "RobustScaler: 0.9736842105263158\n"
     ]
    }
   ],
   "source": [
    "\n",
    "modelSS = make_pipeline(PolynomialFeatures(),\n",
    "                      StandardScaler(),\n",
    "                      SGDClassifier(random_state=0))\n",
    "\n",
    "params = {\n",
    "    'polynomialfeatures__degree':[2, 3, 4],\n",
    "    'sgdclassifier__penalty':['l1', 'l2']\n",
    "}\n",
    "grid = GridSearchCV(modelSS, param_grid=params, cv=4)\n",
    "grid.fit(X_train, y_train)\n",
    "print('StandardScaler:', grid.score(X_test, y_test))\n",
    "\n",
    "\n",
    "modelMM = make_pipeline(MinMaxScaler(),\n",
    "                      SGDClassifier(random_state=0))\n",
    "params = {\n",
    "       'sgdclassifier__penalty':['l1', 'l2']\n",
    "}\n",
    "grid = GridSearchCV(modelMM, param_grid=params, cv=4)\n",
    "grid.fit(X_train, y_train)\n",
    "print('MinMaxScaler:', grid.score(X_test, y_test))\n",
    "\n",
    "\n",
    "modelRS = make_pipeline(RobustScaler(),\n",
    "                      SGDClassifier(random_state=0))\n",
    "params = {\n",
    "       'sgdclassifier__penalty':['l1', 'l2']\n",
    "}\n",
    "grid = GridSearchCV(modelRS, param_grid=params, cv=4)\n",
    "grid.fit(X_train, y_train)\n",
    "print('RobustScaler:', grid.score(X_test, y_test))"
   ]
  },
  {
   "cell_type": "markdown",
   "metadata": {},
   "source": [
    "### Exercice 2\n",
    "\n",
    "Appliquez les différentes techniques apprises dans cette partie pour construire un pipeline sur le jeu de données du Titanic. essayez de trouver le meilleur transformateur de données avec un classificateur qui vous donne les meilleurs résultats."
   ]
  },
  {
   "cell_type": "code",
   "execution_count": 179,
   "metadata": {},
   "outputs": [],
   "source": [
    "import seaborn as sns\n",
    "titanic = sns.load_dataset('titanic')\n",
    "#titanic = titanic[['survived', 'pclass', 'sex', 'age']]\n",
    "titanic.dropna(axis=0, inplace=True)\n",
    "titanic.head()\n",
    "#titanic['sex'].replace(['male', 'female'], [0, 1], inplace=True)\n",
    "y= titanic['survived']\n",
    "X= titanic.drop('survived',axis=1)"
   ]
  },
  {
   "cell_type": "code",
   "execution_count": 180,
   "metadata": {},
   "outputs": [],
   "source": [
    "encoder = OrdinalEncoder()\n",
    "X=encoder.fit_transform(X)"
   ]
  },
  {
   "cell_type": "code",
   "execution_count": 181,
   "metadata": {},
   "outputs": [
    {
     "name": "stdout",
     "output_type": "stream",
     "text": [
      "(136, 14) (46, 14) (136,) (46,)\n"
     ]
    }
   ],
   "source": [
    "X_train,X_test,y_train,y_test = train_test_split(X,y)\n",
    "print(X_train.shape,X_test.shape, y_train.shape, y_test.shape )"
   ]
  },
  {
   "cell_type": "code",
   "execution_count": 182,
   "metadata": {},
   "outputs": [
    {
     "name": "stdout",
     "output_type": "stream",
     "text": [
      "StandardScaler: 1.0\n",
      "MinMaxScaler: 1.0\n",
      "RobustScaler: 0.9782608695652174\n"
     ]
    }
   ],
   "source": [
    "\n",
    "modelSS = make_pipeline(PolynomialFeatures(),\n",
    "                      StandardScaler(),\n",
    "                      SGDClassifier(random_state=0))\n",
    "\n",
    "params = {\n",
    "    'polynomialfeatures__degree':[2, 3, 4],\n",
    "    'sgdclassifier__penalty':['l1', 'l2']\n",
    "}\n",
    "grid = GridSearchCV(modelSS, param_grid=params, cv=5)\n",
    "grid.fit(X_train, y_train)\n",
    "print('StandardScaler:', grid.score(X_test, y_test))\n",
    "\n",
    "\n",
    "modelMM = make_pipeline(MinMaxScaler(),\n",
    "                      SGDClassifier(random_state=0))\n",
    "params = {\n",
    "       'sgdclassifier__penalty':['l1', 'l2']\n",
    "}\n",
    "grid = GridSearchCV(modelMM, param_grid=params, cv=5)\n",
    "grid.fit(X_train, y_train)\n",
    "print('MinMaxScaler:', grid.score(X_test, y_test))\n",
    "\n",
    "\n",
    "modelRS = make_pipeline(RobustScaler(),\n",
    "                      SGDClassifier(random_state=0))\n",
    "params = {\n",
    "       'sgdclassifier__penalty':['l1', 'l2']\n",
    "}\n",
    "grid = GridSearchCV(modelRS, param_grid=params, cv=5)\n",
    "grid.fit(X_train, y_train)\n",
    "print('RobustScaler:', grid.score(X_test, y_test))"
   ]
  },
  {
   "cell_type": "code",
   "execution_count": 191,
   "metadata": {},
   "outputs": [
    {
     "name": "stdout",
     "output_type": "stream",
     "text": [
      "StandardScaler: 0.9347826086956522\n",
      "MinMaxScaler: 0.9565217391304348\n",
      "RobustScaler: 0.9347826086956522\n"
     ]
    }
   ],
   "source": [
    "from sklearn.neighbors import KNeighborsClassifier\n",
    "modelSS = make_pipeline(PolynomialFeatures(),\n",
    "                      StandardScaler(),\n",
    "                      KNeighborsClassifier())\n",
    "params = {\n",
    "    'polynomialfeatures__degree':[2, 3, 4],\n",
    "    'kneighborsclassifier__n_neighbors': np.arange(1, 20),\n",
    "    'kneighborsclassifier__metric': ['minkowski','euclidean', 'manhattan']\n",
    "}\n",
    "grid = GridSearchCV(modelSS, param_grid=params, cv=10)\n",
    "grid.fit(X_train, y_train)\n",
    "print('StandardScaler:', grid.score(X_test, y_test))\n",
    "\n",
    "modelMM = make_pipeline(MinMaxScaler(),\n",
    "                      KNeighborsClassifier())\n",
    "params = {\n",
    "       'kneighborsclassifier__n_neighbors': np.arange(1, 20),\n",
    "    'kneighborsclassifier__metric': ['minkowski','euclidean', 'manhattan']\n",
    "}\n",
    "grid = GridSearchCV(modelMM, param_grid=params, cv=10)\n",
    "grid.fit(X_train, y_train)\n",
    "print('MinMaxScaler:', grid.score(X_test, y_test))\n",
    "\n",
    "\n",
    "modelRS = make_pipeline(RobustScaler(),\n",
    "                      KNeighborsClassifier())\n",
    "params = {\n",
    "       'kneighborsclassifier__n_neighbors': np.arange(1, 20),\n",
    "    'kneighborsclassifier__metric': ['minkowski','euclidean', 'manhattan']\n",
    "}\n",
    "grid = GridSearchCV(modelRS, param_grid=params, cv=10)\n",
    "grid.fit(X_train, y_train)\n",
    "print('RobustScaler:', grid.score(X_test, y_test))\n",
    "\n"
   ]
  }
 ],
 "metadata": {
  "colab": {
   "authorship_tag": "ABX9TyOlOi/QHFRit1KCRCuq60Jp",
   "include_colab_link": true,
   "name": "Untitled18.ipynb",
   "provenance": []
  },
  "interpreter": {
   "hash": "7b34b089ce0dfc9935940e0a22050b2949fa617f7a2b73925623c261bed16aeb"
  },
  "kernelspec": {
   "display_name": "Python 3",
   "language": "python",
   "name": "python3"
  },
  "language_info": {
   "codemirror_mode": {
    "name": "ipython",
    "version": 3
   },
   "file_extension": ".py",
   "mimetype": "text/x-python",
   "name": "python",
   "nbconvert_exporter": "python",
   "pygments_lexer": "ipython3",
   "version": "3.8.5 (default, Sep  4 2020, 02:22:02) \n[Clang 10.0.0 ]"
  }
 },
 "nbformat": 4,
 "nbformat_minor": 1
}
