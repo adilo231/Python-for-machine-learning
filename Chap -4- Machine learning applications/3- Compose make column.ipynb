{
 "cells": [
  {
   "attachments": {},
   "cell_type": "markdown",
   "metadata": {},
   "source": [
    "<a \n",
    "href=\"https://colab.research.google.com/github/adilo231/Python-for-machine-learning/blob/main/Chap -4- Machine learning applications/3- Compose make column.ipynb\" \n",
    "target=\"_parent\"><img src=\"https://colab.research.google.com/assets/colab-badge.svg\" alt=\"Open In Colab\"/></a>"
   ]
  },
  {
   "cell_type": "markdown",
   "metadata": {},
   "source": [
    "## Imputers"
   ]
  },
  {
   "cell_type": "code",
   "execution_count": 12,
   "metadata": {},
   "outputs": [],
   "source": [
    "from sklearn.impute import SimpleImputer\n",
    "import numpy as np"
   ]
  },
  {
   "cell_type": "code",
   "execution_count": 23,
   "metadata": {},
   "outputs": [
    {
     "name": "stdout",
     "output_type": "stream",
     "text": [
      "[[10.  3.]\n",
      " [ 3.  5.]\n",
      " [ 5.  6.]\n",
      " [ 6.  3.]]\n",
      "[[10.  3.]\n",
      " [ 3.  5.]\n",
      " [ 5.  6.]\n",
      " [ 5.  3.]]\n",
      "[[10.  3.]\n",
      " [ 3.  5.]\n",
      " [ 5.  6.]\n",
      " [ 3.  3.]]\n",
      "[[10.  3.]\n",
      " [ 3.  5.]\n",
      " [ 5.  6.]\n",
      " [99.  3.]]\n"
     ]
    }
   ],
   "source": [
    "X= np.array([[10,3],\n",
    "[3,5],\n",
    "[5,6],\n",
    "[np.nan,3]])\n",
    "imputer = SimpleImputer(missing_values=np.nan,strategy='mean')\n",
    "imputer2 = SimpleImputer(missing_values=np.nan,strategy='median')\n",
    "imputer3 = SimpleImputer(missing_values=np.nan,strategy='most_frequent')\n",
    "imputer4 = SimpleImputer(missing_values=np.nan,strategy='constant', fill_value=99)\n",
    "\n",
    "print(imputer.fit_transform(X))\n",
    "print(imputer2.fit_transform(X))\n",
    "print(imputer3.fit_transform(X))\n",
    "print(imputer4.fit_transform(X))"
   ]
  },
  {
   "cell_type": "markdown",
   "metadata": {},
   "source": [
    "## Make Column transformer"
   ]
  },
  {
   "cell_type": "code",
   "execution_count": 10,
   "metadata": {},
   "outputs": [],
   "source": [
    "import numpy as np\n",
    "import matplotlib.pyplot as plt\n",
    "import seaborn as sns\n",
    "from sklearn.datasets import load_iris\n",
    "from sklearn.model_selection import train_test_split,GridSearchCV"
   ]
  },
  {
   "cell_type": "code",
   "execution_count": 11,
   "metadata": {},
   "outputs": [
    {
     "name": "stdout",
     "output_type": "stream",
     "text": [
      "(182,)\n",
      "(182, 11)\n"
     ]
    },
    {
     "data": {
      "text/html": [
       "<div>\n",
       "<style scoped>\n",
       "    .dataframe tbody tr th:only-of-type {\n",
       "        vertical-align: middle;\n",
       "    }\n",
       "\n",
       "    .dataframe tbody tr th {\n",
       "        vertical-align: top;\n",
       "    }\n",
       "\n",
       "    .dataframe thead th {\n",
       "        text-align: right;\n",
       "    }\n",
       "</style>\n",
       "<table border=\"1\" class=\"dataframe\">\n",
       "  <thead>\n",
       "    <tr style=\"text-align: right;\">\n",
       "      <th></th>\n",
       "      <th>survived</th>\n",
       "      <th>pclass</th>\n",
       "      <th>sex</th>\n",
       "      <th>age</th>\n",
       "      <th>sibsp</th>\n",
       "      <th>parch</th>\n",
       "      <th>fare</th>\n",
       "      <th>who</th>\n",
       "      <th>adult_male</th>\n",
       "      <th>deck</th>\n",
       "      <th>embark_town</th>\n",
       "      <th>alone</th>\n",
       "    </tr>\n",
       "  </thead>\n",
       "  <tbody>\n",
       "    <tr>\n",
       "      <th>1</th>\n",
       "      <td>1</td>\n",
       "      <td>1</td>\n",
       "      <td>female</td>\n",
       "      <td>38.0</td>\n",
       "      <td>1</td>\n",
       "      <td>0</td>\n",
       "      <td>71.2833</td>\n",
       "      <td>woman</td>\n",
       "      <td>False</td>\n",
       "      <td>C</td>\n",
       "      <td>Cherbourg</td>\n",
       "      <td>False</td>\n",
       "    </tr>\n",
       "    <tr>\n",
       "      <th>3</th>\n",
       "      <td>1</td>\n",
       "      <td>1</td>\n",
       "      <td>female</td>\n",
       "      <td>35.0</td>\n",
       "      <td>1</td>\n",
       "      <td>0</td>\n",
       "      <td>53.1000</td>\n",
       "      <td>woman</td>\n",
       "      <td>False</td>\n",
       "      <td>C</td>\n",
       "      <td>Southampton</td>\n",
       "      <td>False</td>\n",
       "    </tr>\n",
       "    <tr>\n",
       "      <th>6</th>\n",
       "      <td>0</td>\n",
       "      <td>1</td>\n",
       "      <td>male</td>\n",
       "      <td>54.0</td>\n",
       "      <td>0</td>\n",
       "      <td>0</td>\n",
       "      <td>51.8625</td>\n",
       "      <td>man</td>\n",
       "      <td>True</td>\n",
       "      <td>E</td>\n",
       "      <td>Southampton</td>\n",
       "      <td>True</td>\n",
       "    </tr>\n",
       "    <tr>\n",
       "      <th>10</th>\n",
       "      <td>1</td>\n",
       "      <td>3</td>\n",
       "      <td>female</td>\n",
       "      <td>4.0</td>\n",
       "      <td>1</td>\n",
       "      <td>1</td>\n",
       "      <td>16.7000</td>\n",
       "      <td>child</td>\n",
       "      <td>False</td>\n",
       "      <td>G</td>\n",
       "      <td>Southampton</td>\n",
       "      <td>False</td>\n",
       "    </tr>\n",
       "    <tr>\n",
       "      <th>11</th>\n",
       "      <td>1</td>\n",
       "      <td>1</td>\n",
       "      <td>female</td>\n",
       "      <td>58.0</td>\n",
       "      <td>0</td>\n",
       "      <td>0</td>\n",
       "      <td>26.5500</td>\n",
       "      <td>woman</td>\n",
       "      <td>False</td>\n",
       "      <td>C</td>\n",
       "      <td>Southampton</td>\n",
       "      <td>True</td>\n",
       "    </tr>\n",
       "  </tbody>\n",
       "</table>\n",
       "</div>"
      ],
      "text/plain": [
       "    survived  pclass     sex   age  sibsp  parch     fare    who  adult_male  \\\n",
       "1          1       1  female  38.0      1      0  71.2833  woman       False   \n",
       "3          1       1  female  35.0      1      0  53.1000  woman       False   \n",
       "6          0       1    male  54.0      0      0  51.8625    man        True   \n",
       "10         1       3  female   4.0      1      1  16.7000  child       False   \n",
       "11         1       1  female  58.0      0      0  26.5500  woman       False   \n",
       "\n",
       "   deck  embark_town  alone  \n",
       "1     C    Cherbourg  False  \n",
       "3     C  Southampton  False  \n",
       "6     E  Southampton   True  \n",
       "10    G  Southampton  False  \n",
       "11    C  Southampton   True  "
      ]
     },
     "execution_count": 11,
     "metadata": {},
     "output_type": "execute_result"
    }
   ],
   "source": [
    "titanic = sns.load_dataset('titanic')\n",
    "titanic = titanic.drop([ 'class'\t\n",
    "                        \t, 'embarked',  'alive'\t], axis=1)\n",
    "titanic.dropna(axis=0, inplace=True)\n",
    "y = titanic['survived']\n",
    "X = titanic.drop('survived', axis=1)\n",
    "numerical_features = ['pclass', 'age', 'fare','sibsp']\n",
    "categorical_features = ['sex', 'deck', 'alone','who','adult_male','embark_town']\n",
    "\n",
    "X_train, X_test, y_train, y_test = train_test_split(X, y)\n",
    "print(y.shape)\n",
    "print(X.shape)\n",
    "titanic.head()"
   ]
  },
  {
   "cell_type": "code",
   "execution_count": 8,
   "metadata": {},
   "outputs": [],
   "source": [
    "from sklearn.compose import make_column_transformer\n",
    "from sklearn.preprocessing import StandardScaler, OneHotEncoder, MinMaxScaler\n",
    "from sklearn.impute import SimpleImputer\n",
    "from sklearn.pipeline import make_pipeline\n",
    "from sklearn.linear_model import SGDClassifier \n",
    "from sklearn.neighbors import KNeighborsClassifier\n",
    "\n",
    "\n"
   ]
  },
  {
   "cell_type": "code",
   "execution_count": 58,
   "metadata": {},
   "outputs": [
    {
     "data": {
      "text/plain": [
       "Pipeline(steps=[('columntransformer',\n",
       "                 ColumnTransformer(transformers=[('standardscaler',\n",
       "                                                  StandardScaler(),\n",
       "                                                  ['age', 'fare'])])),\n",
       "                ('sgdclassifier', SGDClassifier())])"
      ]
     },
     "execution_count": 58,
     "metadata": {},
     "output_type": "execute_result"
    }
   ],
   "source": [
    "\n",
    "\n",
    "transformer = make_column_transformer((StandardScaler(), ['age', 'fare']))\n",
    "transformer.fit(X)\n",
    "\n",
    "model = make_pipeline(transformer, SGDClassifier())\n",
    "model.fit(X, y)\n",
    "\n",
    "\n"
   ]
  },
  {
   "cell_type": "code",
   "execution_count": 100,
   "metadata": {},
   "outputs": [],
   "source": [
    "numerical_pipline = make_pipeline(SimpleImputer(), StandardScaler())\n",
    "categorical_pipline = make_pipeline(SimpleImputer(\n",
    "    strategy='most_frequent'), OneHotEncoder())\n",
    "preprocessor = make_column_transformer((numerical_pipline, numerical_features),\n",
    "                                      (categorical_pipline, categorical_features))\n"
   ]
  },
  {
   "cell_type": "code",
   "execution_count": 101,
   "metadata": {},
   "outputs": [],
   "source": [
    "model = make_pipeline(preprocessor, SGDClassifier())\n"
   ]
  },
  {
   "cell_type": "code",
   "execution_count": 106,
   "metadata": {},
   "outputs": [
    {
     "name": "stdout",
     "output_type": "stream",
     "text": [
      "0.5652173913043478\n"
     ]
    }
   ],
   "source": [
    "params = {\n",
    "   \n",
    "    'sgdclassifier__penalty':['l1', 'l2']\n",
    "}\n",
    "grid = GridSearchCV(model, param_grid=params, cv=10)\n",
    "grid.fit(X_train, y_train)\n",
    "print(grid.score(X_test,y_test))"
   ]
  },
  {
   "cell_type": "code",
   "execution_count": 108,
   "metadata": {},
   "outputs": [
    {
     "name": "stdout",
     "output_type": "stream",
     "text": [
      "0.717391304347826\n"
     ]
    }
   ],
   "source": [
    "numerical_pipline = make_pipeline(SimpleImputer(), StandardScaler())\n",
    "categorical_pipline = make_pipeline(SimpleImputer(\n",
    "    strategy='most_frequent'), OneHotEncoder())\n",
    "    \n",
    "preprocessor = make_column_transformer((numerical_pipline, numerical_features),\n",
    "                                      (categorical_pipline, categorical_features))\n",
    "model = make_pipeline(preprocessor, KNeighborsClassifier())\n",
    "params = {\n",
    "       'kneighborsclassifier__n_neighbors': np.arange(1, 20),\n",
    "    'kneighborsclassifier__metric': ['minkowski','euclidean', 'manhattan']\n",
    "}\n",
    "grid = GridSearchCV(model, param_grid=params, cv=5)\n",
    "grid.fit(X_train, y_train)\n",
    "print(grid.score(X_test,y_test))"
   ]
  },
  {
   "cell_type": "markdown",
   "metadata": {},
   "source": [
    "## Make column selector"
   ]
  },
  {
   "cell_type": "code",
   "execution_count": 6,
   "metadata": {},
   "outputs": [],
   "source": [
    "from sklearn.compose import make_column_selector"
   ]
  },
  {
   "cell_type": "code",
   "execution_count": 9,
   "metadata": {},
   "outputs": [
    {
     "name": "stdout",
     "output_type": "stream",
     "text": [
      "0.8043478260869565\n"
     ]
    }
   ],
   "source": [
    "numerical_features =make_column_selector(dtype_include=np.number)\n",
    "categorical_features = make_column_selector(dtype_exclude=np.number)\n",
    "\n",
    "numerical_pipline = make_pipeline(SimpleImputer(), StandardScaler())\n",
    "categorical_pipline = make_pipeline(SimpleImputer(\n",
    "    strategy='most_frequent'), OneHotEncoder())\n",
    "    \n",
    "preprocessor = make_column_transformer((numerical_pipline, numerical_features),\n",
    "                                      (categorical_pipline, categorical_features))\n",
    "model = make_pipeline(preprocessor, KNeighborsClassifier())\n",
    "params = {\n",
    "       'kneighborsclassifier__n_neighbors': np.arange(1, 20),\n",
    "    'kneighborsclassifier__metric': ['minkowski','euclidean', 'manhattan']\n",
    "}\n",
    "grid = GridSearchCV(model, param_grid=params, cv=5)\n",
    "grid.fit(X_train, y_train)\n",
    "print(grid.score(X_test,y_test))"
   ]
  }
 ],
 "metadata": {
  "interpreter": {
   "hash": "7b34b089ce0dfc9935940e0a22050b2949fa617f7a2b73925623c261bed16aeb"
  },
  "kernelspec": {
   "display_name": "Python 3",
   "language": "python",
   "name": "python3"
  },
  "language_info": {
   "codemirror_mode": {
    "name": "ipython",
    "version": 3
   },
   "file_extension": ".py",
   "mimetype": "text/x-python",
   "name": "python",
   "nbconvert_exporter": "python",
   "pygments_lexer": "ipython3",
   "version": "3.8.5 (default, Sep  4 2020, 02:22:02) \n[Clang 10.0.0 ]"
  }
 },
 "nbformat": 4,
 "nbformat_minor": 4
}
